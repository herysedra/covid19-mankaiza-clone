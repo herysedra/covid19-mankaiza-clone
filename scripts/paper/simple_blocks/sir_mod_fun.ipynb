{
  "nbformat": 4,
  "nbformat_minor": 0,
  "metadata": {
    "colab": {
      "name": "Untitled0.ipynb",
      "provenance": [],
      "include_colab_link": true
    },
    "kernelspec": {
      "name": "python3",
      "display_name": "Python 3"
    }
  },
  "cells": [
    {
      "cell_type": "markdown",
      "metadata": {
        "id": "view-in-github",
        "colab_type": "text"
      },
      "source": [
        "<a href=\"https://colab.research.google.com/github/herysedra/covid19-mankaiza-clone/blob/andrana/scripts/paper/simple_blocks/sir_mod_fun.ipynb\" target=\"_parent\"><img src=\"https://colab.research.google.com/assets/colab-badge.svg\" alt=\"Open In Colab\"/></a>"
      ]
    },
    {
      "cell_type": "code",
      "metadata": {
        "id": "QSa41pHiyZMC",
        "colab_type": "code",
        "colab": {}
      },
      "source": [
        "import pandas as pd\n",
        "import numpy as np\n",
        "import matplotlib.pyplot as plt\n",
        "import scipy.stats\n",
        "import matplotlib\n",
        "import pickle\n",
        "\n",
        "\"\"\"\n",
        "Mahasedra comments:\n",
        "Import common Python libraries and modules : pandas, numpy, matplotlib.pyplot, scipy.stats, matplotlib, pickle\n",
        "\"\"\"\n",
        "\n",
        "confirmed_cases_url = 'https://raw.githubusercontent.com/CSSEGISandData/COVID-19/master/csse_covid_19_data/csse_covid_19_time_series/time_series_covid19_confirmed_global.csv'\n",
        "confirmed_cases = pd.read_csv(confirmed_cases_url, sep=',')\n",
        "deaths_url =  'https://raw.githubusercontent.com/CSSEGISandData/COVID-19/master/csse_covid_19_data/csse_covid_19_time_series/time_series_covid19_deaths_global.csv'\n",
        "deaths = pd.read_csv(deaths_url, sep=',')\n",
        "path_to_save = '../../figures/'\n",
        "path_data = '../../data/'\n",
        "\n"
      ],
      "execution_count": 0,
      "outputs": []
    },
    {
      "cell_type": "code",
      "metadata": {
        "id": "uGyIgy8EXCdj",
        "colab_type": "code",
        "colab": {}
      },
      "source": [
        "import pymc3 as pm\n",
        "import theano.tensor as tt\n",
        "import theano\n",
        "import datetime\n",
        "import time\n",
        "\n",
        "def SIR_model(λ, μ, S_begin, I_begin, N):\n",
        "    new_I_0 = tt.zeros_like(I_begin)\n",
        "    def next_day(λ, S_t, I_t, _):\n",
        "        new_I_t = λ/N*I_t*S_t\n",
        "        S_t = S_t - new_I_t\n",
        "        I_t = I_t + new_I_t - μ * I_t\n",
        "        return S_t, I_t, new_I_t\n",
        "    outputs , _  = theano.scan(fn=next_day, sequences=[λ], \n",
        "                               outputs_info=[S_begin, I_begin, new_I_0])\n",
        "    S_all, I_all, new_I_all = outputs\n",
        "    return S_all, I_all, new_I_all\n",
        "\n",
        "\"\"\"\n",
        "def SIR_model(λ, μ, S_begin, I_begin, N):\n",
        "    def next_day(λ, S_t, I_t, _):\n",
        "        new_I_t = λ/N*I_t*S_t\n",
        "        S_t = S_t - new_I_t\n",
        "        I_t = I_t + new_I_t - μ * I_t\n",
        "        return S_t, I_t, new_I_t\n",
        "    outputs , _  = theano.scan(fn=next_day, sequences=[λ], \n",
        "                               outputs_info=[S_begin, I_begin, tt.zeros_like(I_begin)])\n",
        "    S_all, I_all, new_I_all = outputs\n",
        "    return S_all, I_all, new_I_all\n",
        "\"\"\"\n",
        "# The output of SIR_model is the 1st component of the result of a theano.scan\n",
        "# sequences = [λ] : not totally clear"
      ],
      "execution_count": 0,
      "outputs": []
    }
  ]
}