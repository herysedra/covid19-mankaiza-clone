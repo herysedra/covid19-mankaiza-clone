{
  "nbformat": 4,
  "nbformat_minor": 0,
  "metadata": {
    "colab": {
      "name": "Untitled0.ipynb",
      "provenance": [],
      "authorship_tag": "ABX9TyMu8jJq72GBpQmwn88KaDv7",
      "include_colab_link": true
    },
    "kernelspec": {
      "name": "python3",
      "display_name": "Python 3"
    }
  },
  "cells": [
    {
      "cell_type": "markdown",
      "metadata": {
        "id": "view-in-github",
        "colab_type": "text"
      },
      "source": [
        "<a href=\"https://colab.research.google.com/github/herysedra/covid19-mankaiza-clone/blob/andrana/scripts/paper/simple_blocks/sir_mod_fun.ipynb\" target=\"_parent\"><img src=\"https://colab.research.google.com/assets/colab-badge.svg\" alt=\"Open In Colab\"/></a>"
      ]
    },
    {
      "cell_type": "code",
      "metadata": {
        "id": "IQZI2xw3Ny9O",
        "colab_type": "code",
        "colab": {}
      },
      "source": [
        "import pandas as pd\n",
        "import numpy as np\n",
        "import matplotlib.pyplot as plt\n",
        "import scipy.stats\n",
        "import matplotlib\n",
        "import pickle\n",
        "\n",
        "import pymc3 as pm\n",
        "import theano.tensor as tt\n",
        "import theano\n",
        "import datetime\n",
        "import time\n",
        "\n",
        "k = T.iscalar(\"k\")\n",
        "A = T.iscalar(\"A\")\n",
        "B = T.iscalar(\"B\")\n",
        "\n",
        "def SIR_model(λ, μ, S_begin, I_begin, N):\n",
        "    new_I_0 = tt.zeros_like(I_begin)\n",
        "    def next_day(λ, S_t, I_t, _):\n",
        "        new_I_t = λ/N*I_t*S_t\n",
        "        S_t = S_t - new_I_t\n",
        "        I_t = I_t + new_I_t - μ * I_t\n",
        "        return S_t, I_t, new_I_t\n",
        "    outputs , _  = theano.scan(fn=next_day, sequences=[λ], \n",
        "                               outputs_info=[S_begin, I_begin, new_I_0])\n",
        "    S_all, I_all, new_I_all = outputs\n",
        "    return S_all, I_all, new_I_all\n",
        "\n",
        "I_begin = A \n",
        "S_begin = B\n",
        "\n",
        "S_past, I_past, new_I_past = SIR_model(λ=λ * tt.ones(num_days-1), μ=μ, \n",
        "                                               S_begin=S_begin, I_begin=I_begin,\n",
        "                                               N=N_germany)\n",
        "print "
      ],
      "execution_count": 0,
      "outputs": []
    }
  ]
}