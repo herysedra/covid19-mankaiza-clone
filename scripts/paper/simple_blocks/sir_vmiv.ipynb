{
  "nbformat": 4,
  "nbformat_minor": 0,
  "metadata": {
    "colab": {
      "name": "Untitled2.ipynb",
      "provenance": [],
      "include_colab_link": true
    },
    "kernelspec": {
      "name": "python3",
      "display_name": "Python 3"
    }
  },
  "cells": [
    {
      "cell_type": "markdown",
      "metadata": {
        "id": "view-in-github",
        "colab_type": "text"
      },
      "source": [
        "<a href=\"https://colab.research.google.com/github/herysedra/covid19-mankaiza-clone/blob/andrana/scripts/paper/simple_blocks/sir_vmiv.ipynb\" target=\"_parent\"><img src=\"https://colab.research.google.com/assets/colab-badge.svg\" alt=\"Open In Colab\"/></a>"
      ]
    },
    {
      "cell_type": "code",
      "metadata": {
        "id": "YnARACbal_6x",
        "colab_type": "code",
        "outputId": "8adad492-58d9-44ec-bc3f-0ea41ec6091c",
        "colab": {
          "base_uri": "https://localhost:8080/",
          "height": 54
        }
      },
      "source": [
        "from google.colab import drive\n",
        "drive.mount('/content/drive')"
      ],
      "execution_count": 7,
      "outputs": [
        {
          "output_type": "stream",
          "text": [
            "Drive already mounted at /content/drive; to attempt to forcibly remount, call drive.mount(\"/content/drive\", force_remount=True).\n"
          ],
          "name": "stdout"
        }
      ]
    },
    {
      "cell_type": "code",
      "metadata": {
        "id": "FzPFm90IF95C",
        "colab_type": "code",
        "colab": {}
      },
      "source": [
        "import pandas as pd\n",
        "import numpy as np\n",
        "import matplotlib.pyplot as plt\n",
        "import scipy.stats\n",
        "import matplotlib\n",
        "import pickle\n",
        "\n",
        "import pymc3 as pm\n",
        "import theano.tensor as tt\n",
        "import theano\n",
        "import datetime\n",
        "import time\n",
        "\n",
        "\n",
        "cco_cases_mdg = pd.read_csv(\"/content/drive/My Drive/data/cco mdg.csv\")\n",
        "\n",
        "\n",
        "cco_cases_mdg.set_index('Date', inplace=True)\n",
        "\n",
        "\n",
        "path_to_save = '/content/drive/My Drive/sary/'\n",
        "path_data = '/content/drive/My Drive/data/'"
      ],
      "execution_count": 0,
      "outputs": []
    },
    {
      "cell_type": "code",
      "metadata": {
        "id": "XRa2mj0ox0cV",
        "colab_type": "code",
        "colab": {}
      },
      "source": [
        "date_data_begin = datetime.date(2020,4,2)\n",
        "date_data_end = datetime.date(2020,4,15)\n",
        "\n",
        "\n",
        "format_date = lambda date_py: '{}/{}/{}'.format(date_py.month, date_py.day,\n",
        "                                                 str(date_py.year)[2:4])\n",
        "\n",
        "date_formatted_begin = format_date(date_data_begin)\n",
        "date_formatted_end = format_date(date_data_end)\n",
        "\n",
        "\n",
        "cases_c_m_obs =  np.array(cco_cases_mdg.loc[date_formatted_begin:date_formatted_end, 'confirmes tvm'])\n",
        "cco_tot_lst = list(cases_c_m_obs)"
      ],
      "execution_count": 0,
      "outputs": []
    },
    {
      "cell_type": "code",
      "metadata": {
        "id": "bD14_A-cecI_",
        "colab_type": "code",
        "outputId": "b2a3c17c-52a5-4560-981e-eee3eff20e9c",
        "colab": {
          "base_uri": "https://localhost:8080/",
          "height": 334
        }
      },
      "source": [
        "NT = 2e6\n",
        "N10 = 1e4\n",
        "N1 = 1e3\n",
        "\n",
        "ST = NT - 54\n",
        "S10 = N10 - 54\n",
        "S1 = N1 - 54\n",
        "\n",
        "ST3 = NT - 54\n",
        "S103 = N10 - 54\n",
        "S13 = N1 - 54\n",
        "\n",
        "ItotT = 54\n",
        "IvT = 4\n",
        "IT = 54 # mbola tsy nisy sitrana hatreo\n",
        "\n",
        "ItotT_lst = []\n",
        "IvT_lst = []\n",
        "\n",
        "Itot10 = 54\n",
        "Iv10 = 4\n",
        "I10 = 54 \n",
        "\n",
        "Itot10_lst = []\n",
        "Iv10_lst = []\n",
        "\n",
        "Itot1 = 54\n",
        "Iv1 = 4\n",
        "I1 = 54 \n",
        "\n",
        "Itot1_lst = []\n",
        "Iv1_lst = []\n",
        "\n",
        "ItotT3 = 54\n",
        "IvT3 = 4\n",
        "IT3 = 54 \n",
        "\n",
        "ItotT3_lst = []\n",
        "IvT3_lst = []\n",
        "\n",
        "Itot103 = 54\n",
        "Iv103 = 4\n",
        "I103 = 54 \n",
        "\n",
        "Itot103_lst = []\n",
        "Iv103_lst = []\n",
        "\n",
        "Itot13 = 54\n",
        "Iv13 = 4\n",
        "I13 = 54 \n",
        "\n",
        "Itot13_lst = []\n",
        "Iv13_lst = []\n",
        "\n",
        "lc = 0.12\n",
        "mc = 0.15\n",
        "\n",
        "l3 = 0.45\n",
        "m3 = 0.15\n",
        "\n",
        "daty_lav = datetime.date(2020,4,1)\n",
        "formatf_date = lambda date_py: '{}/{}'.format(date_py.day, date_py.month)\n",
        "\n",
        "daty_lst = []\n",
        "\n",
        "\n",
        "for el in range(14):\n",
        "  daty_lav =  daty_lav + datetime.timedelta(days = 1)\n",
        "  daty = formatf_date(daty_lav)\n",
        "  daty_lst.append(daty)\n",
        "\n",
        "  IvT = (lc/NT)*ST*IT\n",
        "  ST = ST - (lc/NT)*IT\n",
        "  IT = IT + IvT - mc*IT\n",
        "  ItotT = ItotT + IvT\n",
        "  \n",
        "  ItotT_lst.append(round(ItotT, 2))\n",
        "  IvT_lst.append(round(IvT, 2))\n",
        "  \n",
        "  Iv10 = (lc/N10)*S10*I10\n",
        "  S10 = S10 - (lc/N10)*I10\n",
        "  I10 = I10 + Iv10 - mc*I10\n",
        "  Itot10 = Itot10 + Iv10 \n",
        "\n",
        "  Itot10_lst.append(round(Itot10, 2))\n",
        "  Iv10_lst.append(round(Iv10, 2))\n",
        "\n",
        "  Iv1 = (lc/N1)*S1*I1\n",
        "  S1 = S1 - (lc/N1)*I1\n",
        "  I1 = I1 + Iv1 - mc*I1\n",
        "  Itot1 = Itot1 + Iv1 \n",
        "\n",
        "  Itot1_lst.append(round(Itot1, 2))\n",
        "  Iv1_lst.append(round(Iv1, 2))\n",
        "\n",
        "  IvT3 = (l3/NT)*ST3*IT3\n",
        "  ST3 = ST3 - (l3/NT)*IT3\n",
        "  IT3 = IT3 + IvT3 - m3*IT3\n",
        "  ItotT3 = ItotT3 + IvT3\n",
        "\n",
        "  ItotT3_lst.append(round(ItotT3, 2))\n",
        "  IvT3_lst.append(round(IvT3, 2))\n",
        "\n",
        "  Iv103 = (l3/N10)*S103*I103\n",
        "  S103 = S103 - (l3/N10)*I103\n",
        "  I103 = I103 + Iv103 - m3*I103\n",
        "  Itot103 = Itot103 + Iv103 \n",
        "\n",
        "  Itot103_lst.append(round(Itot103, 2))\n",
        "  Iv103_lst.append(round(Iv103, 2))\n",
        "\n",
        "  Iv13 = (l3/N1)*S13*I13\n",
        "  S13 = S13 - (l3/N1)*I13\n",
        "  I13 = I13 + Iv13 - m3*I13\n",
        "  Itot13 = Itot13 + Iv13\n",
        "\n",
        "  Itot13_lst.append(round(Itot13, 2))\n",
        "  Iv13_lst.append(round(Iv13, 2))\n",
        "\n",
        " # print(daty, round(ItotT, 2), '&', round(IvT, 2), '&', round(Itot10, 2), '&', round(Iv10, 2), '&', round(Itot1, 2), '&', round(Iv1, 2), '&', round(ItotT3, 2), '&', round(IvT3, 2), '&', round(Itot103, 2), '&', round(Iv103, 2), '&', round(Itot13, 2), '&', round(Iv13, 2))\n",
        "#print('ItotT :', ItotT_lst, sep=\" \")\n",
        "\n",
        "plt.figure()\n",
        "plt.plot(daty_lst, cco_tot_lst, marker =\"+\",ls = 'None', color='black',label=\"Antontan'isa CCO\")\n",
        "plt.plot(daty_lst,ItotT_lst, \"1\", ls = 'None', label='Tombana Tranga1')\n",
        "plt.plot(daty_lst,Itot10_lst, marker =\"2\",ls = 'None', color='red',label='Tombana Tranga2')\n",
        "plt.plot(daty_lst,Itot1_lst, marker = \"3\", ls = 'None', color='grey', label='Tombana Tranga3')\n",
        "plt.xlabel('Andro')\n",
        "plt.ylabel(\"Isan'ireo voa rehetra\")\n",
        "plt.legend(loc= 'best')\n",
        "#plt.suptitle(\"Fivoarana raha R0 omen'ny antontan'isa CCO\")\n",
        "plt.savefig(path_to_save+'R0ccoSIRmiv.eps')"
      ],
      "execution_count": 42,
      "outputs": [
        {
          "output_type": "stream",
          "text": [
            "The PostScript backend does not support transparency; partially transparent artists will be rendered opaque.\n",
            "The PostScript backend does not support transparency; partially transparent artists will be rendered opaque.\n"
          ],
          "name": "stderr"
        },
        {
          "output_type": "display_data",
          "data": {
            "image/png": "[encoded data removed]",
            "text/plain": [
              "<Figure size 432x288 with 1 Axes>"
            ]
          },
          "metadata": {
            "tags": [],
            "needs_background": "light"
          }
        }
      ]
    },
    {
      "cell_type": "code",
      "metadata": {
        "id": "R0_1Km8JvrOe",
        "colab_type": "code",
        "outputId": "e5a93781-9979-474d-f876-4ca6c72dba6c",
        "colab": {
          "base_uri": "https://localhost:8080/",
          "height": 334
        }
      },
      "source": [
        "plt.figure()\n",
        "plt.plot(daty_lst, cco_tot_lst, marker =\"+\",ls = 'None', color='black',label=\"Antontan'isa CCO\")\n",
        "plt.plot(daty_lst,ItotT3_lst, \"o\", ls = 'None', color='blue', label='Tombana Tranga4')\n",
        "plt.plot(daty_lst,Itot103_lst, marker =\"d\",ls = 'None', color='cyan',label='Tombana Tranga5')\n",
        "plt.plot(daty_lst,Itot13_lst, marker = \"h\", ls = 'None', color='fuchsia', label='Tombana Tranga6')\n",
        "plt.xlabel('Andro')\n",
        "plt.ylabel(\"Isan'ireo voa rehetra\")\n",
        "plt.legend(loc= 'best')\n",
        "#plt.suptitle(\"Fivoarana raha R0 = 3 (R0 = 3,41 hoan'i Germany t@ 1-15/03)\")\n",
        "plt.savefig(path_to_save+'R03SIRmiv.eps')"
      ],
      "execution_count": 40,
      "outputs": [
        {
          "output_type": "stream",
          "text": [
            "The PostScript backend does not support transparency; partially transparent artists will be rendered opaque.\n",
            "The PostScript backend does not support transparency; partially transparent artists will be rendered opaque.\n"
          ],
          "name": "stderr"
        },
        {
          "output_type": "display_data",
          "data": {
            "image/png": "[encoded data removed]",
            "text/plain": [
              "<Figure size 432x288 with 1 Axes>"
            ]
          },
          "metadata": {
            "tags": [],
            "needs_background": "light"
          }
        }
      ]
    },
    {
      "cell_type": "code",
      "metadata": {
        "id": "RVPsiIwojzC1",
        "colab_type": "code",
        "outputId": "c4c1ac38-b448-4446-8947-7934c91668c1",
        "colab": {
          "base_uri": "https://localhost:8080/",
          "height": 365
        }
      },
      "source": [
        "\"\"\"\n",
        "λ = tt.iscalar(\"λ\")\n",
        "μ = tt.iscalar(\"μ\")\n",
        "S_t = tt.matrix(\"S_t\")\n",
        "I_t = tt.matrix(\"I_t\")\n",
        "N = tt.iscalar(\"N\")\n",
        "S_begin = tt.matrix(\"S_begin\")\n",
        "I_begin = tt.matrix(\"I_begin\")\n",
        "I_all = tt.matrix\n",
        "andro = tt.iscalar(\"andro\")\n",
        "\n",
        "s0 = tt.matrix()\n",
        "i0 = tt.matrix()\n",
        "ni0 = tt.matrix()\n",
        "\"\"\"\n",
        "\n",
        "def SIR_model(λ, μ, S_begin, I_begin, N):\n",
        "    new_I_0 = tt.zeros_like(I_begin)\n",
        "    def next_day(λ, S_t, I_t, _):\n",
        "        new_I_t = λ/N*I_t*S_t\n",
        "        S_t = S_t - new_I_t\n",
        "        I_t = I_t + new_I_t - μ * I_t\n",
        "        return S_t, I_t, new_I_t\n",
        "    outputs , _  = theano.scan(fn=next_day, sequences=[λ],\n",
        "                               n_steps = andro, \n",
        "                               outputs_info=[S_begin, I_begin, new_I_0])\n",
        "    S_all, I_all, new_I_all = outputs\n",
        "    return S_all, I_all, new_I_all \n",
        "\n",
        "N_tana = 2000000\n",
        "I_begin = 54\n",
        "S_begin = N_tana - I_begin\n",
        "\n",
        "S_past, I_past, new_I_past = SIR_model(λ=0.45*tt.ones(14), μ=0.15, \n",
        "                                               S_begin=S_begin, I_begin=I_begin,\n",
        "                                               N=N_tana)\n",
        "print(new_I_past)"
      ],
      "execution_count": 0,
      "outputs": [
        {
          "output_type": "error",
          "ename": "AttributeError",
          "evalue": "ignored",
          "traceback": [
            "\u001b[0;31m---------------------------------------------------------------------------\u001b[0m",
            "\u001b[0;31mAttributeError\u001b[0m                            Traceback (most recent call last)",
            "\u001b[0;32m<ipython-input-67-12957693a8b1>\u001b[0m in \u001b[0;36m<module>\u001b[0;34m()\u001b[0m\n\u001b[1;32m     34\u001b[0m S_past, I_past, new_I_past = SIR_model(λ=0.45*tt.ones(14), μ=0.15, \n\u001b[1;32m     35\u001b[0m                                                \u001b[0mS_begin\u001b[0m\u001b[0;34m=\u001b[0m\u001b[0mS_begin\u001b[0m\u001b[0;34m,\u001b[0m \u001b[0mI_begin\u001b[0m\u001b[0;34m=\u001b[0m\u001b[0mI_begin\u001b[0m\u001b[0;34m,\u001b[0m\u001b[0;34m\u001b[0m\u001b[0;34m\u001b[0m\u001b[0m\n\u001b[0;32m---> 36\u001b[0;31m                                                N=N_tana)\n\u001b[0m\u001b[1;32m     37\u001b[0m \u001b[0mprint\u001b[0m\u001b[0;34m(\u001b[0m\u001b[0mnew_I_past\u001b[0m\u001b[0;34m)\u001b[0m\u001b[0;34m\u001b[0m\u001b[0;34m\u001b[0m\u001b[0m\n",
            "\u001b[0;32m<ipython-input-67-12957693a8b1>\u001b[0m in \u001b[0;36mSIR_model\u001b[0;34m(λ, μ, S_begin, I_begin, N)\u001b[0m\n\u001b[1;32m     16\u001b[0m \u001b[0;34m\u001b[0m\u001b[0m\n\u001b[1;32m     17\u001b[0m \u001b[0;32mdef\u001b[0m \u001b[0mSIR_model\u001b[0m\u001b[0;34m(\u001b[0m\u001b[0mλ\u001b[0m\u001b[0;34m,\u001b[0m \u001b[0mμ\u001b[0m\u001b[0;34m,\u001b[0m \u001b[0mS_begin\u001b[0m\u001b[0;34m,\u001b[0m \u001b[0mI_begin\u001b[0m\u001b[0;34m,\u001b[0m \u001b[0mN\u001b[0m\u001b[0;34m)\u001b[0m\u001b[0;34m:\u001b[0m\u001b[0;34m\u001b[0m\u001b[0;34m\u001b[0m\u001b[0m\n\u001b[0;32m---> 18\u001b[0;31m     \u001b[0mnew_I_0\u001b[0m \u001b[0;34m=\u001b[0m \u001b[0mtt\u001b[0m\u001b[0;34m.\u001b[0m\u001b[0mzeros_like\u001b[0m\u001b[0;34m(\u001b[0m\u001b[0mI_begin\u001b[0m\u001b[0;34m)\u001b[0m\u001b[0;34m\u001b[0m\u001b[0;34m\u001b[0m\u001b[0m\n\u001b[0m\u001b[1;32m     19\u001b[0m     \u001b[0;32mdef\u001b[0m \u001b[0mnext_day\u001b[0m\u001b[0;34m(\u001b[0m\u001b[0mλ\u001b[0m\u001b[0;34m,\u001b[0m \u001b[0mS_t\u001b[0m\u001b[0;34m,\u001b[0m \u001b[0mI_t\u001b[0m\u001b[0;34m,\u001b[0m \u001b[0m_\u001b[0m\u001b[0;34m)\u001b[0m\u001b[0;34m:\u001b[0m\u001b[0;34m\u001b[0m\u001b[0;34m\u001b[0m\u001b[0m\n\u001b[1;32m     20\u001b[0m         \u001b[0mnew_I_t\u001b[0m \u001b[0;34m=\u001b[0m \u001b[0mλ\u001b[0m\u001b[0;34m/\u001b[0m\u001b[0mN\u001b[0m\u001b[0;34m*\u001b[0m\u001b[0mI_t\u001b[0m\u001b[0;34m*\u001b[0m\u001b[0mS_t\u001b[0m\u001b[0;34m\u001b[0m\u001b[0;34m\u001b[0m\u001b[0m\n",
            "\u001b[0;32m/usr/local/lib/python3.6/dist-packages/theano/tensor/basic.py\u001b[0m in \u001b[0;36mzeros_like\u001b[0;34m(model, dtype, opt)\u001b[0m\n\u001b[1;32m   2541\u001b[0m \u001b[0;34m\u001b[0m\u001b[0m\n\u001b[1;32m   2542\u001b[0m     \u001b[0;32mif\u001b[0m \u001b[0mdtype\u001b[0m \u001b[0;32mis\u001b[0m \u001b[0;32mNone\u001b[0m\u001b[0;34m:\u001b[0m\u001b[0;34m\u001b[0m\u001b[0;34m\u001b[0m\u001b[0m\n\u001b[0;32m-> 2543\u001b[0;31m         \u001b[0mdtype\u001b[0m \u001b[0;34m=\u001b[0m \u001b[0mmodel\u001b[0m\u001b[0;34m.\u001b[0m\u001b[0mtype\u001b[0m\u001b[0;34m.\u001b[0m\u001b[0mdtype\u001b[0m\u001b[0;34m\u001b[0m\u001b[0;34m\u001b[0m\u001b[0m\n\u001b[0m\u001b[1;32m   2544\u001b[0m     \u001b[0mret\u001b[0m \u001b[0;34m=\u001b[0m \u001b[0mconstant\u001b[0m\u001b[0;34m(\u001b[0m\u001b[0;36m0.0\u001b[0m\u001b[0;34m,\u001b[0m \u001b[0mdtype\u001b[0m\u001b[0;34m=\u001b[0m\u001b[0mdtype\u001b[0m\u001b[0;34m)\u001b[0m\u001b[0;34m\u001b[0m\u001b[0;34m\u001b[0m\u001b[0m\n\u001b[1;32m   2545\u001b[0m     \u001b[0;32mif\u001b[0m \u001b[0mopt\u001b[0m \u001b[0;32mand\u001b[0m \u001b[0mret\u001b[0m\u001b[0;34m.\u001b[0m\u001b[0mtype\u001b[0m \u001b[0;34m==\u001b[0m \u001b[0mmodel\u001b[0m\u001b[0;34m.\u001b[0m\u001b[0mtype\u001b[0m\u001b[0;34m:\u001b[0m\u001b[0;34m\u001b[0m\u001b[0;34m\u001b[0m\u001b[0m\n",
            "\u001b[0;31mAttributeError\u001b[0m: 'int' object has no attribute 'type'"
          ]
        }
      ]
    },
    {
      "cell_type": "code",
      "metadata": {
        "id": "6c76-mvzGRnQ",
        "colab_type": "code",
        "colab": {}
      },
      "source": [
        "def SIR_model(λ, μ, S_begin, I_begin, N):\n",
        "    new_I_0 = tt.zeros_like(I_begin)\n",
        "    def next_day(λ, S_t, I_t, _):\n",
        "        new_I_t = λ/N*I_t*S_t\n",
        "        S_t = S_t - new_I_t\n",
        "        I_t = I_t + new_I_t - μ * I_t\n",
        "        return S_t, I_t, new_I_t\n",
        "    outputs , _  = theano.scan(fn=next_day, sequences=[λ], \n",
        "                               outputs_info=[S_begin, I_begin, new_I_0])\n",
        "    S_all, I_all, new_I_all = outputs\n",
        "    return S_all, I_all, new_I_all\n",
        "\n",
        "#  SIR_mod_funct = theano.function(\n",
        "#     inputs = λ, μ, S_begin, I_begin, N\n",
        "#     outputs = S_past, I_past, new_I_past\n",
        "    )\n",
        "with pm.Model() as model:\n",
        "    # true cases at begin of loaded data but we do not know the real number\n",
        "    I_begin = pm.HalfCauchy('I_begin', beta=100)\n",
        "\n",
        "    # fraction of people that are newly infected each day\n",
        "    λ = pm.Lognormal(\"λ\", mu=np.log(0.4), sigma=0.5)\n",
        "\n",
        "    # fraction of people that recover each day, recovery rate mu\n",
        "    μ = pm.Lognormal('μ', mu=np.log(1/8), sigma=0.2)\n",
        "\n",
        "    # delay in days between contracting the disease and being recorded\n",
        "    delay = pm.Lognormal(\"delay\", mu=np.log(8), sigma=0.2)\n",
        "\n",
        "    # prior of the error of observed cases\n",
        "    σ_obs = pm.HalfCauchy(\"σ_obs\", beta=10)\n",
        "\n",
        "    N_germany = 83e6\n",
        "\n",
        "   # -------------------------------------------------------------------------- #\n",
        "    # training the model with loaded data\n",
        "    # -------------------------------------------------------------------------- #\n",
        "\n",
        "    S_begin = N_germany - I_begin\n",
        "    S_past, I_past, new_I_past = SIR_model(λ=λ * tt.ones(num_days-1), μ=μ, \n",
        "                                               S_begin=S_begin, I_begin=I_begin,\n",
        "                                               N=N_germany)\n",
        "    new_cases_obs = np.diff(cases_obs)\n",
        "    new_cases_inferred = delay_cases(new_I_past, len_new_I_t=num_days - 1, \n",
        "                                     len_new_cases_obs=len(new_cases_obs), \n",
        "                                     delay=delay, delay_arr=diff_data_sim)\n",
        "\n",
        "    # Approximates Poisson\n",
        "    # calculate the likelihood of the model:\n",
        "    # observed cases are distributed following studentT around the model\n",
        "    pm.StudentT(\n",
        "        \"obs\",\n",
        "        nu=4,\n",
        "        mu=new_cases_inferred,\n",
        "        sigma=(new_cases_inferred)**0.5 * σ_obs,\n",
        "        observed=new_cases_obs)  \n",
        "    \n",
        "    S_past = pm.Deterministic('S_past', S_past)\n",
        "    I_past = pm.Deterministic('I_past', I_past)\n",
        "    new_I_past = pm.Deterministic('new_I_past', new_I_past)\n",
        "    new_cases_past = pm.Deterministic('new_cases_past', new_cases_inferred)\n",
        "    \n",
        "    \"\"\"\"\n",
        "    Mahasedra: \n",
        "    pymc3.model.Deterministic(name, var, model=None)¶\n",
        "    Create a named deterministic variable\n",
        "    Parameters: name string ; var theano variables\n",
        "    Returns : var, with name attribute\n",
        "    \n",
        "    In the case of the simple SIR model, the variables S, new_I and \n",
        "    new_(reported)cases are determined from the SIR model that why they are \n",
        "    deterministic.\n",
        "    \"\"\"\"\n",
        "\n",
        "    # -------------------------------------------------------------------------- #\n",
        "    # prediction, start with no changes in policy\n",
        "    # -------------------------------------------------------------------------- #\n",
        "\n",
        "    S_begin = S_past[-1]\n",
        "    I_begin = I_past[-1]\n",
        "    forecast_no_change = SIR_model(λ=λ*tt.ones(num_days_to_predict), μ=μ, \n",
        "                        S_begin=S_begin, I_begin=I_begin, N=N_germany)\n",
        "    S_no_change, I_no_change, new_I_no_change = forecast_no_change\n",
        "\n",
        "    #saves the variables for later retrieval\n",
        "    pm.Deterministic('S_no_change', S_no_change)\n",
        "    pm.Deterministic('I_no_change', I_no_change)\n",
        "    pm.Deterministic('new_I_no_change', new_I_no_change)\n",
        "\n",
        "    new_cases_inferred = delay_cases(tt.concatenate([new_I_past[-diff_data_sim:], new_I_no_change]), \n",
        "                                     len_new_I_t=diff_data_sim + num_days_to_predict, \n",
        "                                     len_new_cases_obs=num_days_to_predict, \n",
        "                                     delay=delay, delay_arr=diff_data_sim)\n",
        "    pm.Deterministic('new_cases_no_change', new_cases_inferred)\n",
        "\n"
      ],
      "execution_count": 0,
      "outputs": []
    },
    {
      "cell_type": "code",
      "metadata": {
        "id": "_b_6fSkIHHYQ",
        "colab_type": "code",
        "colab": {}
      },
      "source": [
        "   # -------------------------------------------------------------------------- #\n",
        "    # social distancing, m reduced by about 50 percent\n",
        "    # -------------------------------------------------------------------------- #\n",
        "    #For all following predictions:\n",
        "    length_transient = 7  # days\n",
        "\n",
        "\n",
        "    # λ is decreased by 50%\n",
        "    reduc_factor_mild = 0.5\n",
        "    days_offset = 0  # start the decrease in spreading rate after this\n",
        "\n",
        "    time_arr = np.arange(num_days_to_predict)\n",
        "\n",
        "    # change in m along time\n",
        "    λ_correction = tt.clip((time_arr - days_offset) / length_transient, 0, 1)\n",
        "    λ_t_soc_dist= λ * (1 - λ_correction * reduc_factor_mild) \n",
        "\n",
        "    S_begin = S_past[-1]\n",
        "    I_begin = I_past[-1]\n",
        "    forecast_soc_dist = SIR_model(λ=λ_t_soc_dist, μ=μ, \n",
        "                        S_begin=S_begin, I_begin=I_begin, \n",
        "                        N=N_germany)\n",
        "    S_soc_dist, I_soc_dist, new_I_soc_dist = forecast_soc_dist\n",
        "    pm.Deterministic('S_soc_dist', S_soc_dist)\n",
        "    pm.Deterministic('I_soc_dist', I_soc_dist)\n",
        "    pm.Deterministic('new_I_soc_dist', new_I_soc_dist)\n",
        "\n",
        "    new_cases_inferred = delay_cases(tt.concatenate([new_I_past[-diff_data_sim:], new_I_soc_dist]), \n",
        "                                    len_new_I_t=diff_data_sim + num_days_to_predict, \n",
        "                                    len_new_cases_obs=num_days_to_predict, \n",
        "                                    delay=delay, delay_arr=diff_data_sim)\n",
        "    pm.Deterministic('new_cases_soc_dist', new_cases_inferred)"
      ],
      "execution_count": 0,
      "outputs": []
    },
    {
      "cell_type": "code",
      "metadata": {
        "id": "cDlbyB0uHqHG",
        "colab_type": "code",
        "colab": {}
      },
      "source": [
        "  # -------------------------------------------------------------------------- #\n",
        "    # isolation, almost no new infections besides baseline after transient phase\n",
        "    # -------------------------------------------------------------------------- #\n",
        "\n",
        "    # λ is decreased by 90%\n",
        "    reduc_factor_strong = 0.9\n",
        "    days_offset = 0  # start the decrease in spreading rate after this\n",
        "\n",
        "    # spreading of people who transmit although they are isolated\n",
        "    time_arr = np.arange(num_days_to_predict)\n",
        "\n",
        "    # change in λ along time\n",
        "    λ_correction = tt.clip((time_arr - days_offset) / length_transient, 0, 1)\n",
        "    λ_t_isol= λ * (1 - λ_correction * reduc_factor_strong)\n",
        "\n",
        "    S_begin = S_past[-1]\n",
        "    I_begin = I_past[-1]\n",
        "    forecast_isol = SIR_model(λ=λ_t_isol , μ=μ, \n",
        "                              S_begin=S_begin, I_begin=I_begin, \n",
        "                              N=N_germany)\n",
        "    S_isol, I_isol, new_I_isol = forecast_isol\n",
        "\n",
        "    pm.Deterministic('S_isol', S_isol)\n",
        "    pm.Deterministic('I_isol', I_isol)  \n",
        "    pm.Deterministic('new_I_isol', new_I_isol)\n",
        "\n",
        "    new_cases_inferred = delay_cases(tt.concatenate([new_I_past[-diff_data_sim:], new_I_isol]), \n",
        "                                len_new_I_t=diff_data_sim + num_days_to_predict, \n",
        "                                len_new_cases_obs=num_days_to_predict, \n",
        "                                delay=delay, delay_arr=diff_data_sim)\n",
        "    pm.Deterministic('new_cases_isol', new_cases_inferred)\n"
      ],
      "execution_count": 0,
      "outputs": []
    }
  ]
}