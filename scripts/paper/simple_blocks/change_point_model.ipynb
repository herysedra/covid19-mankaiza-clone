{
  "nbformat": 4,
  "nbformat_minor": 0,
  "metadata": {
    "colab": {
      "name": "change_point model.ipynb",
      "provenance": [],
      "authorship_tag": "ABX9TyOOklcf1QFLJfHP4eYYa4hy",
      "include_colab_link": true
    },
    "kernelspec": {
      "name": "python3",
      "display_name": "Python 3"
    }
  },
  "cells": [
    {
      "cell_type": "markdown",
      "metadata": {
        "id": "view-in-github",
        "colab_type": "text"
      },
      "source": [
        "<a href=\"https://colab.research.google.com/github/herysedra/covid19-mankaiza-clone/blob/andrana/scripts/paper/simple_blocks/change_point_model.ipynb\" target=\"_parent\"><img src=\"https://colab.research.google.com/assets/colab-badge.svg\" alt=\"Open In Colab\"/></a>"
      ]
    },
    {
      "cell_type": "code",
      "metadata": {
        "id": "ROTyBNnmTmoG",
        "colab_type": "code",
        "colab": {
          "base_uri": "https://localhost:8080/",
          "height": 296
        },
        "outputId": "19cfdae7-bb07-4cba-e9e5-d5b25bfc0ff9"
      },
      "source": [
        "import pymc3 as pm\n",
        "import theano.tensor as tt\n",
        "import theano\n",
        "import datetime\n",
        "import time\n",
        "\n",
        "import pandas as pd\n",
        "import numpy as np\n",
        "import matplotlib.pyplot as plt\n",
        "import scipy.stats\n",
        "import matplotlib\n",
        "import pickle\n",
        "\n",
        "from scipy.stats import uniform, gamma, poisson\n",
        "\n",
        "# fix the random seed for replicability.\n",
        "np.random.seed(123456789)\n",
        "\n",
        "# Generate data\n",
        "\n",
        "# Hyperparameters\n",
        "N=10\n",
        "a=2\n",
        "b=1\n",
        "\n",
        "# Change-point: where the intensity parameter changes.\n",
        "n=int(round(uniform.rvs()*N))\n",
        "print(str(n))\n",
        "\n",
        "# Intensity values\n",
        "lambda1=gamma.rvs(a,1/b) # We use 1/b instead of b because of the way Gamma distribution is parametrized in the package random.\n",
        "lambda2=gamma.rvs(a,1/b)\n",
        "\n",
        "lambdas=[lambda1]*n\n",
        "lambdas[n:N-1]=[lambda2]*(N-n)\n",
        "\n",
        "# Observations, x_1 ... x_N\n",
        "x=poisson.rvs(lambdas)\n",
        "\n",
        "# make one big subplots and put everything in it.\n",
        "f, (ax1,ax2,ax3,ax4,ax5)=plt.subplots(5,1)\n",
        "# Plot the data\n",
        "ax1.stem(range(N),x,linefmt='b-', markerfmt='bo',use_line_collection=True)\n",
        "ax1.plot(range(N),lambdas,'r--')\n",
        "ax1.set_ylabel('Counts')\n",
        "\n",
        "# Gibbs sampler\n",
        "E=5200\n",
        "BURN_IN=200\n",
        "\n",
        "# Initialize the chain\n",
        "n=int(round(uniform.rvs()*N))\n",
        "lambda1=gamma.rvs(a,scale=1./b)\n",
        "lambda2=gamma.rvs(a,scale=1./b)\n",
        "\n",
        "# Store the samples\n",
        "chain_n=np.array([0.]*(E-BURN_IN))\n",
        "chain_lambda1=np.array([0.]*(E-BURN_IN))\n",
        "chain_lambda2=np.array([0.]*(E-BURN_IN))\n",
        "\n",
        "for e in range(E):\n",
        "\t# print(\"At iteration\", str(e))\n",
        "\t# sample lambda1 and lambda2 from their posterior conditionals, Equation 8 and Equation 9, respectively.\n",
        "\tlambda1=gamma.rvs(a+sum(x[0:n]), scale=1/(n+b))\n",
        "\tlambda2=gamma.rvs(a+sum(x[n:N]), scale=1/(N-n+b))\n",
        "\t\n",
        "\t# sample n, Equation 10\n",
        "\tmult_n=np.array([0]*N)\n",
        "\tfor i in range(N):\n",
        "\t\tmult_n[i]=sum(x[0:i])*np.log(lambda1)-i*lambda1+sum(x[i:N])*np.log(lambda2)-(N-i)*lambda2\n",
        "\tmult_n=np.exp(mult_n-max(mult_n))\n",
        "\tn=np.where(np.random.multinomial(1,mult_n/sum(mult_n),size=1)==1)[1][0]\n",
        "\t\n",
        "\t# store\n",
        "\tif e>=BURN_IN:\n",
        "\t\tchain_n[e-BURN_IN]=n\n",
        "\t\tchain_lambda1[e-BURN_IN]=lambda1\n",
        "\t\tchain_lambda2[e-BURN_IN]=lambda2\n",
        "\t\t\n",
        "\n",
        "ax2.plot(chain_lambda1,'b',chain_lambda2,'g')\n",
        "ax2.set_ylabel('$\\lambda$')\n",
        "ax3.hist(chain_lambda1,20)\n",
        "ax3.set_xlabel('$\\lambda_1$')\n",
        "ax3.set_xlim([0,12])\n",
        "ax4.hist(chain_lambda2,20,color='g')\n",
        "ax4.set_xlim([0,12])\n",
        "ax4.set_xlabel('$\\lambda_2$')\n",
        "ax5.hist(chain_n,50)\n",
        "ax5.set_xlabel('n')\n",
        "ax5.set_xlim([1,50])\n",
        "plt.show()"
      ],
      "execution_count": 15,
      "outputs": [
        {
          "output_type": "stream",
          "text": [
            "5\n"
          ],
          "name": "stdout"
        },
        {
          "output_type": "display_data",
          "data": {
            "image/png": "[encoded data removed]",
            "text/plain": [
              "<Figure size 432x288 with 5 Axes>"
            ]
          },
          "metadata": {
            "tags": [],
            "needs_background": "light"
          }
        }
      ]
    }
  ]
}