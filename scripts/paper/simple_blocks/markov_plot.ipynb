{
  "nbformat": 4,
  "nbformat_minor": 0,
  "metadata": {
    "colab": {
      "name": "Untitled5.ipynb",
      "provenance": [],
      "authorship_tag": "ABX9TyMw19lk+a1JfYEvwLUUsXPo",
      "include_colab_link": true
    },
    "kernelspec": {
      "name": "python3",
      "display_name": "Python 3"
    }
  },
  "cells": [
    {
      "cell_type": "markdown",
      "metadata": {
        "id": "view-in-github",
        "colab_type": "text"
      },
      "source": [
        "<a href=\"https://colab.research.google.com/github/herysedra/covid19-mankaiza-clone/blob/andrana/scripts/paper/simple_blocks/markov_plot.ipynb\" target=\"_parent\"><img src=\"https://colab.research.google.com/assets/colab-badge.svg\" alt=\"Open In Colab\"/></a>"
      ]
    },
    {
      "cell_type": "code",
      "metadata": {
        "id": "OIHhTgYjn8mt",
        "colab_type": "code",
        "colab": {}
      },
      "source": [
        "import numpy as np\n",
        "import pandas as pd\n",
        "from random import seed\n",
        "from random import random\n",
        "import matplotlib.pyplot as plt\n",
        "\n",
        "P = np.array([[0.2, 0.7, 0.1],\n",
        "              [0.9, 0.0, 0.1],\n",
        "              [0.2, 0.8, 0.0]])\n",
        "\n",
        "stateChangeHist= np.array([[0.0,  0.0,  0.0],\n",
        "                          [0.0, 0.0,  0.0],\n",
        "                          [0.0, 0.0,  0.0]])\n",
        "\n",
        "state=np.array([[1.0, 0.0, 0.0]])\n",
        "\n",
        "currentState=0\n",
        "stateHist=state\n",
        "dfStateHist=pd.DataFrame(state)\n",
        "distr_hist = [[0,0,0]]\n",
        "seed(4)\n",
        "\n",
        "# Simulate from multinomial distribution\n",
        "def simulate_multinomial(vmultinomial):\n",
        "  r=np.random.uniform(0.0, 1.0)\n",
        "  CS=np.cumsum(vmultinomial)\n",
        "  CS=np.insert(CS,0,0)\n",
        "  m=(np.where(CS<r))[0]\n",
        "  nextState=m[len(m)-1]\n",
        "  return nextStatefor x in range(1000):\n",
        "  \n",
        "  currentRow=np.ma.masked_values((P[currentState]), 0.0)\n",
        "  nextState=simulate_multinomial(currentRow)  \n",
        "  \n",
        "  # Keep track of state changes  \n",
        "  stateChangeHist[currentState,nextState]+=1  \n",
        "  \n",
        "  # Keep track of the state vector itself\n",
        "  state=np.array([[0,0,0]])\n",
        "  state[0,nextState]=1.0  \n",
        "  \n",
        "  # Keep track of state history\n",
        "  stateHist=np.append(stateHist,state,axis=0)\n",
        "  currentState=nextState  \n",
        "  \n",
        "  # calculate the actual distribution over the 3 states so far\n",
        "  totals=np.sum(stateHist,axis=0)\n",
        "  gt=np.sum(totals)\n",
        "  distrib=totals/gt\n",
        "  distrib=np.reshape(distrib,(1,3)\n",
        "  distr_hist=np.append(distr_hist,distrib,axis=0)\n",
        "\n",
        "print(distrib)\n",
        "P_hat=stateChangeHist/stateChangeHist.sum(axis=1)[:,None]\n",
        "# Check estimated state transition probabilities based on history so far:\n",
        "print(P_hat)dfDistrHist = pd.DataFrame(distr_hist)\n",
        "# Plot the distribution as the simulation progresses over time\n",
        "\n",
        "dfDistrHist.plot(title=\"Simulation History\")\n",
        "plt.show()"
      ],
      "execution_count": 0,
      "outputs": []
    }
  ]
}