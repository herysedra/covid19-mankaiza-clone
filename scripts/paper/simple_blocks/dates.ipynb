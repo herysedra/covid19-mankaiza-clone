{
  "nbformat": 4,
  "nbformat_minor": 0,
  "metadata": {
    "colab": {
      "name": "Untitled1.ipynb",
      "provenance": [],
      "authorship_tag": "ABX9TyNLIiaCRl/NV3qHANSRb7QI",
      "include_colab_link": true
    },
    "kernelspec": {
      "name": "python3",
      "display_name": "Python 3"
    }
  },
  "cells": [
    {
      "cell_type": "markdown",
      "metadata": {
        "id": "view-in-github",
        "colab_type": "text"
      },
      "source": [
        "<a href=\"https://colab.research.google.com/github/herysedra/covid19-mankaiza-clone/blob/andrana/scripts/paper/simple_blocks/dates.ipynb\" target=\"_parent\"><img src=\"https://colab.research.google.com/assets/colab-badge.svg\" alt=\"Open In Colab\"/></a>"
      ]
    },
    {
      "cell_type": "code",
      "metadata": {
        "id": "9us62KnLifDF",
        "colab_type": "code",
        "outputId": "4611a97b-0fd8-4001-b065-a650811976ec",
        "colab": {
          "base_uri": "https://localhost:8080/",
          "height": 86
        }
      },
      "source": [
        "import pymc3 as pm\n",
        "import theano.tensor as tt\n",
        "import theano\n",
        "import datetime\n",
        "import time\n",
        "\n",
        "date_data_begin = datetime.date(2020,3,1)\n",
        "date_data_end = datetime.date(2020,3,15)\n",
        "\n",
        "num_days_to_predict = 28\n",
        "\n",
        "diff_data_sim = 16  # should be significantly larger than the expected delay, in \n",
        "                   # order to always fit the same number of data points.\n",
        "\"\"\"\n",
        "Because of the reporting delay, the reported new cases at a time t actually \n",
        "refer to the new cases happening at time t - delay.\n",
        "\"\"\"\n",
        "\n",
        "date_begin_sim = date_data_begin - datetime.timedelta(days = diff_data_sim)\n",
        "\n",
        "\"\"\"\n",
        "diff_data_sim: number of days which separate the date_data_begin (1 march 2020) \n",
        "and the date_begin_sim (14 february 2020: the simulation starts )\n",
        "\"\"\"\n",
        "\n",
        "num_days = (date_data_end - date_begin_sim).days\n",
        "\n",
        "\"\"\"\n",
        "Because of the reporting delay, in order to analyze the reported new cases \n",
        "between date_data_begin and date_data_end, we have to look at the simulated\n",
        "or inferred values of new cases at time starting before t - delay.\n",
        "num_days should be \n",
        "\"\"\"\n",
        "\n",
        "print('date_data_begin is:', date_data_begin, sep=\" \")\n",
        "print('date_data_end is:', date_data_end, sep=\" \")\n",
        "print('date_begin_sim is:', date_begin_sim, ', i.e. 16 days (= diff_data_sim)',\n",
        "      'before date_data_begin', sep=\" \")\n",
        "print('num_days is:', num_days, sep=\" \")"
      ],
      "execution_count": 0,
      "outputs": [
        {
          "output_type": "stream",
          "text": [
            "date_data_begin is: 2020-03-01\n",
            "date_data_end is: 2020-03-15\n",
            "date_begin_sim is: 2020-02-14 , i.e. 16 days (= diff_data_sim) before date_data_begin\n",
            "num_days is: 30\n"
          ],
          "name": "stdout"
        }
      ]
    },
    {
      "cell_type": "code",
      "metadata": {
        "id": "ZQU5prB1izvf",
        "colab_type": "code",
        "outputId": "df545cac-f748-4fce-8660-26294004173d",
        "colab": {
          "base_uri": "https://localhost:8080/",
          "height": 34
        }
      },
      "source": [
        "format_date = lambda date_py: '{}/{}/{}'.format(date_py.month, date_py.day,\n",
        "                                                 str(date_py.year)[2:4])\n",
        "date_formatted_begin = format_date(date_data_begin)\n",
        "date_formatted_end = format_date(date_data_end)\n",
        "\n",
        "print('date_formatted_begin is:', date_formatted_begin, sep=\" \")"
      ],
      "execution_count": 0,
      "outputs": [
        {
          "output_type": "stream",
          "text": [
            "date_formatted_begin is: 3/1/20\n"
          ],
          "name": "stdout"
        }
      ]
    },
    {
      "cell_type": "code",
      "metadata": {
        "id": "UBNgq3KDjWjS",
        "colab_type": "code",
        "outputId": "b227f605-c70f-4323-90b2-5b514bd4dcf5",
        "colab": {
          "base_uri": "https://localhost:8080/",
          "height": 52
        }
      },
      "source": [
        "num_days = (date_data_end - date_begin_sim).days\n",
        "date_today = date_data_end + datetime.timedelta(days=1)\n",
        "\n",
        "print('num_days is:', num_days, sep=\" \")\n",
        "print('date_today is:', date_today, sep=\" \")"
      ],
      "execution_count": 0,
      "outputs": [
        {
          "output_type": "stream",
          "text": [
            "num_days is: 30\n",
            "date_today is: 2020-03-16\n"
          ],
          "name": "stdout"
        }
      ]
    },
    {
      "cell_type": "code",
      "metadata": {
        "id": "AbTapx0KD5DX",
        "colab_type": "code",
        "colab": {}
      },
      "source": [
        "# for plotting\n",
        "def conv_time_to_mpl_dates(arr):\n",
        "    return matplotlib.dates.date2num([datetime.timedelta(days=float(date)) + date_data_end for date in arr])\n"
      ],
      "execution_count": 0,
      "outputs": []
    }
  ]
}