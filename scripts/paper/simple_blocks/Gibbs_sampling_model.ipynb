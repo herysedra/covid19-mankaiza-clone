{
  "nbformat": 4,
  "nbformat_minor": 0,
  "metadata": {
    "colab": {
      "name": "Gibbs sampling model.ipynb",
      "provenance": [],
      "collapsed_sections": [],
      "authorship_tag": "ABX9TyNvav3ZVnkcjyAkJU7q1sTO",
      "include_colab_link": true
    },
    "kernelspec": {
      "name": "python3",
      "display_name": "Python 3"
    }
  },
  "cells": [
    {
      "cell_type": "markdown",
      "metadata": {
        "id": "view-in-github",
        "colab_type": "text"
      },
      "source": [
        "<a href=\"https://colab.research.google.com/github/herysedra/covid19-mankaiza-clone/blob/andrana/scripts/paper/simple_blocks/Gibbs_sampling_model.ipynb\" target=\"_parent\"><img src=\"https://colab.research.google.com/assets/colab-badge.svg\" alt=\"Open In Colab\"/></a>"
      ]
    },
    {
      "cell_type": "code",
      "metadata": {
        "id": "23q1KGlh6A6O",
        "colab_type": "code",
        "colab": {}
      },
      "source": [
        "import pandas as pd\n",
        "import numpy as np\n",
        "import matplotlib.pyplot as plt\n",
        "import scipy.stats\n",
        "import matplotlib\n",
        "import pickle\n",
        "\n",
        "from numpy import log,exp\n",
        "from numpy.random import multinomial\n",
        "from scipy.stats import uniform, gamma, poisson"
      ],
      "execution_count": 0,
      "outputs": []
    },
    {
      "cell_type": "code",
      "metadata": {
        "id": "i8Yc3M4c6j2C",
        "colab_type": "code",
        "colab": {}
      },
      "source": [
        "# fix the random seed for replicability.\n",
        "np.random.seed(123456789)\n",
        "\n",
        "# Generate data\n",
        "\n",
        "# Hyperparameters\n",
        "N=50\n",
        "a=2\n"
      ],
      "execution_count": 0,
      "outputs": []
    },
    {
      "cell_type": "code",
      "metadata": {
        "id": "u44CjEbM616R",
        "colab_type": "code",
        "outputId": "64d6e53c-51a3-4bff-fa8d-327af4972d82",
        "colab": {
          "base_uri": "https://localhost:8080/",
          "height": 34
        }
      },
      "source": [
        "# Change-point: where the intensity parameter changes.\n",
        "n=int(round(uniform.rvs()*N))\n",
        "str(n)"
      ],
      "execution_count": 0,
      "outputs": [
        {
          "output_type": "execute_result",
          "data": {
            "text/plain": [
              "'27'"
            ]
          },
          "metadata": {
            "tags": []
          },
          "execution_count": 3
        }
      ]
    },
    {
      "cell_type": "code",
      "metadata": {
        "id": "9CpFRteL6ErY",
        "colab_type": "code",
        "outputId": "5892ad2a-0c2c-49ec-920d-82359d275113",
        "colab": {
          "base_uri": "https://localhost:8080/",
          "height": 89
        }
      },
      "source": [
        "# Intensity values\n",
        "lambda1=gamma.rvs(a) # We use 1/b instead of b because of the way Gamma distribution is parametrized in the package random.\n",
        "lambda2=gamma.rvs(a)\n",
        "\n",
        "lambdas=[lambda1]*n\n",
        "lambdas[n:N]=[lambda2]*(N-n)\n",
        "tap = np.array([lambda1]*n)\n",
        "print(tap.shape)\n",
        "print(np.array(lambdas[n:N]).shape)\n",
        "print(lambdas)"
      ],
      "execution_count": 0,
      "outputs": [
        {
          "output_type": "stream",
          "text": [
            "(27,)\n",
            "(23,)\n",
            "[4.074274524634351, 4.074274524634351, 4.074274524634351, 4.074274524634351, 4.074274524634351, 4.074274524634351, 4.074274524634351, 4.074274524634351, 4.074274524634351, 4.074274524634351, 4.074274524634351, 4.074274524634351, 4.074274524634351, 4.074274524634351, 4.074274524634351, 4.074274524634351, 4.074274524634351, 4.074274524634351, 4.074274524634351, 4.074274524634351, 4.074274524634351, 4.074274524634351, 4.074274524634351, 4.074274524634351, 4.074274524634351, 4.074274524634351, 4.074274524634351, 10.866597768366745, 10.866597768366745, 10.866597768366745, 10.866597768366745, 10.866597768366745, 10.866597768366745, 10.866597768366745, 10.866597768366745, 10.866597768366745, 10.866597768366745, 10.866597768366745, 10.866597768366745, 10.866597768366745, 10.866597768366745, 10.866597768366745, 10.866597768366745, 10.866597768366745, 10.866597768366745, 10.866597768366745, 10.866597768366745, 10.866597768366745, 10.866597768366745, 10.866597768366745]\n"
          ],
          "name": "stdout"
        }
      ]
    },
    {
      "cell_type": "code",
      "metadata": {
        "id": "g1BTq62mZoNi",
        "colab_type": "code",
        "outputId": "21845961-3114-4aac-9e8f-9254b7b68a0c",
        "colab": {
          "base_uri": "https://localhost:8080/",
          "height": 86
        }
      },
      "source": [
        "# Observations, x_1 ... x_N\n",
        "x=poisson.rvs(lambdas)\n",
        "print(x) # for each simulation, x displays a list of N simulated values)\n",
        "x.shape"
      ],
      "execution_count": 0,
      "outputs": [
        {
          "output_type": "stream",
          "text": [
            "[ 8  0  1  5  4  4  9  3  5  5  4  1  3  6  3  2  3  2  4  4  4  6  4  4\n",
            "  7  4  5  7  7 16 12 17 10  8 12 15 10 10  8  9 10 14 10  9  9 15 11 13\n",
            " 10  8]\n"
          ],
          "name": "stdout"
        },
        {
          "output_type": "execute_result",
          "data": {
            "text/plain": [
              "(50,)"
            ]
          },
          "metadata": {
            "tags": []
          },
          "execution_count": 5
        }
      ]
    },
    {
      "cell_type": "code",
      "metadata": {
        "id": "0w2SxA4qcRzh",
        "colab_type": "code",
        "colab": {}
      },
      "source": [
        "for i in range(N-1):\n",
        "  cvx = x[0:i+1]\n",
        "  dfc = sum(x[0:i+1])\n",
        "  print(cvx)\n",
        "  print(dfc)"
      ],
      "execution_count": 0,
      "outputs": []
    },
    {
      "cell_type": "code",
      "metadata": {
        "id": "U3dtzzD3fjhQ",
        "colab_type": "code",
        "colab": {}
      },
      "source": [
        "for i in range(N-1):\n",
        "  cvd = x[i+1:N]\n",
        "  dfd = sum(x[i+1:N])\n",
        "  print(cvd)\n",
        "  print(dfd)"
      ],
      "execution_count": 0,
      "outputs": []
    },
    {
      "cell_type": "code",
      "metadata": {
        "id": "h6telHCuZu2m",
        "colab_type": "code",
        "colab": {}
      },
      "source": [
        "# Gibbs sampler\n",
        "E=5200\n",
        "BURN_IN=200\n",
        "\n",
        "# Initialize the chain\n",
        "n=int(round(uniform.rvs()*N))\n",
        "#lambda1=gamma.rvs(a,1/b)\n",
        "#lambda2=gamma.rvs(a,1/b)\n",
        "\n",
        "# Store the samples\n",
        "chain_n=np.array([0.]*(E-BURN_IN))\n",
        "chain_lambda1=np.array([0.]*(E-BURN_IN))\n",
        "chain_lambda2=np.array([0.]*(E-BURN_IN))\n",
        "\n",
        "for e in range(E):\n",
        "\t#print(\"At iteration \",str(e))\n",
        "\t# sample lambda1 and lambda2 from their posterior conditionals, Equation 8 and Equation 9, respectively.\n",
        "\tlambda1= gamma.rvs(a+sum(x[0:n]))/n\n",
        "\tlambda2= gamma.rvs(a+sum(x[n:N]))/(N-n)\n",
        "\t\n",
        "\t# sample n, Equation 10\n",
        "\tmult_n=np.array([0]*(N-1))\n",
        "\tfor i in range(N-1):\n",
        "\t\tmult_n[i]=sum(x[0:i+1])*log(lambda1)-(i+1)*lambda1 + sum(x[i+1:N])*log(lambda2) - (N-i-1)*lambda2\n",
        "\tmulte_n=exp(mult_n -max(mult_n))\n",
        "\tn= np.where(np.random.multinomial(1,multe_n/sum(multe_n),size=1)==1)[1][0]+1\n",
        "\t\n",
        "\t# store\n",
        "\tif e>=BURN_IN:\n",
        "\t\tchain_n[e-BURN_IN]=n\n",
        "\t\tchain_lambda1[e-BURN_IN]=lambda1\n",
        "\t\tchain_lambda2[e-BURN_IN]=lambda2"
      ],
      "execution_count": 0,
      "outputs": []
    },
    {
      "cell_type": "code",
      "metadata": {
        "id": "LQuf-4-Qm_x9",
        "colab_type": "code",
        "outputId": "c27da367-e301-4925-fad6-947c9ed453ea",
        "colab": {
          "base_uri": "https://localhost:8080/",
          "height": 52
        }
      },
      "source": [
        "lbda1= gamma.rvs(a+sum(x[0:27]), 1/(27+b))\n",
        "lbda2= gamma.rvs(a+sum(x[27:N]), 1/(N-27+b))\n",
        "print(lbda1)\n",
        "print(lbda2)"
      ],
      "execution_count": 0,
      "outputs": [
        {
          "output_type": "stream",
          "text": [
            "131.18956334208352\n",
            "274.9775837925132\n"
          ],
          "name": "stdout"
        }
      ]
    },
    {
      "cell_type": "code",
      "metadata": {
        "id": "9BGfCQOi-GLJ",
        "colab_type": "code",
        "colab": {}
      },
      "source": [
        "print('lambda1 =', lambda1)\n",
        "print('lambda2 =', lambda2)\n",
        "print(sum(x[0:1])*log(lambda1)-lambda1+sum(x[1:N])*log(lambda2)-(N-1)*lambda2)\n",
        "print('chain_lambda1 =', chain_lambda1)\n",
        "print('chain_lambda2 =', chain_lambda2)\n",
        "\n",
        "print('mult_n =', mult_n)\n",
        "print('mult_n[26]=', mult_n[26])\n",
        "print('mult_n[0]=',mult_n[0])\n",
        "print(mult_n.shape)\n",
        "print(multe_n)\n",
        "print(sum(multe_n))\n",
        "print(np.where(np.random.multinomial(1,multe_n/sum(multe_n),size=1) == 1))\n",
        "\n",
        "print(chain_n.shape)\n",
        "print(chain_n)"
      ],
      "execution_count": 0,
      "outputs": []
    },
    {
      "cell_type": "code",
      "metadata": {
        "id": "bj6PwmY3ZxQ0",
        "colab_type": "code",
        "outputId": "285f15a8-bcf1-46d3-c945-d1ea74bc7563",
        "colab": {
          "base_uri": "https://localhost:8080/",
          "height": 622
        }
      },
      "source": [
        "# make one big subplots and put everything in it.\n",
        "f, (ax1,ax2,ax3,ax4,ax5)=plt.subplots(5,1, figsize=(12, 12))\n",
        "# Plot the data\n",
        "ax1.stem(range(N),x,linefmt='b-', markerfmt='bo',use_line_collection=True)\n",
        "ax1.plot(range(N),lambdas,'r--')\n",
        "ax1.set_ylabel('Counts')\n",
        "\n",
        "ax2.plot(chain_lambda1,'b',chain_lambda2,'g')\n",
        "ax2.set_ylabel('$\\lambda$')\n",
        "\n",
        "ax3.hist(chain_lambda1,20)\n",
        "ax3.set_xlabel('$\\lambda_1$')\n",
        "ax3.set_xlim([0,22])\n",
        "\n",
        "ax4.hist(chain_lambda2,20,color='g')\n",
        "ax4.set_xlim([0,22])\n",
        "ax4.set_xlabel('$\\lambda_2$')\n",
        "\n",
        "ax5.hist(chain_n,20)\n",
        "ax5.set_xlabel('n')\n",
        "ax5.set_xlim([1,50])\n",
        "plt.show()"
      ],
      "execution_count": 0,
      "outputs": [
        {
          "output_type": "display_data",
          "data": {
            "image/png": "[encoded data removed]",
            "text/plain": [
              "<Figure size 864x864 with 5 Axes>"
            ]
          },
          "metadata": {
            "tags": [],
            "needs_background": "light"
          }
        }
      ]
    }
  ]
}