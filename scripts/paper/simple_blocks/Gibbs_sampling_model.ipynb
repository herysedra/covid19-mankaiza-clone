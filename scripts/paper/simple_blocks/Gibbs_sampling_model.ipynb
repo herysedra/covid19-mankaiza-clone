{
  "nbformat": 4,
  "nbformat_minor": 0,
  "metadata": {
    "colab": {
      "name": "Gibbs sampling model.ipynb",
      "provenance": [],
      "authorship_tag": "ABX9TyNa4JMglSKF2A80alX5X0Th",
      "include_colab_link": true
    },
    "kernelspec": {
      "name": "python3",
      "display_name": "Python 3"
    }
  },
  "cells": [
    {
      "cell_type": "markdown",
      "metadata": {
        "id": "view-in-github",
        "colab_type": "text"
      },
      "source": [
        "<a href=\"https://colab.research.google.com/github/herysedra/covid19-mankaiza-clone/blob/andrana/scripts/paper/simple_blocks/Gibbs_sampling_model.ipynb\" target=\"_parent\"><img src=\"https://colab.research.google.com/assets/colab-badge.svg\" alt=\"Open In Colab\"/></a>"
      ]
    },
    {
      "cell_type": "code",
      "metadata": {
        "id": "23q1KGlh6A6O",
        "colab_type": "code",
        "colab": {}
      },
      "source": [
        "import pandas as pd\n",
        "import numpy as np\n",
        "import matplotlib.pyplot as plt\n",
        "import scipy.stats\n",
        "import matplotlib\n",
        "import pickle\n",
        "\n",
        "from numpy import log,exp\n",
        "from numpy.random import multinomial\n",
        "from scipy.stats import uniform, gamma, poisson"
      ],
      "execution_count": 0,
      "outputs": []
    },
    {
      "cell_type": "code",
      "metadata": {
        "id": "i8Yc3M4c6j2C",
        "colab_type": "code",
        "colab": {}
      },
      "source": [
        "# fix the random seed for replicability.\n",
        "np.random.seed(123456789)\n",
        "\n",
        "# Generate data\n",
        "\n",
        "# Hyperparameters\n",
        "N=50\n",
        "a=2\n",
        "b=1"
      ],
      "execution_count": 0,
      "outputs": []
    },
    {
      "cell_type": "code",
      "metadata": {
        "id": "u44CjEbM616R",
        "colab_type": "code",
        "colab": {
          "base_uri": "https://localhost:8080/",
          "height": 34
        },
        "outputId": "9edcdb3d-351e-42b1-c58c-e3e3b7d98561"
      },
      "source": [
        "# Change-point: where the intensity parameter changes.\n",
        "n=int(round(uniform.rvs()*N))\n",
        "str(n)"
      ],
      "execution_count": 115,
      "outputs": [
        {
          "output_type": "execute_result",
          "data": {
            "text/plain": [
              "'27'"
            ]
          },
          "metadata": {
            "tags": []
          },
          "execution_count": 115
        }
      ]
    },
    {
      "cell_type": "code",
      "metadata": {
        "id": "9CpFRteL6ErY",
        "colab_type": "code",
        "colab": {
          "base_uri": "https://localhost:8080/",
          "height": 89
        },
        "outputId": "a97f94f7-610a-44c0-c660-eda5d9a1a488"
      },
      "source": [
        "# Intensity values\n",
        "lambda1=gamma.rvs(a,1/b) # We use 1/b instead of b because of the way Gamma distribution is parametrized in the package random.\n",
        "lambda2=gamma.rvs(a,1/b)\n",
        "\n",
        "lambdas=[lambda1]*n\n",
        "lambdas[n:N]=[lambda2]*(N-n)\n",
        "tap = np.array([lambda1]*n)\n",
        "print(tap.shape)\n",
        "print(np.array(lambdas[n:N]).shape)\n",
        "print(lambdas)"
      ],
      "execution_count": 116,
      "outputs": [
        {
          "output_type": "stream",
          "text": [
            "(27,)\n",
            "(23,)\n",
            "[4.074274524634351, 4.074274524634351, 4.074274524634351, 4.074274524634351, 4.074274524634351, 4.074274524634351, 4.074274524634351, 4.074274524634351, 4.074274524634351, 4.074274524634351, 4.074274524634351, 4.074274524634351, 4.074274524634351, 4.074274524634351, 4.074274524634351, 4.074274524634351, 4.074274524634351, 4.074274524634351, 4.074274524634351, 4.074274524634351, 4.074274524634351, 4.074274524634351, 4.074274524634351, 4.074274524634351, 4.074274524634351, 4.074274524634351, 4.074274524634351, 10.866597768366745, 10.866597768366745, 10.866597768366745, 10.866597768366745, 10.866597768366745, 10.866597768366745, 10.866597768366745, 10.866597768366745, 10.866597768366745, 10.866597768366745, 10.866597768366745, 10.866597768366745, 10.866597768366745, 10.866597768366745, 10.866597768366745, 10.866597768366745, 10.866597768366745, 10.866597768366745, 10.866597768366745, 10.866597768366745, 10.866597768366745, 10.866597768366745, 10.866597768366745]\n"
          ],
          "name": "stdout"
        }
      ]
    },
    {
      "cell_type": "code",
      "metadata": {
        "id": "g1BTq62mZoNi",
        "colab_type": "code",
        "colab": {
          "base_uri": "https://localhost:8080/",
          "height": 86
        },
        "outputId": "6eccf72a-41ac-4f1f-9779-f54dbeda1b70"
      },
      "source": [
        "# Observations, x_1 ... x_N\n",
        "x=poisson.rvs(lambdas)\n",
        "print(x) # for each simulation, x displays a list of N simulated values)\n",
        "x.shape"
      ],
      "execution_count": 117,
      "outputs": [
        {
          "output_type": "stream",
          "text": [
            "[ 8  0  1  5  4  4  9  3  5  5  4  1  3  6  3  2  3  2  4  4  4  6  4  4\n",
            "  7  4  5  7  7 16 12 17 10  8 12 15 10 10  8  9 10 14 10  9  9 15 11 13\n",
            " 10  8]\n"
          ],
          "name": "stdout"
        },
        {
          "output_type": "execute_result",
          "data": {
            "text/plain": [
              "(50,)"
            ]
          },
          "metadata": {
            "tags": []
          },
          "execution_count": 117
        }
      ]
    },
    {
      "cell_type": "code",
      "metadata": {
        "id": "h6telHCuZu2m",
        "colab_type": "code",
        "colab": {}
      },
      "source": [
        "# Gibbs sampler\n",
        "E=5200\n",
        "BURN_IN=200\n",
        "\n",
        "# Initialize the chain\n",
        "n=int(round(uniform.rvs()*N))\n",
        "lambda1=gamma.rvs(a,1/b)\n",
        "lambda2=gamma.rvs(a,1/b)\n",
        "\n",
        "# Store the samples\n",
        "chain_n=np.array([0.]*(E-BURN_IN))\n",
        "chain_lambda1=np.array([0.]*(E-BURN_IN))\n",
        "chain_lambda2=np.array([0.]*(E-BURN_IN))\n",
        "\n",
        "for e in range(E):\n",
        "\t#print(\"At iteration \",str(e))\n",
        "\t# sample lambda1 and lambda2 from their posterior conditionals, Equation 8 and Equation 9, respectively.\n",
        "\tlambda1=gamma.rvs(a+sum(x[0:n]), 1/(n+b))\n",
        "\tlambda2=gamma.rvs(a+sum(x[n:N]), 1/(N-n+b))\n",
        "\t\n",
        "\t# sample n, Equation 10\n",
        "\tmult_n=np.array([0]*(N-1))\n",
        "\tfor i in range(N-1):\n",
        "\t\tmult_n[i]=sum(x[0:i+1])*log(lambda1)-(i+1)*lambda1 + sum(x[i+1:N])*log(lambda2) - (N-i-1)*lambda2\n",
        "\tmulte_n=exp(mult_n -max(mult_n))\n",
        "\tn= np.where(np.random.multinomial(1,multe_n/sum(multe_n),size=1)==1)[1][0]+1\n",
        "\t\n",
        "\t# store\n",
        "\tif e>=BURN_IN:\n",
        "\t\tchain_n[e-BURN_IN]=n\n",
        "\t\tchain_lambda1[e-BURN_IN]=lambda1\n",
        "\t\tchain_lambda2[e-BURN_IN]=lambda2"
      ],
      "execution_count": 0,
      "outputs": []
    },
    {
      "cell_type": "code",
      "metadata": {
        "id": "N5UBJHWzaqgk",
        "colab_type": "code",
        "colab": {
          "base_uri": "https://localhost:8080/",
          "height": 34
        },
        "outputId": "8a5609ce-282f-456c-8bdb-53a165a755de"
      },
      "source": [
        "sum([2,4,5])"
      ],
      "execution_count": 110,
      "outputs": [
        {
          "output_type": "execute_result",
          "data": {
            "text/plain": [
              "11"
            ]
          },
          "metadata": {
            "tags": []
          },
          "execution_count": 110
        }
      ]
    },
    {
      "cell_type": "code",
      "metadata": {
        "id": "9BGfCQOi-GLJ",
        "colab_type": "code",
        "colab": {
          "base_uri": "https://localhost:8080/",
          "height": 555
        },
        "outputId": "9541d5d0-f75c-49cb-ffc1-ef1b972ebe66"
      },
      "source": [
        "print(lambda1)\n",
        "print(lambda2)\n",
        "print(sum(x[0:1])*log(lambda1)-lambda1+sum(x[1:N])*log(lambda2)-(N-1)*lambda2)\n",
        "print(chain_lambda1)\n",
        "print(chain_lambda2)\n",
        "\n",
        "print(mult_n)\n",
        "print(mult_n[26])\n",
        "print(mult_n.shape)\n",
        "print(multe_n)\n",
        "print(sum(multe_n))\n",
        "print(np.where(np.random.multinomial(1,multe_n/sum(multe_n),size=1) == 1))\n",
        "\n",
        "print(chain_n.shape)\n",
        "print(chain_n)"
      ],
      "execution_count": 121,
      "outputs": [
        {
          "output_type": "stream",
          "text": [
            "7.335985163044351\n",
            "335.52763352110094\n",
            "-14385.11977398752\n",
            "[360.72055799  19.2619956  366.14611139 ...   9.36550511 369.91970979\n",
            "   7.33598516]\n",
            "[ 10.66741928 363.67332845  11.9079296  ... 340.75925988   9.04262016\n",
            " 335.52763352]\n",
            "[-14385 -14056 -13732 -13423 -13110 -12797 -12503 -12187 -11878 -11569\n",
            " -11256 -10931 -10615 -10309  -9993  -9672  -9355  -9035  -8722  -8409\n",
            "  -8096  -7791  -7478  -7165  -6864  -6551  -6242  -5940  -5639  -5372\n",
            "  -5089  -4826  -4536  -4239  -3956  -3685  -3395  -3106  -2808  -2514\n",
            "  -2224  -1949  -1660  -1366  -1072   -801   -515   -236     52]\n",
            "-6242\n",
            "(49,)\n",
            "[0.00000000e+000 0.00000000e+000 0.00000000e+000 0.00000000e+000\n",
            " 0.00000000e+000 0.00000000e+000 0.00000000e+000 0.00000000e+000\n",
            " 0.00000000e+000 0.00000000e+000 0.00000000e+000 0.00000000e+000\n",
            " 0.00000000e+000 0.00000000e+000 0.00000000e+000 0.00000000e+000\n",
            " 0.00000000e+000 0.00000000e+000 0.00000000e+000 0.00000000e+000\n",
            " 0.00000000e+000 0.00000000e+000 0.00000000e+000 0.00000000e+000\n",
            " 0.00000000e+000 0.00000000e+000 0.00000000e+000 0.00000000e+000\n",
            " 0.00000000e+000 0.00000000e+000 0.00000000e+000 0.00000000e+000\n",
            " 0.00000000e+000 0.00000000e+000 0.00000000e+000 0.00000000e+000\n",
            " 0.00000000e+000 0.00000000e+000 0.00000000e+000 0.00000000e+000\n",
            " 0.00000000e+000 0.00000000e+000 0.00000000e+000 0.00000000e+000\n",
            " 0.00000000e+000 0.00000000e+000 5.68890604e-247 8.37894253e-126\n",
            " 1.00000000e+000]\n",
            "1.0\n",
            "(array([0]), array([48]))\n",
            "(5000,)\n",
            "[ 1. 49.  1. ... 49.  1. 49.]\n"
          ],
          "name": "stdout"
        }
      ]
    },
    {
      "cell_type": "code",
      "metadata": {
        "id": "bj6PwmY3ZxQ0",
        "colab_type": "code",
        "colab": {
          "base_uri": "https://localhost:8080/",
          "height": 714
        },
        "outputId": "e07f51ad-7561-4126-8800-9cca9b613442"
      },
      "source": [
        "# make one big subplots and put everything in it.\n",
        "f, (ax1,ax2,ax3,ax4,ax5)=plt.subplots(5,1, figsize=(12, 12))\n",
        "# Plot the data\n",
        "ax1.stem(range(N),x,linefmt='b-', markerfmt='bo',use_line_collection=True)\n",
        "ax1.plot(range(N),lambdas,'r--')\n",
        "ax1.set_ylabel('Counts')\n",
        "\n",
        "ax2.plot(chain_lambda1,'b',chain_lambda2,'g')\n",
        "ax2.set_ylabel('$\\lambda$')\n",
        "\n",
        "ax3.hist(chain_lambda1,20)\n",
        "ax3.set_xlabel('$\\lambda_1$')\n",
        "ax3.set_xlim([0,24])\n",
        "\n",
        "ax4.hist(chain_lambda2,20,color='g')\n",
        "ax4.set_xlim([150,300])\n",
        "ax4.set_xlabel('$\\lambda_2$')\n",
        "\n",
        "ax5.hist(chain_n,20)\n",
        "ax5.set_xlabel('n')\n",
        "ax5.set_xlim([1,50])\n",
        "plt.show()"
      ],
      "execution_count": 120,
      "outputs": [
        {
          "output_type": "display_data",
          "data": {
            "image/png": "[encoded data removed]",
            "text/plain": [
              "<Figure size 864x864 with 5 Axes>"
            ]
          },
          "metadata": {
            "tags": [],
            "needs_background": "light"
          }
        }
      ]
    },
    {
      "cell_type": "code",
      "metadata": {
        "id": "A4sydeaa91LK",
        "colab_type": "code",
        "colab": {
          "base_uri": "https://localhost:8080/",
          "height": 34
        },
        "outputId": "5a96af91-f10a-42a2-eebe-8ebd667e61fb"
      },
      "source": [
        ""
      ],
      "execution_count": 45,
      "outputs": [
        {
          "output_type": "execute_result",
          "data": {
            "text/plain": [
              "array([1., 1., 1., ..., 1., 1., 1.])"
            ]
          },
          "metadata": {
            "tags": []
          },
          "execution_count": 45
        }
      ]
    }
  ]
}