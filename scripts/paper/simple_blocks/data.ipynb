{
  "nbformat": 4,
  "nbformat_minor": 0,
  "metadata": {
    "colab": {
      "name": "Untitled0.ipynb",
      "provenance": [],
      "authorship_tag": "ABX9TyO/pFB9N1AJsRYndGGp4xhx",
      "include_colab_link": true
    },
    "kernelspec": {
      "name": "python3",
      "display_name": "Python 3"
    }
  },
  "cells": [
    {
      "cell_type": "markdown",
      "metadata": {
        "id": "view-in-github",
        "colab_type": "text"
      },
      "source": [
        "<a href=\"https://colab.research.google.com/github/herysedra/covid19-mankaiza-clone/blob/andrana/scripts/paper/simple_blocks/data.ipynb\" target=\"_parent\"><img src=\"https://colab.research.google.com/assets/colab-badge.svg\" alt=\"Open In Colab\"/></a>"
      ]
    },
    {
      "cell_type": "code",
      "metadata": {
        "id": "QSa41pHiyZMC",
        "colab_type": "code",
        "colab": {}
      },
      "source": [
        "import pandas as pd\n",
        "import numpy as np\n",
        "import matplotlib.pyplot as plt\n",
        "import scipy.stats\n",
        "import matplotlib\n",
        "import pickle\n",
        "\n",
        "\"\"\"\n",
        "Mahasedra comments:\n",
        "Here we will trace most of treatments done on the data 'confirmed_cases'\n",
        "\"\"\"\n",
        "\n",
        "confirmed_cases_url = 'https://raw.githubusercontent.com/CSSEGISandData/COVID-19/master/csse_covid_19_data/csse_covid_19_time_series/time_series_covid19_confirmed_global.csv'\n",
        "confirmed_cases = pd.read_csv(confirmed_cases_url, sep=',')\n",
        "deaths_url =  'https://raw.githubusercontent.com/CSSEGISandData/COVID-19/master/csse_covid_19_data/csse_covid_19_time_series/time_series_covid19_deaths_global.csv'\n",
        "deaths = pd.read_csv(deaths_url, sep=',')\n",
        "path_to_save = '../../figures/'\n",
        "path_data = '../../data/'\n"
      ],
      "execution_count": 0,
      "outputs": []
    },
    {
      "cell_type": "code",
      "metadata": {
        "id": "nlxODWRx8txI",
        "colab_type": "code",
        "colab": {
          "base_uri": "https://localhost:8080/",
          "height": 347
        },
        "outputId": "ea85042f-7566-4910-dc45-d03012a3562f"
      },
      "source": [
        "import pymc3 as pm\n",
        "import theano.tensor as tt\n",
        "import theano\n",
        "import datetime\n",
        "import time\n",
        "\n",
        "date_data_begin = datetime.date(2020,3,1)\n",
        "date_data_end = datetime.date(2020,3,15)\n",
        "num_days_to_predict = 28\n",
        "\n",
        "\"\"\"\n",
        "Mahasedra:\n",
        "Above are the initial and final time conditions of the fitting and \n",
        "the forecasting.\n",
        "\"\"\"\n",
        "\n",
        "diff_data_sim = 16 # should be significantly larger than the expected delay, in \n",
        "                   # order to always fit the same number of data points.\n",
        "\n",
        "\"\"\"\n",
        "Mahasedra:\n",
        "diff_data_sim: number of days which separate the date_data_begin (1 march 2020:\n",
        "the fitting starts) and the date_begin_sim (15 march 2020: the simulation starts\n",
        ")\n",
        "\"\"\"\n",
        "\n",
        "date_begin_sim = date_data_begin - datetime.timedelta(days = diff_data_sim)\n",
        "\n",
        "format_date = lambda date_py: '{}/{}/{}'.format(date_py.month, date_py.day,\n",
        "                                                 str(date_py.year)[2:4])\n",
        "date_formatted_begin = format_date(date_data_begin)\n",
        "date_formatted_end = format_date(date_data_end)\n",
        "\n",
        "\"\"\"\n",
        "Mahasedra & Joely: format date\n",
        "\"\"\"\n",
        "\n",
        "cases_obs =  np.array(\n",
        "    confirmed_cases.loc[confirmed_cases[\"Country/Region\"] == \"Germany\", \n",
        "                        date_formatted_begin:date_formatted_end])[0]\n",
        "\n",
        "print(confirmed_cases)\n",
        "print(date_data_begin)\n",
        "print(date_formatted_begin)\n",
        "\n",
        "print(cases_obs)\n",
        "\n",
        "type(cases_obs)\n",
        "cases_obs.shape\n",
        "#From the output, cases_obs is made of 15"
      ],
      "execution_count": 12,
      "outputs": [
        {
          "output_type": "stream",
          "text": [
            "                Province/State         Country/Region  ...  4/13/20  4/14/20\n",
            "0                          NaN            Afghanistan  ...      665      714\n",
            "1                          NaN                Albania  ...      467      475\n",
            "2                          NaN                Algeria  ...     1983     2070\n",
            "3                          NaN                Andorra  ...      646      659\n",
            "4                          NaN                 Angola  ...       19       19\n",
            "..                         ...                    ...  ...      ...      ...\n",
            "259  Saint Pierre and Miquelon                 France  ...        1        1\n",
            "260                        NaN            South Sudan  ...        4        4\n",
            "261                        NaN         Western Sahara  ...        6        6\n",
            "262                        NaN  Sao Tome and Principe  ...        4        4\n",
            "263                        NaN                  Yemen  ...        1        1\n",
            "\n",
            "[264 rows x 88 columns]\n",
            "2020-03-01\n",
            "3/1/20\n",
            "[ 130  159  196  262  482  670  799 1040 1176 1457 1908 2078 3675 4585\n",
            " 5795]\n"
          ],
          "name": "stdout"
        },
        {
          "output_type": "execute_result",
          "data": {
            "text/plain": [
              "(15,)"
            ]
          },
          "metadata": {
            "tags": []
          },
          "execution_count": 12
        }
      ]
    },
    {
      "cell_type": "code",
      "metadata": {
        "id": "mmPeWdWYEjnV",
        "colab_type": "code",
        "colab": {
          "base_uri": "https://localhost:8080/",
          "height": 69
        },
        "outputId": "5863b4b1-f137-4a2d-cc06-3eef2fbe29b2"
      },
      "source": [
        "cases0_obs =  np.array(\n",
        "    confirmed_cases.loc[confirmed_cases[\"Country/Region\"] == \"Germany\", \n",
        "                        date_formatted_begin:date_formatted_end])\n",
        "\n",
        "# Notice the absence of [0] at the end compared to cases_obs.\n",
        "\n",
        "print(cases0_obs)\n",
        "type(cases0_obs)\n",
        "cases0_obs.shape\n",
        "#From the output, cases0_obs is made of 1 row and 15 columns \n",
        "# The action of [0] is to pick the index 0."
      ],
      "execution_count": 13,
      "outputs": [
        {
          "output_type": "stream",
          "text": [
            "[[ 130  159  196  262  482  670  799 1040 1176 1457 1908 2078 3675 4585\n",
            "  5795]]\n"
          ],
          "name": "stdout"
        },
        {
          "output_type": "execute_result",
          "data": {
            "text/plain": [
              "(1, 15)"
            ]
          },
          "metadata": {
            "tags": []
          },
          "execution_count": 13
        }
      ]
    },
    {
      "cell_type": "code",
      "metadata": {
        "id": "Cxqk2Z1DIdjt",
        "colab_type": "code",
        "colab": {}
      },
      "source": [
        ""
      ],
      "execution_count": 0,
      "outputs": []
    }
  ]
}