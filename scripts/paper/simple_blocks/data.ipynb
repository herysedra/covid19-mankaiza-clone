{
  "nbformat": 4,
  "nbformat_minor": 0,
  "metadata": {
    "colab": {
      "name": "Untitled0.ipynb",
      "provenance": [],
      "include_colab_link": true
    },
    "kernelspec": {
      "name": "python3",
      "display_name": "Python 3"
    }
  },
  "cells": [
    {
      "cell_type": "markdown",
      "metadata": {
        "id": "view-in-github",
        "colab_type": "text"
      },
      "source": [
        "<a href=\"https://colab.research.google.com/github/herysedra/covid19-mankaiza-clone/blob/andrana/scripts/paper/simple_blocks/data.ipynb\" target=\"_parent\"><img src=\"https://colab.research.google.com/assets/colab-badge.svg\" alt=\"Open In Colab\"/></a>"
      ]
    },
    {
      "cell_type": "code",
      "metadata": {
        "id": "OfbSMKigIKmn",
        "colab_type": "code",
        "colab": {
          "base_uri": "https://localhost:8080/",
          "height": 54
        },
        "outputId": "b80ec3d7-523f-4c47-c385-f3186f7a9586"
      },
      "source": [
        "from google.colab import drive\n",
        "drive.mount('/content/drive')"
      ],
      "execution_count": 24,
      "outputs": [
        {
          "output_type": "stream",
          "text": [
            "Drive already mounted at /content/drive; to attempt to forcibly remount, call drive.mount(\"/content/drive\", force_remount=True).\n"
          ],
          "name": "stdout"
        }
      ]
    },
    {
      "cell_type": "code",
      "metadata": {
        "id": "Fu1vvoXuLCZT",
        "colab_type": "code",
        "colab": {
          "base_uri": "https://localhost:8080/",
          "height": 607
        },
        "outputId": "444e6e9d-bc85-47d2-f4b0-88a84f7ea134"
      },
      "source": [
        "import pandas as pd\n",
        "import numpy as np\n",
        "import matplotlib.pyplot as plt\n",
        "import scipy.stats\n",
        "import matplotlib\n",
        "import pickle\n",
        "\n",
        "\"\"\"\n",
        "Mahasedra comments:\n",
        "Here we will trace most of treatments done on the data 'confirmed_cases'\n",
        "\"\"\"\n",
        "\n",
        "confirmed_cases_url = 'https://raw.githubusercontent.com/CSSEGISandData/COVID-19/master/csse_covid_19_data/csse_covid_19_time_series/time_series_covid19_confirmed_global.csv'\n",
        "confirmed_cases = pd.read_csv(confirmed_cases_url, sep=',')\n",
        "deaths_url =  'https://raw.githubusercontent.com/CSSEGISandData/COVID-19/master/csse_covid_19_data/csse_covid_19_time_series/time_series_covid19_deaths_global.csv'\n",
        "deaths = pd.read_csv(deaths_url, sep=',')\n",
        "#who_cases_mdg_file = '/content/drive/data/who_mdg.csv'\n",
        "who_cases_mdg = pd.read_csv(\"/content/drive/My Drive/data/who mdg.csv\")\n",
        "path_to_save = '../../figures/'\n",
        "path_data = '../../data/'\n",
        "\n",
        "print(who_cases_mdg)\n"
      ],
      "execution_count": 48,
      "outputs": [
        {
          "output_type": "stream",
          "text": [
            "       Date  Total cases  new cases  local transmission  Cluster  sporadic\n",
            "0   3/21/20            3          3                 NaN      NaN       NaN\n",
            "1   3/23/20           12          9                 NaN      NaN       NaN\n",
            "2   3/24/20           13          1                 NaN      NaN       NaN\n",
            "3   3/25/20           19          6                 NaN      NaN       NaN\n",
            "4   3/26/20           19          0                 NaN      NaN       NaN\n",
            "5   3/27/20           24          5                 NaN      NaN       NaN\n",
            "6   3/28/20           26          2                 NaN      NaN       NaN\n",
            "7   3/29/20           26          0                 NaN      NaN       NaN\n",
            "8   3/30/20           37         11                 NaN      NaN       NaN\n",
            "9   3/31/20           46          9                 NaN      NaN       NaN\n",
            "10   4/1/20           53          7                 0.0      NaN       NaN\n",
            "11   4/2/20           53          0                 1.0      NaN       NaN\n",
            "12   4/3/20           65         12                 0.0      NaN       NaN\n",
            "13   4/4/20           65          0                 1.0      NaN       NaN\n",
            "14   4/5/20           70          5                 0.0      NaN       NaN\n",
            "15   4/6/20           77          7                 0.0      NaN       NaN\n",
            "16   4/7/20           77          0                 1.0      NaN       NaN\n",
            "17   4/8/20           92         15                 0.0      NaN       NaN\n",
            "18   4/9/20           93          1                 0.0      NaN       NaN\n",
            "19  4/10/20           95          2                 NaN      0.0       NaN\n",
            "20  4/11/20           95          0                 NaN      1.0       NaN\n",
            "21  4/12/20          104          9                 NaN      0.0       NaN\n",
            "22  4/13/20          106          2                 NaN      0.0       NaN\n",
            "23  4/14/20          106          0                 NaN      1.0       NaN\n",
            "24  4/15/20          110          4                 NaN      0.0       NaN\n",
            "25  4/16/20          110          0                 NaN      0.0       NaN\n",
            "26  4/17/20          117          7                 NaN      0.0       NaN\n",
            "27  4/18/20          117          0                 NaN      1.0       NaN\n",
            "28  4/19/20          120          3                 NaN      0.0       NaN\n",
            "29  4/20/20          121          1                 NaN      0.0       NaN\n",
            "30  4/21/20          121          0                 NaN      1.0       NaN\n",
            "31  4/22/20          121          0                 NaN      2.0       NaN\n",
            "32  4/23/20          121          0                 NaN      3.0       NaN\n"
          ],
          "name": "stdout"
        }
      ]
    },
    {
      "cell_type": "code",
      "metadata": {
        "id": "nlxODWRx8txI",
        "colab_type": "code",
        "outputId": "9ad83452-431c-4fd0-8565-3c083a93c348",
        "colab": {
          "base_uri": "https://localhost:8080/",
          "height": 384
        }
      },
      "source": [
        "import pymc3 as pm\n",
        "import theano.tensor as tt\n",
        "import theano\n",
        "import datetime\n",
        "import time\n",
        "\n",
        "date_data_begin = datetime.date(2020,3,1)\n",
        "date_data_end = datetime.date(2020,3,15)\n",
        "num_days_to_predict = 28\n",
        "\n",
        "\n",
        "diff_data_sim = 16 # should be significantly larger than the expected delay, in \n",
        "                   # order to always fit the same number of data points.\n",
        "\n",
        "\n",
        "date_begin_sim = date_data_begin - datetime.timedelta(days = diff_data_sim)\n",
        "\n",
        "format_date = lambda date_py: '{}/{}/{}'.format(date_py.month, date_py.day,\n",
        "                                                 str(date_py.year)[2:4])\n",
        "date_formatted_begin = format_date(date_data_begin)\n",
        "date_formatted_end = format_date(date_data_end)\n",
        "\n",
        "\n",
        "\n",
        "cases_obs =  np.array(\n",
        "    confirmed_cases.loc[confirmed_cases[\"Country/Region\"] == \"Germany\", \n",
        "                        date_formatted_begin:date_formatted_end])[0]\n",
        "\n",
        "print(confirmed_cases)\n",
        "print(date_data_begin)\n",
        "print(date_formatted_begin)\n",
        "\n",
        "print('cases_obs from date_data_begin to date_data_end is', cases_obs, sep=\" \")\n",
        "\n",
        "print('len_(cases_obs) is', len(cases_obs), sep=\" \")\n",
        "type(cases_obs)\n",
        "cases_obs.shape\n",
        "#From the output, cases_obs is made of 15"
      ],
      "execution_count": 16,
      "outputs": [
        {
          "output_type": "stream",
          "text": [
            "                Province/State         Country/Region  ...  4/21/20  4/22/20\n",
            "0                          NaN            Afghanistan  ...     1092     1176\n",
            "1                          NaN                Albania  ...      609      634\n",
            "2                          NaN                Algeria  ...     2811     2910\n",
            "3                          NaN                Andorra  ...      717      723\n",
            "4                          NaN                 Angola  ...       24       25\n",
            "..                         ...                    ...  ...      ...      ...\n",
            "259  Saint Pierre and Miquelon                 France  ...        1        1\n",
            "260                        NaN            South Sudan  ...        4        4\n",
            "261                        NaN         Western Sahara  ...        6        6\n",
            "262                        NaN  Sao Tome and Principe  ...        4        4\n",
            "263                        NaN                  Yemen  ...        1        1\n",
            "\n",
            "[264 rows x 96 columns]\n",
            "2020-03-01\n",
            "3/1/20\n",
            "cases_obs from date_data_begin to date_data_end is [ 130  159  196  262  482  670  799 1040 1176 1457 1908 2078 3675 4585\n",
            " 5795]\n",
            "len_(cases_obs) is 15\n"
          ],
          "name": "stdout"
        },
        {
          "output_type": "execute_result",
          "data": {
            "text/plain": [
              "(15,)"
            ]
          },
          "metadata": {
            "tags": []
          },
          "execution_count": 16
        }
      ]
    },
    {
      "cell_type": "code",
      "metadata": {
        "id": "mmPeWdWYEjnV",
        "colab_type": "code",
        "outputId": "c70aa21e-9962-42b8-cf84-064b6e0b9d3b",
        "colab": {
          "base_uri": "https://localhost:8080/",
          "height": 69
        }
      },
      "source": [
        "cases0_obs =  np.array(\n",
        "    confirmed_cases.loc[confirmed_cases[\"Country/Region\"] == \"Germany\", \n",
        "                        date_formatted_begin:date_formatted_end])\n",
        "\n",
        "# Notice the absence of [0] at the end compared to cases_obs.\n",
        "\n",
        "print(cases0_obs)\n",
        "type(cases0_obs)\n",
        "cases0_obs.shape\n",
        "#From the output, cases0_obs is made of 1 row and 15 columns \n",
        "# The action of [0] is to pick the index 0."
      ],
      "execution_count": 17,
      "outputs": [
        {
          "output_type": "stream",
          "text": [
            "[[ 130  159  196  262  482  670  799 1040 1176 1457 1908 2078 3675 4585\n",
            "  5795]]\n"
          ],
          "name": "stdout"
        },
        {
          "output_type": "execute_result",
          "data": {
            "text/plain": [
              "(1, 15)"
            ]
          },
          "metadata": {
            "tags": []
          },
          "execution_count": 17
        }
      ]
    },
    {
      "cell_type": "code",
      "metadata": {
        "id": "AxmWA4ucWnoI",
        "colab_type": "code",
        "outputId": "f2b01195-b8e8-4680-eb7f-678b9d935799",
        "colab": {
          "base_uri": "https://localhost:8080/",
          "height": 677
        }
      },
      "source": [
        "date_data_begin = datetime.date(2020,4,1)\n",
        "date_data_end = datetime.date(2020,4,15)\n",
        "\n",
        "date_formatted_begin = format_date(date_data_begin)\n",
        "date_formatted_end = format_date(date_data_end)\n",
        "\n",
        "cases_j_m_obs =  np.array(\n",
        "    confirmed_cases.loc[confirmed_cases[\"Country/Region\"] == \"Madagascar\", \n",
        "                        date_formatted_begin:date_formatted_end])[0]\n",
        "\n",
        "after = date_formatted_begin <= who_cases_mdg['Date']\n",
        "before = who_cases_mdg['Date']<=date_formatted_end\n",
        "between = after & before\n",
        "print(after)\n",
        "#cases_w_m_obs = np.array(who_cases_mdg.loc[between,['Total cases']])\n",
        "#print(cases_w_m_obs)\n",
        "print(cases_w_m_obs.shape)\n",
        "\n",
        "\n",
        "cases_w_m_obs = np.array(who_cases_mdg['Total cases'])\n",
        "print(cases_w_m_obs)\n",
        "print('cases jhu mdg obs:', cases_j_m_obs)\n",
        "\n"
      ],
      "execution_count": 91,
      "outputs": [
        {
          "output_type": "stream",
          "text": [
            "0     False\n",
            "1     False\n",
            "2     False\n",
            "3     False\n",
            "4     False\n",
            "5     False\n",
            "6     False\n",
            "7     False\n",
            "8     False\n",
            "9     False\n",
            "10     True\n",
            "11     True\n",
            "12     True\n",
            "13     True\n",
            "14     True\n",
            "15     True\n",
            "16     True\n",
            "17     True\n",
            "18     True\n",
            "19     True\n",
            "20     True\n",
            "21     True\n",
            "22     True\n",
            "23     True\n",
            "24     True\n",
            "25     True\n",
            "26     True\n",
            "27     True\n",
            "28     True\n",
            "29     True\n",
            "30     True\n",
            "31     True\n",
            "32     True\n",
            "Name: Date, dtype: bool\n",
            "(33,)\n",
            "[  3  12  13  19  19  24  26  26  37  46  53  53  65  65  70  77  77  92\n",
            "  93  95  95 104 106 106 110 110 117 117 120 121 121 121 121]\n",
            "cases jhu mdg obs: [ 57  59  70  70  72  82  88  93  93  93 102 106 106 108 110]\n"
          ],
          "name": "stdout"
        }
      ]
    },
    {
      "cell_type": "code",
      "metadata": {
        "id": "Cxqk2Z1DIdjt",
        "colab_type": "code",
        "outputId": "657193c5-19a7-4b2d-f062-59d4192b4e81",
        "colab": {
          "base_uri": "https://localhost:8080/",
          "height": 555
        }
      },
      "source": [
        "def delay_cases(new_I_t, len_new_I_t, len_new_cases_obs , delay, delay_arr):\n",
        "    \"\"\"\n",
        "    Delays the input new_I_t by delay and return and array with length len_new_cases_obs\n",
        "    The initial delay of the output is set by delay_arr. \n",
        "    \n",
        "    Take care that delay is smaller or equal than delay_arr, otherwise zeros are \n",
        "    returned, which could potentially lead to errors\n",
        "\n",
        "    Also assure that len_new_I_t is larger then len(new_cases_obs)-delay, otherwise it \n",
        "    means that the simulated data is not long enough to be fitted to the data.\n",
        "    \"\"\"\n",
        "\n",
        "    \"\"\"\n",
        "    Mahasedra comments:\n",
        "    The function delay_cases() constructs the newly reported cases (C_t) of the article (p. 11. Eq. 4).\n",
        "    Indeed, it will be used below in many equalities of the form: new_cases_inferred = delay_cases(...),\n",
        "    where: \n",
        "    new_cases_inferred is the number of new cases given by the SIR model \n",
        "    new_cases_obs is the newly reported or observed cases.\n",
        "\n",
        "    The function delay_cases() is constructed by building other 2 functions: \n",
        "    make_delay_matrix() and interpolate(). [The constructions of these \n",
        "    2 functions are just programming details.]\n",
        "    \"\"\"\n",
        "\n",
        "\n",
        "\n",
        "    delay_mat = make_delay_matrix(n_rows=len_new_I_t, \n",
        "                                  n_columns=len_new_cases_obs, initial_delay=delay_arr)\n",
        "    inferred_cases = interpolate(new_I_t, delay, delay_mat)\n",
        "    return inferred_cases \n",
        "\n",
        "def make_delay_matrix(n_rows, n_columns, initial_delay=0):\n",
        "    \"\"\"\n",
        "    Has in each entry the delay between the input with size n_rows and the output\n",
        "    with size n_columns\n",
        "    \"\"\"\n",
        "    size = max(n_rows, n_columns)\n",
        "    mat = np.zeros((size, size))\n",
        "    for i in range(size):\n",
        "        diagonal = np.ones(size-i)*(initial_delay + i)\n",
        "        mat += np.diag(diagonal, i)\n",
        "    for i in range(1, size):\n",
        "        diagonal = np.ones(size-i)*(initial_delay - i)\n",
        "        mat += np.diag(diagonal, -i)\n",
        "    return mat[:n_rows, :n_columns]\n",
        "    \n",
        "    \"\"\"\n",
        "    Mahasedra comments:\n",
        "    Above is the construction of make_delay_matrix().\n",
        "    \"\"\"\n",
        "\n",
        "def interpolate(array, delay, delay_matrix):\n",
        "    interp_matrix = tt.maximum(1-tt.abs_(delay_matrix - delay), 0)\n",
        "    interpolation = tt.dot(array,interp_matrix)\n",
        "    return interpolation\n",
        "\n",
        "\n",
        "ex1 = delay_cases([1, 2, 3, 4, 5, 6, 7, 8, 9, 10, 11, 12, 13, 14], 14, 6, 3, 10)\n",
        "#ex1\n",
        "type(ex1)\n",
        "ex1.shape\n",
        "\n",
        "ex2 = make_delay_matrix(29,14,16)\n",
        "# ex2 is the delay_mat for len(new_I_t) = \n",
        "print('make_delay_matrix(29,14,16) is:')\n",
        "ex2\n",
        "\n",
        "ex3 = np.maximum(1-np.absolute(ex2 - 8),0)\n",
        "print('interp_matrix for make_delay_matrix(29,14,16) and a delay D = 8 is:')\n",
        "ex3\n",
        "# For a discrete time, delay_case built newly reported cases (C_t) from \n",
        "# newly infected case at time t - delay."
      ],
      "execution_count": 82,
      "outputs": [
        {
          "output_type": "stream",
          "text": [
            "make_delay_matrix(29,14,16) is:\n",
            "interp_matrix for make_delay_matrix(29,14,16) and a delay D = 8 is:\n"
          ],
          "name": "stdout"
        },
        {
          "output_type": "execute_result",
          "data": {
            "text/plain": [
              "array([[0., 0., 0., 0., 0., 0., 0., 0., 0., 0., 0., 0., 0., 0.],\n",
              "       [0., 0., 0., 0., 0., 0., 0., 0., 0., 0., 0., 0., 0., 0.],\n",
              "       [0., 0., 0., 0., 0., 0., 0., 0., 0., 0., 0., 0., 0., 0.],\n",
              "       [0., 0., 0., 0., 0., 0., 0., 0., 0., 0., 0., 0., 0., 0.],\n",
              "       [0., 0., 0., 0., 0., 0., 0., 0., 0., 0., 0., 0., 0., 0.],\n",
              "       [0., 0., 0., 0., 0., 0., 0., 0., 0., 0., 0., 0., 0., 0.],\n",
              "       [0., 0., 0., 0., 0., 0., 0., 0., 0., 0., 0., 0., 0., 0.],\n",
              "       [0., 0., 0., 0., 0., 0., 0., 0., 0., 0., 0., 0., 0., 0.],\n",
              "       [1., 0., 0., 0., 0., 0., 0., 0., 0., 0., 0., 0., 0., 0.],\n",
              "       [0., 1., 0., 0., 0., 0., 0., 0., 0., 0., 0., 0., 0., 0.],\n",
              "       [0., 0., 1., 0., 0., 0., 0., 0., 0., 0., 0., 0., 0., 0.],\n",
              "       [0., 0., 0., 1., 0., 0., 0., 0., 0., 0., 0., 0., 0., 0.],\n",
              "       [0., 0., 0., 0., 1., 0., 0., 0., 0., 0., 0., 0., 0., 0.],\n",
              "       [0., 0., 0., 0., 0., 1., 0., 0., 0., 0., 0., 0., 0., 0.],\n",
              "       [0., 0., 0., 0., 0., 0., 1., 0., 0., 0., 0., 0., 0., 0.],\n",
              "       [0., 0., 0., 0., 0., 0., 0., 1., 0., 0., 0., 0., 0., 0.],\n",
              "       [0., 0., 0., 0., 0., 0., 0., 0., 1., 0., 0., 0., 0., 0.],\n",
              "       [0., 0., 0., 0., 0., 0., 0., 0., 0., 1., 0., 0., 0., 0.],\n",
              "       [0., 0., 0., 0., 0., 0., 0., 0., 0., 0., 1., 0., 0., 0.],\n",
              "       [0., 0., 0., 0., 0., 0., 0., 0., 0., 0., 0., 1., 0., 0.],\n",
              "       [0., 0., 0., 0., 0., 0., 0., 0., 0., 0., 0., 0., 1., 0.],\n",
              "       [0., 0., 0., 0., 0., 0., 0., 0., 0., 0., 0., 0., 0., 1.],\n",
              "       [0., 0., 0., 0., 0., 0., 0., 0., 0., 0., 0., 0., 0., 0.],\n",
              "       [0., 0., 0., 0., 0., 0., 0., 0., 0., 0., 0., 0., 0., 0.],\n",
              "       [0., 0., 0., 0., 0., 0., 0., 0., 0., 0., 0., 0., 0., 0.],\n",
              "       [0., 0., 0., 0., 0., 0., 0., 0., 0., 0., 0., 0., 0., 0.],\n",
              "       [0., 0., 0., 0., 0., 0., 0., 0., 0., 0., 0., 0., 0., 0.],\n",
              "       [0., 0., 0., 0., 0., 0., 0., 0., 0., 0., 0., 0., 0., 0.],\n",
              "       [0., 0., 0., 0., 0., 0., 0., 0., 0., 0., 0., 0., 0., 0.]])"
            ]
          },
          "metadata": {
            "tags": []
          },
          "execution_count": 82
        }
      ]
    },
    {
      "cell_type": "markdown",
      "metadata": {
        "id": "efMzzusyx0V3",
        "colab_type": "text"
      },
      "source": [
        "# Construction of new_case_inferred"
      ]
    },
    {
      "cell_type": "markdown",
      "metadata": {
        "id": "ANkDzisYK6qa",
        "colab_type": "text"
      },
      "source": [
        "## 1/ Input values for new_case_inferred  \n",
        "For all cases, the following inputs values of new_case_inferred do not change:  \\\n",
        "delay = delay,  (delay is a random variable) \\\n",
        "delay_arr = diff_data_sim (= 16)"
      ]
    },
    {
      "cell_type": "markdown",
      "metadata": {
        "id": "_Ygq5bKhWg62",
        "colab_type": "text"
      },
      "source": [
        "1.1/ new_case_inferred from the training of the model "
      ]
    },
    {
      "cell_type": "code",
      "metadata": {
        "id": "j3WQWGNNw9q7",
        "colab_type": "code",
        "colab": {}
      },
      "source": [
        "    S_begin = N_germany - I_begin\n",
        "    S_past, I_past, new_I_past = SIR_model(λ=λ * tt.ones(num_days-1), μ=μ, \n",
        "                                               S_begin=S_begin, I_begin=I_begin,\n",
        "                                               N=N_germany)\n",
        "    new_cases_obs = np.diff(cases_obs)\n",
        "    new_cases_inferred = delay_cases(new_I_past, len_new_I_t=num_days - 1, \n",
        "                                     len_new_cases_obs = len(new_cases_obs), \n",
        "                                     delay = delay, \n",
        "                                     delay_arr = diff_data_sim\n",
        "                                     )"
      ],
      "execution_count": 0,
      "outputs": []
    },
    {
      "cell_type": "markdown",
      "metadata": {
        "id": "hNTQ2BXIW-Nh",
        "colab_type": "text"
      },
      "source": [
        "For the training of the model, the input values for new_cases_inferred are: \\\n",
        "    new_I_t = new_I_past, \\\n",
        "    len_new_I_t = num_days - 1 = 29 \\\n",
        "    len_new_cases_obs = len(new_cases_obs) = len(cases_obs) - 1 = 15 - 1 = 14"
      ]
    },
    {
      "cell_type": "markdown",
      "metadata": {
        "id": "JcH0WGUtXLYb",
        "colab_type": "text"
      },
      "source": [
        "1.2/ Prediction \\\n",
        "For all cases of prediction, the following input values are fixed: \\\n",
        "len_new_I_t = diff_data_sim + num_days_to_predict = 16 + 28 = 44,     \n",
        "len_new_cases_obs = num_days_to_predict = 28 \\"
      ]
    },
    {
      "cell_type": "markdown",
      "metadata": {
        "id": "ItuFi15HvVyJ",
        "colab_type": "text"
      },
      "source": [
        "For each case of prediction, the explicit construction of new_I_t changes."
      ]
    },
    {
      "cell_type": "code",
      "metadata": {
        "id": "J8e9YFzJvEhp",
        "colab_type": "code",
        "colab": {}
      },
      "source": [
        "# prediction, start with no changes in policy\n",
        "    S_begin = S_past[-1]\n",
        "    I_begin = I_past[-1]\n",
        "    forecast_no_change = SIR_model(λ=λ*tt.ones(num_days_to_predict), μ=μ, \n",
        "                        S_begin=S_begin, I_begin=I_begin, N=N_germany)\n",
        "    S_no_change, I_no_change, new_I_no_change = forecast_no_change\n",
        "\n",
        "new_cases_inferred = delay_cases(tt.concatenate([new_I_past[-diff_data_sim:], new_I_no_change]),\n",
        "                                len_new_I_t = diff_data_sim + num_days_to_predict, \n",
        "                                len_new_cases_obs = num_days_to_predict, \n",
        "                                delay = delay, # delay is a random variable\n",
        "                                delay_arr = diff_data_sim\n",
        " # One preserves the last 16 (= diff_data_sim) elements of new_I_past \n",
        " # and concatenates them with the 28 (= num_days_to_predict) elements of new_I_no_change"
      ],
      "execution_count": 0,
      "outputs": []
    },
    {
      "cell_type": "code",
      "metadata": {
        "id": "scMxitpAvoJR",
        "colab_type": "code",
        "colab": {}
      },
      "source": [
        " # social distancing, m reduced by about 50 percent\n",
        "\n",
        "new_cases_inferred = delay_cases(tt.concatenate([new_I_past[-diff_data_sim:], new_I_soc_dist]), \n",
        "                                len_new_I_t = diff_data_sim + num_days_to_predict, \n",
        "                                len_new_cases_obs = num_days_to_predict, \n",
        "                                delay = delay, \n",
        "                                delay_arr = diff_data_sim\n",
        "                                 )\n",
        "                               "
      ],
      "execution_count": 0,
      "outputs": []
    },
    {
      "cell_type": "code",
      "metadata": {
        "id": "uqB41uqmF_6K",
        "colab_type": "code",
        "colab": {}
      },
      "source": [
        "# isolation, almost no new infections besides baseline after transient phase\n",
        "\n",
        "new_cases_inferred = delay_cases(tt.concatenate([new_I_past[-diff_data_sim:], new_I_isol]), \n",
        "                                len_new_I_t = diff_data_sim + num_days_to_predict, \n",
        "                                len_new_cases_obs = num_days_to_predict, \n",
        "                                delay = delay, \n",
        "                                delay_arr = diff_data_sim\n",
        "                                 )\n",
        "                                 \n",
        "                              "
      ],
      "execution_count": 0,
      "outputs": []
    },
    {
      "cell_type": "code",
      "metadata": {
        "id": "AUHl4_8KG7xM",
        "colab_type": "code",
        "colab": {}
      },
      "source": [
        " # isolation 5 days later, almost no new infections besides baseline after transient phase\n",
        " new_cases_inferred = delay_cases(tt.concatenate([new_I_past[-diff_data_sim:], new_I_isol_later]), \n",
        "                                  len_new_I_t = diff_data_sim + num_days_to_predict, \n",
        "                                  len_new_cases_obs = num_days_to_predict, \n",
        "                                  delay = delay, delay_arr = diff_data_sim\n",
        "                                  )"
      ],
      "execution_count": 0,
      "outputs": []
    },
    {
      "cell_type": "code",
      "metadata": {
        "id": "fSeA05uCHRu_",
        "colab_type": "code",
        "colab": {}
      },
      "source": [
        "# isolation 5 days earlier, almost no new infections besides baseline after transient phase\n",
        "# length_transient = 7\n",
        "\n",
        "new_cases_inferred = delay_cases(tt.concatenate([new_I_past[-diff_data_sim:days_offset], new_I_earlier]), \n",
        "                                 len_new_I_t=diff_data_sim + num_days_to_predict, \n",
        "                                 len_new_cases_obs=num_days_to_predict, \n",
        "                                delay=delay, delay_arr=diff_data_sim\n",
        "                                 )"
      ],
      "execution_count": 0,
      "outputs": []
    },
    {
      "cell_type": "code",
      "metadata": {
        "id": "HaesvwAQJCJ7",
        "colab_type": "code",
        "colab": {}
      },
      "source": [
        "# long transient scenario\n",
        "#  length_transient = 14\n",
        "new_cases_inferred = delay_cases(tt.concatenate([new_I_past[-diff_data_sim:days_offset_sim], new_I_long_trans]), \n",
        "                                 len_new_I_t=diff_data_sim + num_days_to_predict, \n",
        "                                 len_new_cases_obs=num_days_to_predict, \n",
        "                                 delay=delay, delay_arr=diff_data_sim\n",
        "                                 )"
      ],
      "execution_count": 0,
      "outputs": []
    },
    {
      "cell_type": "code",
      "metadata": {
        "id": "uQ8NZj63JUKd",
        "colab_type": "code",
        "colab": {}
      },
      "source": [
        "# immediate transient scenario\n",
        "new_cases_inferred = delay_cases(tt.concatenate([new_I_past[-diff_data_sim:], new_I_isol]), \n",
        "                                 len_new_I_t=diff_data_sim + num_days_to_predict, \n",
        "                                 len_new_cases_obs=num_days_to_predict, \n",
        "                                 delay=delay, delay_arr=diff_data_sim\n",
        "                                 )"
      ],
      "execution_count": 0,
      "outputs": []
    },
    {
      "cell_type": "code",
      "metadata": {
        "id": "dFNZRoOdJmWn",
        "colab_type": "code",
        "colab": {}
      },
      "source": [
        "    # -------------------------------------------------------------------------- #\n",
        "    # Data for the training of the model \n",
        "    # -------------------------------------------------------------------------- #\n",
        "\n",
        "    \n",
        "    # For the training:"
      ],
      "execution_count": 0,
      "outputs": []
    }
  ]
}