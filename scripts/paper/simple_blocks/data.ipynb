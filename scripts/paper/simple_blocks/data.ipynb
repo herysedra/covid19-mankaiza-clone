{
  "nbformat": 4,
  "nbformat_minor": 0,
  "metadata": {
    "colab": {
      "name": "Untitled0.ipynb",
      "provenance": [],
      "include_colab_link": true
    },
    "kernelspec": {
      "name": "python3",
      "display_name": "Python 3"
    }
  },
  "cells": [
    {
      "cell_type": "markdown",
      "metadata": {
        "id": "view-in-github",
        "colab_type": "text"
      },
      "source": [
        "<a href=\"https://colab.research.google.com/github/herysedra/covid19-mankaiza-clone/blob/andrana/scripts/paper/simple_blocks/data.ipynb\" target=\"_parent\"><img src=\"https://colab.research.google.com/assets/colab-badge.svg\" alt=\"Open In Colab\"/></a>"
      ]
    },
    {
      "cell_type": "code",
      "metadata": {
        "id": "QSa41pHiyZMC",
        "colab_type": "code",
        "colab": {}
      },
      "source": [
        "import pandas as pd\n",
        "import numpy as np\n",
        "import matplotlib.pyplot as plt\n",
        "import scipy.stats\n",
        "import matplotlib\n",
        "import pickle\n",
        "\n",
        "\"\"\"\n",
        "Mahasedra comments:\n",
        "Here we will trace most of treatments done on the data 'confirmed_cases'\n",
        "\"\"\"\n",
        "\n",
        "confirmed_cases_url = 'https://raw.githubusercontent.com/CSSEGISandData/COVID-19/master/csse_covid_19_data/csse_covid_19_time_series/time_series_covid19_confirmed_global.csv'\n",
        "confirmed_cases = pd.read_csv(confirmed_cases_url, sep=',')\n",
        "deaths_url =  'https://raw.githubusercontent.com/CSSEGISandData/COVID-19/master/csse_covid_19_data/csse_covid_19_time_series/time_series_covid19_deaths_global.csv'\n",
        "deaths = pd.read_csv(deaths_url, sep=',')\n",
        "path_to_save = '../../figures/'\n",
        "path_data = '../../data/'\n"
      ],
      "execution_count": 0,
      "outputs": []
    },
    {
      "cell_type": "code",
      "metadata": {
        "id": "nlxODWRx8txI",
        "colab_type": "code",
        "outputId": "94eebbef-e062-4d89-da7f-d0185db30ac4",
        "colab": {
          "base_uri": "https://localhost:8080/",
          "height": 367
        }
      },
      "source": [
        "import pymc3 as pm\n",
        "import theano.tensor as tt\n",
        "import theano\n",
        "import datetime\n",
        "import time\n",
        "\n",
        "date_data_begin = datetime.date(2020,3,1)\n",
        "date_data_end = datetime.date(2020,3,15)\n",
        "num_days_to_predict = 28\n",
        "\n",
        "\n",
        "diff_data_sim = 16 # should be significantly larger than the expected delay, in \n",
        "                   # order to always fit the same number of data points.\n",
        "\n",
        "\"\"\"\n",
        "Mahasedra:\n",
        "diff_data_sim: number of days which separate the date_data_begin (1 march 2020:\n",
        "the fitting starts) and the date_begin_sim (15 march 2020: the simulation starts\n",
        ")\n",
        "\"\"\"\n",
        "\n",
        "date_begin_sim = date_data_begin - datetime.timedelta(days = diff_data_sim)\n",
        "\n",
        "format_date = lambda date_py: '{}/{}/{}'.format(date_py.month, date_py.day,\n",
        "                                                 str(date_py.year)[2:4])\n",
        "date_formatted_begin = format_date(date_data_begin)\n",
        "date_formatted_end = format_date(date_data_end)\n",
        "\n",
        "\"\"\"\n",
        "Mahasedra & Joely: format date\n",
        "\"\"\"\n",
        "\n",
        "cases_obs =  np.array(\n",
        "    confirmed_cases.loc[confirmed_cases[\"Country/Region\"] == \"Germany\", \n",
        "                        date_formatted_begin:date_formatted_end])[0]\n",
        "\n",
        "print(confirmed_cases)\n",
        "print(date_data_begin)\n",
        "print(date_formatted_begin)\n",
        "\n",
        "print('cases_obs from date_data_begin to date_data_end is', cases_obs, sep=\" \")\n",
        "\n",
        "type(cases_obs)\n",
        "cases_obs.shape\n",
        "#From the output, cases_obs is made of 15"
      ],
      "execution_count": 8,
      "outputs": [
        {
          "output_type": "stream",
          "text": [
            "                Province/State         Country/Region  ...  4/14/20  4/15/20\n",
            "0                          NaN            Afghanistan  ...      714      784\n",
            "1                          NaN                Albania  ...      475      494\n",
            "2                          NaN                Algeria  ...     2070     2160\n",
            "3                          NaN                Andorra  ...      659      673\n",
            "4                          NaN                 Angola  ...       19       19\n",
            "..                         ...                    ...  ...      ...      ...\n",
            "259  Saint Pierre and Miquelon                 France  ...        1        1\n",
            "260                        NaN            South Sudan  ...        4        4\n",
            "261                        NaN         Western Sahara  ...        6        6\n",
            "262                        NaN  Sao Tome and Principe  ...        4        4\n",
            "263                        NaN                  Yemen  ...        1        1\n",
            "\n",
            "[264 rows x 89 columns]\n",
            "2020-03-01\n",
            "3/1/20\n",
            "cases_obs from date_data_begin to date_data_end is [ 130  159  196  262  482  670  799 1040 1176 1457 1908 2078 3675 4585\n",
            " 5795]\n"
          ],
          "name": "stdout"
        },
        {
          "output_type": "execute_result",
          "data": {
            "text/plain": [
              "(15,)"
            ]
          },
          "metadata": {
            "tags": []
          },
          "execution_count": 8
        }
      ]
    },
    {
      "cell_type": "code",
      "metadata": {
        "id": "mmPeWdWYEjnV",
        "colab_type": "code",
        "outputId": "0c30c38d-2649-4a18-fc17-4f1aa7ffe41f",
        "colab": {
          "base_uri": "https://localhost:8080/",
          "height": 69
        }
      },
      "source": [
        "cases0_obs =  np.array(\n",
        "    confirmed_cases.loc[confirmed_cases[\"Country/Region\"] == \"Germany\", \n",
        "                        date_formatted_begin:date_formatted_end])\n",
        "\n",
        "# Notice the absence of [0] at the end compared to cases_obs.\n",
        "\n",
        "print(cases0_obs)\n",
        "type(cases0_obs)\n",
        "cases0_obs.shape\n",
        "#From the output, cases0_obs is made of 1 row and 15 columns \n",
        "# The action of [0] is to pick the index 0."
      ],
      "execution_count": 5,
      "outputs": [
        {
          "output_type": "stream",
          "text": [
            "[[ 130  159  196  262  482  670  799 1040 1176 1457 1908 2078 3675 4585\n",
            "  5795]]\n"
          ],
          "name": "stdout"
        },
        {
          "output_type": "execute_result",
          "data": {
            "text/plain": [
              "(1, 15)"
            ]
          },
          "metadata": {
            "tags": []
          },
          "execution_count": 5
        }
      ]
    },
    {
      "cell_type": "code",
      "metadata": {
        "id": "Cxqk2Z1DIdjt",
        "colab_type": "code",
        "colab": {}
      },
      "source": [
        "def delay_cases(new_I_t, len_new_I_t, len_new_cases_obs , delay, delay_arr):\n",
        "    \"\"\"\n",
        "    Delays the input new_I_t by delay and return and array with length len_new_cases_obs\n",
        "    The initial delay of the output is set by delay_arr. \n",
        "    \n",
        "    Take care that delay is smaller or equal than delay_arr, otherwise zeros are \n",
        "    returned, which could potentially lead to errors\n",
        "\n",
        "    Also assure that len_new_I_t is larger then len(new_cases_obs)-delay, otherwise it \n",
        "    means that the simulated data is not long enough to be fitted to the data.\n",
        "    \"\"\"\n",
        "\n",
        "    \"\"\"\n",
        "    Mahasedra comments:\n",
        "    The function delay_cases() constructs the newly reported cases (C_t) of the article (p. 11. Eq. 4).\n",
        "    Indeed, it will be used below in many equalities of the form: new_cases_inferred = delay_cases(...),\n",
        "    where: \n",
        "    new_cases_inferred is the number of new cases given by the SIR model \n",
        "    new_cases_obs is the newly reported or observed cases.\n",
        "\n",
        "    The function delay_cases() is constructed by building other 2 functions: \n",
        "    make_delay_matrix() and interpolate(). [The constructions of these \n",
        "    2 functions are just programming details.]\n",
        "    \"\"\"\n",
        "\n",
        "\n",
        "\n",
        "    delay_mat = make_delay_matrix(n_rows=len_new_I_t, \n",
        "                                  n_columns=len_new_cases_obs, initial_delay=delay_arr)\n",
        "    inferred_cases = interpolate(new_I_t, delay, delay_mat)\n",
        "    return inferred_cases \n",
        "\n",
        "def make_delay_matrix(n_rows, n_columns, initial_delay=0):\n",
        "    \"\"\"\n",
        "    Has in each entry the delay between the input with size n_rows and the output\n",
        "    with size n_columns\n",
        "    \"\"\"\n",
        "    size = max(n_rows, n_columns)\n",
        "    mat = np.zeros((size, size))\n",
        "    for i in range(size):\n",
        "        diagonal = np.ones(size-i)*(initial_delay + i)\n",
        "        mat += np.diag(diagonal, i)\n",
        "    for i in range(1, size):\n",
        "        diagonal = np.ones(size-i)*(initial_delay - i)\n",
        "        mat += np.diag(diagonal, -i)\n",
        "    return mat[:n_rows, :n_columns]\n",
        "    \n",
        "    \"\"\"\n",
        "    Mahasedra comments:\n",
        "    Above is the construction of make_delay_matrix().\n",
        "    \"\"\"\n",
        "\n",
        "def interpolate(array, delay, delay_matrix):\n",
        "    interp_matrix = tt.maximum(1-tt.abs_(delay_matrix - delay), 0)\n",
        "    interpolation = tt.dot(array,interp_matrix)\n",
        "    return interpolation\n",
        "\n",
        "    \"\"\"\n",
        "    Mahasedra comments:\n",
        "    Above is the construction of interpolate().\n",
        "    \"\"\"\n",
        "\n"
      ],
      "execution_count": 0,
      "outputs": []
    },
    {
      "cell_type": "code",
      "metadata": {
        "id": "iwDJBeMrPnno",
        "colab_type": "code",
        "colab": {}
      },
      "source": [
        "# Construction of new_case_inferred\n",
        "\n",
        "\"\"\"\n",
        "new_cases_inferred = delay_cases(tt.concatenate([new_I_past[-diff_data_sim:], new_I_no_change]), \n",
        "                                 len_new_I_t=diff_data_sim + num_days_to_predict, \n",
        "                                 len_new_cases_obs=num_days_to_predict, \n",
        "                                 delay=delay, delay_arr=diff_data_sim)\n",
        "\"\"\""
      ],
      "execution_count": 0,
      "outputs": []
    }
  ]
}