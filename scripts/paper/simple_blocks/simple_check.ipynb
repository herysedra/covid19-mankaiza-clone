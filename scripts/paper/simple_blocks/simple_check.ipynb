{
  "nbformat": 4,
  "nbformat_minor": 0,
  "metadata": {
    "colab": {
      "name": "Untitled4.ipynb",
      "provenance": [],
      "include_colab_link": true
    },
    "kernelspec": {
      "name": "python3",
      "display_name": "Python 3"
    }
  },
  "cells": [
    {
      "cell_type": "markdown",
      "metadata": {
        "id": "view-in-github",
        "colab_type": "text"
      },
      "source": [
        "<a href=\"https://colab.research.google.com/github/herysedra/covid19-mankaiza-clone/blob/andrana/scripts/paper/simple_blocks/simple_check.ipynb\" target=\"_parent\"><img src=\"https://colab.research.google.com/assets/colab-badge.svg\" alt=\"Open In Colab\"/></a>"
      ]
    },
    {
      "cell_type": "code",
      "metadata": {
        "id": "pusSJJIVT_bT",
        "colab_type": "code",
        "colab": {}
      },
      "source": [
        "import pymc3 as pm\n",
        "import theano.tensor as tt\n",
        "import theano\n",
        "import datetime\n",
        "import time\n",
        "\n",
        "import pandas as pd\n",
        "import numpy as np\n",
        "import matplotlib.pyplot as plt\n",
        "import scipy.stats\n",
        "import matplotlib\n",
        "import pickle\n"
      ],
      "execution_count": 0,
      "outputs": []
    },
    {
      "cell_type": "code",
      "metadata": {
        "id": "IQwJV801hAbh",
        "colab_type": "code",
        "outputId": "b1902c99-8582-46db-96cd-185436f0be1a",
        "colab": {
          "base_uri": "https://localhost:8080/",
          "height": 34
        }
      },
      "source": [
        "num_days = 5\n",
        "\n",
        "a = tt.ones(num_days-1)\n",
        "b = np.array(a)\n",
        "b"
      ],
      "execution_count": 62,
      "outputs": [
        {
          "output_type": "execute_result",
          "data": {
            "text/plain": [
              "array(Alloc.0, dtype=object)"
            ]
          },
          "metadata": {
            "tags": []
          },
          "execution_count": 62
        }
      ]
    },
    {
      "cell_type": "code",
      "metadata": {
        "id": "gLKvQ4fZhKTc",
        "colab_type": "code",
        "colab": {}
      },
      "source": [
        "print(tt.ones(num_days-1))"
      ],
      "execution_count": 0,
      "outputs": []
    },
    {
      "cell_type": "code",
      "metadata": {
        "id": "gGCrgOz7g78_",
        "colab_type": "code",
        "outputId": "5c40b53e-e1c2-444a-9316-3d247c93e53d",
        "colab": {
          "base_uri": "https://localhost:8080/",
          "height": 34
        }
      },
      "source": [
        "type(tt.ones(num_days-1))"
      ],
      "execution_count": 0,
      "outputs": [
        {
          "output_type": "execute_result",
          "data": {
            "text/plain": [
              "theano.tensor.var.TensorVariable"
            ]
          },
          "metadata": {
            "tags": []
          },
          "execution_count": 16
        }
      ]
    },
    {
      "cell_type": "code",
      "metadata": {
        "id": "60sXkH4vfH1-",
        "colab_type": "code",
        "outputId": "557c0127-1001-4a8d-f592-20d8f01cbc25",
        "colab": {
          "base_uri": "https://localhost:8080/",
          "height": 34
        }
      },
      "source": [
        "tt.ones(num_days-1).shape"
      ],
      "execution_count": 0,
      "outputs": [
        {
          "output_type": "execute_result",
          "data": {
            "text/plain": [
              "Shape.0"
            ]
          },
          "metadata": {
            "tags": []
          },
          "execution_count": 17
        }
      ]
    },
    {
      "cell_type": "code",
      "metadata": {
        "id": "mlZSUmSLgn7x",
        "colab_type": "code",
        "outputId": "903ce2b9-b1a0-4ee2-c7bd-0e828faec00b",
        "colab": {
          "base_uri": "https://localhost:8080/",
          "height": 34
        }
      },
      "source": [
        "2*tt.ones(num_days-1)"
      ],
      "execution_count": 0,
      "outputs": [
        {
          "output_type": "execute_result",
          "data": {
            "text/plain": [
              "Elemwise{mul,no_inplace}.0"
            ]
          },
          "metadata": {
            "tags": []
          },
          "execution_count": 19
        }
      ]
    },
    {
      "cell_type": "code",
      "metadata": {
        "id": "Op_I2T8vhSIt",
        "colab_type": "code",
        "outputId": "56c99f78-3436-42e3-a04f-4963faaba8fb",
        "colab": {
          "base_uri": "https://localhost:8080/",
          "height": 34
        }
      },
      "source": [
        "print(2*tt.ones(num_days-1))"
      ],
      "execution_count": 0,
      "outputs": [
        {
          "output_type": "stream",
          "text": [
            "Elemwise{mul,no_inplace}.0\n"
          ],
          "name": "stdout"
        }
      ]
    },
    {
      "cell_type": "code",
      "metadata": {
        "id": "Qn48ASdFgygD",
        "colab_type": "code",
        "outputId": "6296baed-c6f0-405c-dccc-81fd0c852796",
        "colab": {
          "base_uri": "https://localhost:8080/",
          "height": 34
        }
      },
      "source": [
        "type(2*tt.ones(num_days-1))"
      ],
      "execution_count": 0,
      "outputs": [
        {
          "output_type": "execute_result",
          "data": {
            "text/plain": [
              "theano.tensor.var.TensorVariable"
            ]
          },
          "metadata": {
            "tags": []
          },
          "execution_count": 22
        }
      ]
    },
    {
      "cell_type": "code",
      "metadata": {
        "id": "DccleYvChdRo",
        "colab_type": "code",
        "outputId": "993f0b0b-93a5-45f9-eb45-fb2fdc939444",
        "colab": {
          "base_uri": "https://localhost:8080/",
          "height": 34
        }
      },
      "source": [
        "2*tt.ones(num_days-1).shape"
      ],
      "execution_count": 0,
      "outputs": [
        {
          "output_type": "execute_result",
          "data": {
            "text/plain": [
              "Elemwise{mul,no_inplace}.0"
            ]
          },
          "metadata": {
            "tags": []
          },
          "execution_count": 23
        }
      ]
    },
    {
      "cell_type": "code",
      "metadata": {
        "id": "PBd-5LYkGtMb",
        "colab_type": "code",
        "colab": {
          "base_uri": "https://localhost:8080/",
          "height": 34
        },
        "outputId": "e37601ec-c37f-4bc9-d0a8-13d4623c366e"
      },
      "source": [
        "a = np.array([1, 2, 3, 4])\n",
        "a"
      ],
      "execution_count": 5,
      "outputs": [
        {
          "output_type": "execute_result",
          "data": {
            "text/plain": [
              "array([1, 2, 3, 4])"
            ]
          },
          "metadata": {
            "tags": []
          },
          "execution_count": 5
        }
      ]
    },
    {
      "cell_type": "code",
      "metadata": {
        "id": "QvS75Pn-7LYe",
        "colab_type": "code",
        "colab": {
          "base_uri": "https://localhost:8080/",
          "height": 34
        },
        "outputId": "0934d873-081c-4344-a5a8-7cf7bce9ab28"
      },
      "source": [
        "b = range(10)\n",
        "type(a)"
      ],
      "execution_count": 32,
      "outputs": [
        {
          "output_type": "execute_result",
          "data": {
            "text/plain": [
              "numpy.ndarray"
            ]
          },
          "metadata": {
            "tags": []
          },
          "execution_count": 32
        }
      ]
    },
    {
      "cell_type": "code",
      "metadata": {
        "id": "p5C72WTf_pXY",
        "colab_type": "code",
        "colab": {
          "base_uri": "https://localhost:8080/",
          "height": 69
        },
        "outputId": "04a4da8b-e40d-467c-8f32-f83912c79414"
      },
      "source": [
        "A = np.array([[1,2,3,4],[5,6,7,8]])\n",
        "print(A)\n",
        "A[:,2] # returns the third columm"
      ],
      "execution_count": 38,
      "outputs": [
        {
          "output_type": "stream",
          "text": [
            "[[1 2 3 4]\n",
            " [5 6 7 8]]\n"
          ],
          "name": "stdout"
        },
        {
          "output_type": "execute_result",
          "data": {
            "text/plain": [
              "array([3, 7])"
            ]
          },
          "metadata": {
            "tags": []
          },
          "execution_count": 38
        }
      ]
    },
    {
      "cell_type": "code",
      "metadata": {
        "id": "r6rN4lVa6uLI",
        "colab_type": "code",
        "colab": {
          "base_uri": "https://localhost:8080/",
          "height": 243
        },
        "outputId": "8068a46a-1a41-4dfc-9ab6-4aa7668d68e6"
      },
      "source": [
        "k = tt.iscalar(\"k\")\n",
        "A = tt.vector(\"A\")\n",
        "\n",
        "# Symbolic description of the result\n",
        "result, updates = theano.scan(fn=lambda prior_result, A: prior_result * A,\n",
        "                              outputs_info=tt.ones_like(A),\n",
        "                              non_sequences=A,\n",
        "                              n_steps=k)\n",
        "\n",
        "# We only care about A**k, but scan has provided us with A**1 through A**k.\n",
        "# result.shape is equal to (A.shape)**k \n",
        "# Discard the values that we don't care about. Scan is smart enough to\n",
        "# notice this and not waste memory saving them.\n",
        "\n",
        "final_result = result[-1]\n",
        "\n",
        "\n",
        "\n",
        "# compiled function that returns A**k\n",
        "power = theano.function(inputs=[A,k], outputs=final_result, updates=updates)\n",
        "bb = theano.function([A,k], outputs=result)\n",
        "\n",
        "print(power(range(10),2))\n",
        "print(power(range(10),4))\n",
        "print(bb(range(10),5))\n"
      ],
      "execution_count": 41,
      "outputs": [
        {
          "output_type": "stream",
          "text": [
            "[ 0.  1.  4.  9. 16. 25. 36. 49. 64. 81.]\n",
            "[0.000e+00 1.000e+00 1.600e+01 8.100e+01 2.560e+02 6.250e+02 1.296e+03\n",
            " 2.401e+03 4.096e+03 6.561e+03]\n",
            "[[0.0000e+00 1.0000e+00 2.0000e+00 3.0000e+00 4.0000e+00 5.0000e+00\n",
            "  6.0000e+00 7.0000e+00 8.0000e+00 9.0000e+00]\n",
            " [0.0000e+00 1.0000e+00 4.0000e+00 9.0000e+00 1.6000e+01 2.5000e+01\n",
            "  3.6000e+01 4.9000e+01 6.4000e+01 8.1000e+01]\n",
            " [0.0000e+00 1.0000e+00 8.0000e+00 2.7000e+01 6.4000e+01 1.2500e+02\n",
            "  2.1600e+02 3.4300e+02 5.1200e+02 7.2900e+02]\n",
            " [0.0000e+00 1.0000e+00 1.6000e+01 8.1000e+01 2.5600e+02 6.2500e+02\n",
            "  1.2960e+03 2.4010e+03 4.0960e+03 6.5610e+03]\n",
            " [0.0000e+00 1.0000e+00 3.2000e+01 2.4300e+02 1.0240e+03 3.1250e+03\n",
            "  7.7760e+03 1.6807e+04 3.2768e+04 5.9049e+04]]\n"
          ],
          "name": "stdout"
        }
      ]
    },
    {
      "cell_type": "code",
      "metadata": {
        "id": "Ba_kjZDxACT1",
        "colab_type": "code",
        "colab": {}
      },
      "source": [
        ""
      ],
      "execution_count": 0,
      "outputs": []
    },
    {
      "cell_type": "code",
      "metadata": {
        "id": "NR01ibfWHTcg",
        "colab_type": "code",
        "colab": {
          "base_uri": "https://localhost:8080/",
          "height": 34
        },
        "outputId": "d28cef6a-3787-412b-b3ac-00efd7b7fd93"
      },
      "source": [
        "u = tt.vector('u')\n",
        "#u = [1, 2, 3, 4]\n",
        "v = tt.vector('v')\n",
        "#v = [11, 12, 13, 14]\n",
        "\n",
        "w = tt.fmatrix('w')\n",
        "w = tt.concatenate([u[-4:], v])\n",
        "f = theano.function([u,v], w)\n",
        "f([1, 2, 3, 4],[11, 12, 13, 14])"
      ],
      "execution_count": 42,
      "outputs": [
        {
          "output_type": "execute_result",
          "data": {
            "text/plain": [
              "array([ 1.,  2.,  3.,  4., 11., 12., 13., 14.])"
            ]
          },
          "metadata": {
            "tags": []
          },
          "execution_count": 42
        }
      ]
    },
    {
      "cell_type": "code",
      "metadata": {
        "id": "zOK_LkMECfFS",
        "colab_type": "code",
        "colab": {
          "base_uri": "https://localhost:8080/",
          "height": 34
        },
        "outputId": "a3591a94-a9e8-4174-ef33-718a797bddc8"
      },
      "source": [
        "u = tt.vector('u')\n",
        "#u = [1, 2, 3, 4]\n",
        "v = tt.vector('v')\n",
        "#v = [11, 12, 13, 14]\n",
        "\n",
        "w = tt.fmatrix('w')\n",
        "w = tt.concatenate([u[-2:], v])\n",
        "f = theano.function([u,v], w)\n",
        "f([1, 2, 3, 4],[11, 12, 13, 14])"
      ],
      "execution_count": 45,
      "outputs": [
        {
          "output_type": "execute_result",
          "data": {
            "text/plain": [
              "array([ 3.,  4., 11., 12., 13., 14.])"
            ]
          },
          "metadata": {
            "tags": []
          },
          "execution_count": 45
        }
      ]
    },
    {
      "cell_type": "code",
      "metadata": {
        "id": "JthhNj-OCzaO",
        "colab_type": "code",
        "colab": {
          "base_uri": "https://localhost:8080/",
          "height": 34
        },
        "outputId": "eacfa61a-df3c-4e1d-fce4-04906f94bc06"
      },
      "source": [
        "u = tt.vector('u')\n",
        "#u = [1, 2, 3, 4]\n",
        "v = tt.vector('v')\n",
        "#v = [11, 12, 13, 14]\n",
        "\n",
        "w = tt.fmatrix('w')\n",
        "w = tt.concatenate([u, v])\n",
        "f = theano.function([u,v], w)\n",
        "f([1, 2, 3, 4],[11, 12, 13, 14])"
      ],
      "execution_count": 46,
      "outputs": [
        {
          "output_type": "execute_result",
          "data": {
            "text/plain": [
              "array([ 1.,  2.,  3.,  4., 11., 12., 13., 14.])"
            ]
          },
          "metadata": {
            "tags": []
          },
          "execution_count": 46
        }
      ]
    },
    {
      "cell_type": "code",
      "metadata": {
        "id": "-Ugn-YT-cwd-",
        "colab_type": "code",
        "colab": {
          "base_uri": "https://localhost:8080/",
          "height": 34
        },
        "outputId": "49131d3a-89eb-4c9b-93c5-5a9c5b1979ac"
      },
      "source": [
        "x = tt.vector('x')\n",
        "\n",
        "def square(x):\n",
        "  return x*x\n",
        "\n",
        "outputs, updates = theano.scan(\n",
        "  fn=square,\n",
        "  sequences=x,\n",
        "  n_steps=x.shape[0],\n",
        ")\n",
        "\n",
        "square_op = theano.function(\n",
        "  inputs=[x],\n",
        "  outputs=[outputs],\n",
        ")\n",
        "\n",
        "o_val = square_op(np.array([1, 2, 3, 4, 5]))\n",
        "\n",
        "print(\"output:\", o_val)\n",
        "\n",
        "# theano.scan has symbolic outputs which can be taken as outputs of another function\n",
        "# and the sequence_variable of the scan as its inputs "
      ],
      "execution_count": 26,
      "outputs": [
        {
          "output_type": "stream",
          "text": [
            "output: [array([ 1.,  4.,  9., 16., 25.])]\n"
          ],
          "name": "stdout"
        }
      ]
    },
    {
      "cell_type": "code",
      "metadata": {
        "id": "tHZ-t5I4mSpf",
        "colab_type": "code",
        "colab": {
          "base_uri": "https://localhost:8080/",
          "height": 34
        },
        "outputId": "65b09a45-35b6-4a98-c446-70460c43bbff"
      },
      "source": [
        "constant = tt.dscalar('constant')\n",
        "n_iters = tt.iscalar('n_iters')\n",
        "start = tt.dscalar('start')\n",
        "\n",
        "results, _ = theano.scan(lambda result, constant: result + constant,\n",
        "                         outputs_info=[start], non_sequences=[constant], n_steps=n_iters)\n",
        "\n",
        "f = theano.function([start, constant, n_iters], results[-1])\n",
        "print('f(0,2,5): {0}'.format(f(0, 2, 5)))"
      ],
      "execution_count": 47,
      "outputs": [
        {
          "output_type": "stream",
          "text": [
            "f(0,2,5): 10.0\n"
          ],
          "name": "stdout"
        }
      ]
    },
    {
      "cell_type": "code",
      "metadata": {
        "id": "17_WH7o4DJpc",
        "colab_type": "code",
        "colab": {
          "base_uri": "https://localhost:8080/",
          "height": 34
        },
        "outputId": "6dc67ba4-7a23-4c91-b3b7-9ec5a5926c75"
      },
      "source": [
        "np.ones(5)"
      ],
      "execution_count": 48,
      "outputs": [
        {
          "output_type": "execute_result",
          "data": {
            "text/plain": [
              "array([1., 1., 1., 1., 1.])"
            ]
          },
          "metadata": {
            "tags": []
          },
          "execution_count": 48
        }
      ]
    },
    {
      "cell_type": "code",
      "metadata": {
        "id": "FEwgPYJLFG-_",
        "colab_type": "code",
        "colab": {
          "base_uri": "https://localhost:8080/",
          "height": 52
        },
        "outputId": "7b479218-0572-41cf-c16d-ca39a16ffaa9"
      },
      "source": [
        "s = (2,2)\n",
        "np.ones(s)"
      ],
      "execution_count": 49,
      "outputs": [
        {
          "output_type": "execute_result",
          "data": {
            "text/plain": [
              "array([[1., 1.],\n",
              "       [1., 1.]])"
            ]
          },
          "metadata": {
            "tags": []
          },
          "execution_count": 49
        }
      ]
    },
    {
      "cell_type": "code",
      "metadata": {
        "id": "aTz9nykXFHM9",
        "colab_type": "code",
        "colab": {
          "base_uri": "https://localhost:8080/",
          "height": 69
        },
        "outputId": "ef45b23a-c934-4718-df56-8a388e8faf62"
      },
      "source": [
        "x = tt.vector('x')\n",
        "y = tt.vector('y')\n",
        "z = tt.maximum(x,y)\n",
        "f = theano.function([x,y], z)\n",
        "print(f((1,1),(2,1)))\n",
        "print(f((1,3),(2,1)))\n",
        "print(f((1,3),(2,4)))\n",
        "# Returns a variable representing the maximum element by element of a and b"
      ],
      "execution_count": 57,
      "outputs": [
        {
          "output_type": "stream",
          "text": [
            "[2. 1.]\n",
            "[2. 3.]\n",
            "[2. 4.]\n"
          ],
          "name": "stdout"
        }
      ]
    },
    {
      "cell_type": "code",
      "metadata": {
        "id": "TDfvqxdlWnBb",
        "colab_type": "code",
        "colab": {
          "base_uri": "https://localhost:8080/",
          "height": 34
        },
        "outputId": "7b5a9d24-ca3b-4a81-ebc3-de7554796b30"
      },
      "source": [
        "x = tt.vector('x')\n",
        "y = tt.vector('y')\n",
        "z = tt.ones(3)\n",
        "z[2]"
      ],
      "execution_count": 65,
      "outputs": [
        {
          "output_type": "execute_result",
          "data": {
            "text/plain": [
              "Subtensor{int64}.0"
            ]
          },
          "metadata": {
            "tags": []
          },
          "execution_count": 65
        }
      ]
    },
    {
      "cell_type": "code",
      "metadata": {
        "id": "s6TlS4KedpJ7",
        "colab_type": "code",
        "colab": {
          "base_uri": "https://localhost:8080/",
          "height": 52
        },
        "outputId": "930bde5b-9774-4f2e-db40-7b60b3fd4eec"
      },
      "source": [
        "x = tt.matrix('x')\n",
        "y = tt.matrix('y')\n",
        "z = tt.abs_(x - 1)\n",
        "f = theano.function([x], z)\n",
        "A = np.array([[1,2,3,4],[5,6,7,-8]])\n",
        "f(A)\n",
        "# returns the absolute value, not the norm"
      ],
      "execution_count": 82,
      "outputs": [
        {
          "output_type": "execute_result",
          "data": {
            "text/plain": [
              "array([[0., 1., 2., 3.],\n",
              "       [4., 5., 6., 9.]])"
            ]
          },
          "metadata": {
            "tags": []
          },
          "execution_count": 82
        }
      ]
    }
  ]
}