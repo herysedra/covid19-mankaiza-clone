{
  "nbformat": 4,
  "nbformat_minor": 0,
  "metadata": {
    "colab": {
      "name": "Untitled4.ipynb",
      "provenance": [],
      "include_colab_link": true
    },
    "kernelspec": {
      "name": "python3",
      "display_name": "Python 3"
    }
  },
  "cells": [
    {
      "cell_type": "markdown",
      "metadata": {
        "id": "view-in-github",
        "colab_type": "text"
      },
      "source": [
        "<a href=\"https://colab.research.google.com/github/herysedra/covid19-mankaiza-clone/blob/andrana/scripts/paper/simple_blocks/simple_check.ipynb\" target=\"_parent\"><img src=\"https://colab.research.google.com/assets/colab-badge.svg\" alt=\"Open In Colab\"/></a>"
      ]
    },
    {
      "cell_type": "code",
      "metadata": {
        "id": "pusSJJIVT_bT",
        "colab_type": "code",
        "colab": {}
      },
      "source": [
        "import pymc3 as pm\n",
        "import theano.tensor as tt\n",
        "import theano\n",
        "import datetime\n",
        "import time\n",
        "\n",
        "import pandas as pd\n",
        "import numpy as np\n",
        "import matplotlib.pyplot as plt\n",
        "import scipy.stats\n",
        "import matplotlib\n",
        "import pickle\n",
        "\n",
        "from numpy import log,exp\n",
        "from numpy.random import multinomial\n",
        "\n",
        "from scipy.stats import uniform, gamma, poisson"
      ],
      "execution_count": 0,
      "outputs": []
    },
    {
      "cell_type": "code",
      "metadata": {
        "id": "zN1KAbHz5TSR",
        "colab_type": "code",
        "colab": {
          "base_uri": "https://localhost:8080/",
          "height": 34
        },
        "outputId": "6ac6e029-d647-442a-e9af-0604938fe084"
      },
      "source": [
        "a = [3]*4\n",
        "a"
      ],
      "execution_count": 2,
      "outputs": [
        {
          "output_type": "execute_result",
          "data": {
            "text/plain": [
              "[3, 3, 3, 3]"
            ]
          },
          "metadata": {
            "tags": []
          },
          "execution_count": 2
        }
      ]
    },
    {
      "cell_type": "code",
      "metadata": {
        "id": "IQwJV801hAbh",
        "colab_type": "code",
        "outputId": "b1902c99-8582-46db-96cd-185436f0be1a",
        "colab": {
          "base_uri": "https://localhost:8080/",
          "height": 34
        }
      },
      "source": [
        "num_days = 5\n",
        "\n",
        "a = tt.ones(num_days-1)\n",
        "b = np.array(a)\n",
        "b"
      ],
      "execution_count": 0,
      "outputs": [
        {
          "output_type": "execute_result",
          "data": {
            "text/plain": [
              "array(Alloc.0, dtype=object)"
            ]
          },
          "metadata": {
            "tags": []
          },
          "execution_count": 62
        }
      ]
    },
    {
      "cell_type": "code",
      "metadata": {
        "id": "gLKvQ4fZhKTc",
        "colab_type": "code",
        "colab": {}
      },
      "source": [
        "print(tt.ones(num_days-1))"
      ],
      "execution_count": 0,
      "outputs": []
    },
    {
      "cell_type": "code",
      "metadata": {
        "id": "gGCrgOz7g78_",
        "colab_type": "code",
        "outputId": "5c40b53e-e1c2-444a-9316-3d247c93e53d",
        "colab": {
          "base_uri": "https://localhost:8080/",
          "height": 34
        }
      },
      "source": [
        "type(tt.ones(num_days-1))"
      ],
      "execution_count": 0,
      "outputs": [
        {
          "output_type": "execute_result",
          "data": {
            "text/plain": [
              "theano.tensor.var.TensorVariable"
            ]
          },
          "metadata": {
            "tags": []
          },
          "execution_count": 16
        }
      ]
    },
    {
      "cell_type": "code",
      "metadata": {
        "id": "60sXkH4vfH1-",
        "colab_type": "code",
        "outputId": "557c0127-1001-4a8d-f592-20d8f01cbc25",
        "colab": {
          "base_uri": "https://localhost:8080/",
          "height": 34
        }
      },
      "source": [
        "tt.ones(num_days-1).shape"
      ],
      "execution_count": 0,
      "outputs": [
        {
          "output_type": "execute_result",
          "data": {
            "text/plain": [
              "Shape.0"
            ]
          },
          "metadata": {
            "tags": []
          },
          "execution_count": 17
        }
      ]
    },
    {
      "cell_type": "code",
      "metadata": {
        "id": "mlZSUmSLgn7x",
        "colab_type": "code",
        "outputId": "903ce2b9-b1a0-4ee2-c7bd-0e828faec00b",
        "colab": {
          "base_uri": "https://localhost:8080/",
          "height": 34
        }
      },
      "source": [
        "2*tt.ones(num_days-1)"
      ],
      "execution_count": 0,
      "outputs": [
        {
          "output_type": "execute_result",
          "data": {
            "text/plain": [
              "Elemwise{mul,no_inplace}.0"
            ]
          },
          "metadata": {
            "tags": []
          },
          "execution_count": 19
        }
      ]
    },
    {
      "cell_type": "code",
      "metadata": {
        "id": "Op_I2T8vhSIt",
        "colab_type": "code",
        "outputId": "56c99f78-3436-42e3-a04f-4963faaba8fb",
        "colab": {
          "base_uri": "https://localhost:8080/",
          "height": 34
        }
      },
      "source": [
        "print(2*tt.ones(num_days-1))"
      ],
      "execution_count": 0,
      "outputs": [
        {
          "output_type": "stream",
          "text": [
            "Elemwise{mul,no_inplace}.0\n"
          ],
          "name": "stdout"
        }
      ]
    },
    {
      "cell_type": "code",
      "metadata": {
        "id": "Qn48ASdFgygD",
        "colab_type": "code",
        "outputId": "6296baed-c6f0-405c-dccc-81fd0c852796",
        "colab": {
          "base_uri": "https://localhost:8080/",
          "height": 34
        }
      },
      "source": [
        "type(2*tt.ones(num_days-1))"
      ],
      "execution_count": 0,
      "outputs": [
        {
          "output_type": "execute_result",
          "data": {
            "text/plain": [
              "theano.tensor.var.TensorVariable"
            ]
          },
          "metadata": {
            "tags": []
          },
          "execution_count": 22
        }
      ]
    },
    {
      "cell_type": "code",
      "metadata": {
        "id": "DccleYvChdRo",
        "colab_type": "code",
        "outputId": "8a1b68e6-18ee-447d-a96e-a14ff9e25e5b",
        "colab": {
          "base_uri": "https://localhost:8080/",
          "height": 34
        }
      },
      "source": [
        "tt.ones(3).shape"
      ],
      "execution_count": 0,
      "outputs": [
        {
          "output_type": "execute_result",
          "data": {
            "text/plain": [
              "Shape.0"
            ]
          },
          "metadata": {
            "tags": []
          },
          "execution_count": 4
        }
      ]
    },
    {
      "cell_type": "code",
      "metadata": {
        "id": "PBd-5LYkGtMb",
        "colab_type": "code",
        "outputId": "e37601ec-c37f-4bc9-d0a8-13d4623c366e",
        "colab": {
          "base_uri": "https://localhost:8080/",
          "height": 34
        }
      },
      "source": [
        "a = np.array([1, 2, 3, 4])\n",
        "a"
      ],
      "execution_count": 0,
      "outputs": [
        {
          "output_type": "execute_result",
          "data": {
            "text/plain": [
              "array([1, 2, 3, 4])"
            ]
          },
          "metadata": {
            "tags": []
          },
          "execution_count": 5
        }
      ]
    },
    {
      "cell_type": "code",
      "metadata": {
        "id": "QvS75Pn-7LYe",
        "colab_type": "code",
        "outputId": "0934d873-081c-4344-a5a8-7cf7bce9ab28",
        "colab": {
          "base_uri": "https://localhost:8080/",
          "height": 34
        }
      },
      "source": [
        "b = range(10)\n",
        "type(a)"
      ],
      "execution_count": 0,
      "outputs": [
        {
          "output_type": "execute_result",
          "data": {
            "text/plain": [
              "numpy.ndarray"
            ]
          },
          "metadata": {
            "tags": []
          },
          "execution_count": 32
        }
      ]
    },
    {
      "cell_type": "code",
      "metadata": {
        "id": "p5C72WTf_pXY",
        "colab_type": "code",
        "outputId": "5956a59c-d3c7-4470-e29c-96533f6d8fba",
        "colab": {
          "base_uri": "https://localhost:8080/",
          "height": 225
        }
      },
      "source": [
        "A = np.array([[1,2,3,4],[5,6,7,8],[1,2,4,4]])\n",
        "print(A.shape)\n",
        "print(A)\n",
        "print('a=', A[:,2]) # returns the third columm\n",
        "print('b=', A[0:1])\n",
        "print('c=', A[0:2])\n",
        "print('d=', A[0:3])\n",
        "print('e=', A[1:1])"
      ],
      "execution_count": 0,
      "outputs": [
        {
          "output_type": "stream",
          "text": [
            "(3, 4)\n",
            "[[1 2 3 4]\n",
            " [5 6 7 8]\n",
            " [1 2 4 4]]\n",
            "a= [3 7 4]\n",
            "b= [[1 2 3 4]]\n",
            "c= [[1 2 3 4]\n",
            " [5 6 7 8]]\n",
            "d= [[1 2 3 4]\n",
            " [5 6 7 8]\n",
            " [1 2 4 4]]\n",
            "e= []\n"
          ],
          "name": "stdout"
        }
      ]
    },
    {
      "cell_type": "code",
      "metadata": {
        "id": "HErcxbTkNPmK",
        "colab_type": "code",
        "outputId": "8ddda090-9d30-46c1-af1d-a373f9ec86e6",
        "colab": {
          "base_uri": "https://localhost:8080/",
          "height": 52
        }
      },
      "source": [
        "b = np.array([1, 2, 6, 8, 9, 3, 4])\n",
        "print(b[0:5]) # from the first 5 elements, select all from index 0 \n",
        "print(b[1:5]) # the fir from index 1"
      ],
      "execution_count": 0,
      "outputs": [
        {
          "output_type": "stream",
          "text": [
            "[1 2 6 8 9]\n",
            "[2 6 8 9]\n"
          ],
          "name": "stdout"
        }
      ]
    },
    {
      "cell_type": "code",
      "metadata": {
        "id": "PhJFLDRSQmOl",
        "colab_type": "code",
        "outputId": "8e78e3e0-7f65-4913-e461-01d2a4b23a4b",
        "colab": {
          "base_uri": "https://localhost:8080/",
          "height": 52
        }
      },
      "source": [
        "#np.diff\n",
        "x = np.array([1, 2, 4, 7, 0])\n",
        "print(np.diff(x))\n",
        "print(np.diff(x, n=2))"
      ],
      "execution_count": 0,
      "outputs": [
        {
          "output_type": "stream",
          "text": [
            "[ 1  2  3 -7]\n",
            "[  1   1 -10]\n"
          ],
          "name": "stdout"
        }
      ]
    },
    {
      "cell_type": "code",
      "metadata": {
        "id": "WL-8GfHpRABc",
        "colab_type": "code",
        "outputId": "cbb98edc-c9c1-418d-b632-bb975577366f",
        "colab": {
          "base_uri": "https://localhost:8080/",
          "height": 121
        }
      },
      "source": [
        "# concatenate function (for the construction of new_cases_inferred)\n",
        "\n",
        "u = tt.vector('u')\n",
        "#u = [1, 2, 3, 4]\n",
        "v = tt.vector('v')\n",
        "#v = [11, 12, 13, 14]\n",
        "\n",
        "w = tt.fmatrix('w')\n",
        "w = tt.concatenate([u[-4:], v])\n",
        "# notice the [-4:]\n",
        "f = theano.function([u,v], w)\n",
        "print('With [-4:]: f([1, 2, 3, 4],[11, 12, 13]) =', f([1, 2, 3, 4],[11, 12, 13]), sep=\" \")\n",
        "\n",
        "w = tt.concatenate([u[-3:], v])\n",
        "# notice the [-3:] and compare its effect with the one of [-4:]\n",
        "f = theano.function([u,v], w)\n",
        "print('With [-3:]: f([1, 2, 3, 4],[11, 12, 13]) =', f([1, 2, 3, 4],[11, 12, 13]), sep=\" \")\n",
        "\n",
        "w = tt.concatenate([u[-1:], v])\n",
        "f = theano.function([u,v], w)\n",
        "print('With [-1:]: f([1, 2, 3, 4],[11, 12, 13]) =', f([1, 2, 3, 4],[11, 12, 13]), sep=\" \")\n",
        "\n",
        "w = tt.concatenate([u[0:], v])\n",
        "f = theano.function([u,v], w)\n",
        "print('With [0:]: f([1, 2, 3, 4],[11, 12, 13]) =', f([1, 2, 3, 4],[11, 12, 13]), sep=\" \")\n",
        "\n",
        "w = tt.concatenate([u, v])\n",
        "f = theano.function([u,v], w)\n",
        "print('Without []: f([1, 2, 3, 4],[11, 12, 13]) =', f([1, 2, 3, 4],[11, 12, 13]), sep=\" \")\n",
        "\n",
        "w = tt.concatenate([u[-5:], v])\n",
        "f = theano.function([u,v], w)\n",
        "print('With [-5:]: f([1, 2, 3, 4],[11, 12, 13]) =', f([1, 2, 3, 4],[11, 12, 13]), sep=\" \")"
      ],
      "execution_count": 0,
      "outputs": [
        {
          "output_type": "stream",
          "text": [
            "With [-4:]: f([1, 2, 3, 4],[11, 12, 13]) = [ 1.  2.  3.  4. 11. 12. 13.]\n",
            "With [-3:]: f([1, 2, 3, 4],[11, 12, 13]) = [ 2.  3.  4. 11. 12. 13.]\n",
            "With [-1:]: f([1, 2, 3, 4],[11, 12, 13]) = [ 4. 11. 12. 13.]\n",
            "With [0:]: f([1, 2, 3, 4],[11, 12, 13]) = [ 1.  2.  3.  4. 11. 12. 13.]\n",
            "Without []: f([1, 2, 3, 4],[11, 12, 13]) = [ 1.  2.  3.  4. 11. 12. 13.]\n",
            "With [-5:]: f([1, 2, 3, 4],[11, 12, 13]) = [ 1.  2.  3.  4. 11. 12. 13.]\n"
          ],
          "name": "stdout"
        }
      ]
    },
    {
      "cell_type": "code",
      "metadata": {
        "id": "r6rN4lVa6uLI",
        "colab_type": "code",
        "outputId": "39332e10-dbbd-4e03-e120-797d56c8ab3b",
        "colab": {
          "base_uri": "https://localhost:8080/",
          "height": 330
        }
      },
      "source": [
        "# Example 1 for theano.scan (for the construction of the SIR_model)\n",
        "\n",
        "k = tt.iscalar(\"k\")\n",
        "A = tt.vector(\"A\")\n",
        "\n",
        "# Symbolic description of the result\n",
        "result, updates = theano.scan(fn=lambda prior_result, A: prior_result * A,\n",
        "                              outputs_info=tt.ones_like(A),\n",
        "                              non_sequences=A,\n",
        "                              n_steps=k)\n",
        "\n",
        "# We only care about A**k, but scan has provided us with A**1 through A**k.\n",
        "# result.shape is equal to (A.shape)**k \n",
        "# Discard the values that we don't care about. Scan is smart enough to\n",
        "# notice this and not waste memory saving them.\n",
        "\n",
        "final_result = result[-1]\n",
        "\n",
        "#[-1] retrieves the last iteration result from the output 'result'\n",
        "\n",
        "m2result = result[-2]\n",
        "\n",
        "# compiled function that returns A**k\n",
        "power = theano.function(inputs=[A,k], outputs=final_result, updates=updates)\n",
        "bb = theano.function([A,k], outputs=result)\n",
        "dd = theano.function([A,k], outputs=m2result)\n",
        "\n",
        "print('range(10)**2 is :', power(range(10),2), sep =\" \")\n",
        "print('range(10)**4 is :', power(range(10),4), sep =\" \")\n",
        "\n",
        "print('range(10)**(1 to 4) is :', bb(range(10),4), sep =\" \")\n",
        "\n",
        "print('range(10)*index is :', dd(range(10),4), sep =\" \")\n",
        "\n",
        "print('[3,7]**(1 to 4) is :', bb([3,7],4), sep =\" \")\n",
        "\n",
        "print('[3,7]**3 is :', dd([3,7],4), sep =\" \")\n",
        "\n",
        "print('7**4 is :', dd([7],4), sep =\" \")\n",
        "# notice the absence of [-1] in the outputs of bb\n",
        "# for an array d, print(bb(d,2)) will give error: no symbolic output"
      ],
      "execution_count": 0,
      "outputs": [
        {
          "output_type": "stream",
          "text": [
            "range(10)**2 is : [ 0.  1.  4.  9. 16. 25. 36. 49. 64. 81.]\n",
            "range(10)**4 is : [0.000e+00 1.000e+00 1.600e+01 8.100e+01 2.560e+02 6.250e+02 1.296e+03\n",
            " 2.401e+03 4.096e+03 6.561e+03]\n",
            "range(10)**(1 to 4) is : [[0.000e+00 1.000e+00 2.000e+00 3.000e+00 4.000e+00 5.000e+00 6.000e+00\n",
            "  7.000e+00 8.000e+00 9.000e+00]\n",
            " [0.000e+00 1.000e+00 4.000e+00 9.000e+00 1.600e+01 2.500e+01 3.600e+01\n",
            "  4.900e+01 6.400e+01 8.100e+01]\n",
            " [0.000e+00 1.000e+00 8.000e+00 2.700e+01 6.400e+01 1.250e+02 2.160e+02\n",
            "  3.430e+02 5.120e+02 7.290e+02]\n",
            " [0.000e+00 1.000e+00 1.600e+01 8.100e+01 2.560e+02 6.250e+02 1.296e+03\n",
            "  2.401e+03 4.096e+03 6.561e+03]]\n",
            "range(10)*index is : [  0.   1.   8.  27.  64. 125. 216. 343. 512. 729.]\n",
            "[3,7]**(1 to 4) is : [[   3.    7.]\n",
            " [   9.   49.]\n",
            " [  27.  343.]\n",
            " [  81. 2401.]]\n",
            "[3,7]**3 is : [ 27. 343.]\n",
            "7**4 is : [343.]\n"
          ],
          "name": "stdout"
        }
      ]
    },
    {
      "cell_type": "code",
      "metadata": {
        "id": "Ba_kjZDxACT1",
        "colab_type": "code",
        "outputId": "f11279ba-05c9-4fbb-9663-283412b58372",
        "colab": {
          "base_uri": "https://localhost:8080/",
          "height": 34
        }
      },
      "source": [
        "# Example 2 for theano.scan\n",
        "x = tt.vector('x')\n",
        "\n",
        "def square(x):\n",
        "  return x*x\n",
        "\n",
        "outputs, updates = theano.scan(\n",
        "  fn=square,\n",
        "  sequences=x,\n",
        "  n_steps=x.shape[0],\n",
        ")\n",
        "\n",
        "square_op = theano.function(\n",
        "  inputs=[x],\n",
        "  outputs=[outputs],\n",
        ")\n",
        "\n",
        "o_val = square_op(np.array([1, 2, 3, 4, 5]))\n",
        "\n",
        "print(\"output:\", o_val)\n",
        "\n",
        "# theano.scan has symbolic outputs which can be taken as outputs of another function\n",
        "# and the sequence_variable of the scan as its inputs "
      ],
      "execution_count": 0,
      "outputs": [
        {
          "output_type": "stream",
          "text": [
            "output: [array([ 1.,  4.,  9., 16., 25.])]\n"
          ],
          "name": "stdout"
        }
      ]
    },
    {
      "cell_type": "code",
      "metadata": {
        "id": "U3sr4vKYoqN-",
        "colab_type": "code",
        "outputId": "36895a2d-8c0b-4a18-ce6b-18292224cedf",
        "colab": {
          "base_uri": "https://localhost:8080/",
          "height": 34
        }
      },
      "source": [
        "# Example 3 for theano.scan\n",
        "constant = tt.dscalar('constant')\n",
        "n_iters = tt.iscalar('n_iters')\n",
        "start = tt.dscalar('start')\n",
        "\n",
        "results, _ = theano.scan(lambda result, constant: result + constant,\n",
        "                         outputs_info=[start], non_sequences=[constant], n_steps=n_iters)\n",
        "\n",
        "f = theano.function([start, constant, n_iters], results[-1])\n",
        "print('f(0,2,5): {0}'.format(f(0, 2, 5)))"
      ],
      "execution_count": 0,
      "outputs": [
        {
          "output_type": "stream",
          "text": [
            "f(0,2,5): 10.0\n"
          ],
          "name": "stdout"
        }
      ]
    },
    {
      "cell_type": "code",
      "metadata": {
        "id": "zOK_LkMECfFS",
        "colab_type": "code",
        "outputId": "a3591a94-a9e8-4174-ef33-718a797bddc8",
        "colab": {
          "base_uri": "https://localhost:8080/",
          "height": 34
        }
      },
      "source": [
        "u = tt.vector('u')\n",
        "#u = [1, 2, 3, 4]\n",
        "v = tt.vector('v')\n",
        "#v = [11, 12, 13, 14]\n",
        "\n",
        "w = tt.fmatrix('w')\n",
        "w = tt.concatenate([u[-2:], v])\n",
        "# notive the [-3:] and compare its effect with the one of [-4:]\n",
        "f = theano.function([u,v], w)\n",
        "f([1, 2, 3, 4],[11, 12, 13, 14])"
      ],
      "execution_count": 0,
      "outputs": [
        {
          "output_type": "execute_result",
          "data": {
            "text/plain": [
              "array([ 3.,  4., 11., 12., 13., 14.])"
            ]
          },
          "metadata": {
            "tags": []
          },
          "execution_count": 45
        }
      ]
    },
    {
      "cell_type": "code",
      "metadata": {
        "id": "JthhNj-OCzaO",
        "colab_type": "code",
        "outputId": "eacfa61a-df3c-4e1d-fce4-04906f94bc06",
        "colab": {
          "base_uri": "https://localhost:8080/",
          "height": 34
        }
      },
      "source": [
        "u = tt.vector('u')\n",
        "#u = [1, 2, 3, 4]\n",
        "v = tt.vector('v')\n",
        "#v = [11, 12, 13, 14]\n",
        "\n",
        "w = tt.fmatrix('w')\n",
        "w = tt.concatenate([u, v])\n",
        "f = theano.function([u,v], w)\n",
        "f([1, 2, 3, 4],[11, 12, 13, 14])"
      ],
      "execution_count": 0,
      "outputs": [
        {
          "output_type": "execute_result",
          "data": {
            "text/plain": [
              "array([ 1.,  2.,  3.,  4., 11., 12., 13., 14.])"
            ]
          },
          "metadata": {
            "tags": []
          },
          "execution_count": 46
        }
      ]
    },
    {
      "cell_type": "code",
      "metadata": {
        "id": "17_WH7o4DJpc",
        "colab_type": "code",
        "outputId": "6dc67ba4-7a23-4c91-b3b7-9ec5a5926c75",
        "colab": {
          "base_uri": "https://localhost:8080/",
          "height": 34
        }
      },
      "source": [
        "np.ones(5)"
      ],
      "execution_count": 0,
      "outputs": [
        {
          "output_type": "execute_result",
          "data": {
            "text/plain": [
              "array([1., 1., 1., 1., 1.])"
            ]
          },
          "metadata": {
            "tags": []
          },
          "execution_count": 48
        }
      ]
    },
    {
      "cell_type": "code",
      "metadata": {
        "id": "FEwgPYJLFG-_",
        "colab_type": "code",
        "outputId": "7b479218-0572-41cf-c16d-ca39a16ffaa9",
        "colab": {
          "base_uri": "https://localhost:8080/",
          "height": 52
        }
      },
      "source": [
        "s = (2,2)\n",
        "np.ones(s)"
      ],
      "execution_count": 0,
      "outputs": [
        {
          "output_type": "execute_result",
          "data": {
            "text/plain": [
              "array([[1., 1.],\n",
              "       [1., 1.]])"
            ]
          },
          "metadata": {
            "tags": []
          },
          "execution_count": 49
        }
      ]
    },
    {
      "cell_type": "code",
      "metadata": {
        "id": "bOCtC3mgAlI2",
        "colab_type": "code",
        "outputId": "e009f92d-1d06-4cec-da13-c65ba535e9e8",
        "colab": {
          "base_uri": "https://localhost:8080/",
          "height": 52
        }
      },
      "source": [
        "a = 7**3*2\n",
        "b = 7**3\n",
        "print(b)\n",
        "print(a)"
      ],
      "execution_count": 0,
      "outputs": [
        {
          "output_type": "stream",
          "text": [
            "343\n",
            "686\n"
          ],
          "name": "stdout"
        }
      ]
    },
    {
      "cell_type": "code",
      "metadata": {
        "id": "aTz9nykXFHM9",
        "colab_type": "code",
        "outputId": "ef45b23a-c934-4718-df56-8a388e8faf62",
        "colab": {
          "base_uri": "https://localhost:8080/",
          "height": 69
        }
      },
      "source": [
        "#Ex for tt.maximum\n",
        "x = tt.vector('x')\n",
        "y = tt.vector('y')\n",
        "z = tt.maximum(x,y)\n",
        "f = theano.function([x,y], z)\n",
        "print(f((1,1),(2,1)))\n",
        "print(f((1,3),(2,1)))\n",
        "print(f((1,3),(2,4)))\n",
        "# Returns a variable representing the maximum element by element of a and b"
      ],
      "execution_count": 0,
      "outputs": [
        {
          "output_type": "stream",
          "text": [
            "[2. 1.]\n",
            "[2. 3.]\n",
            "[2. 4.]\n"
          ],
          "name": "stdout"
        }
      ]
    },
    {
      "cell_type": "code",
      "metadata": {
        "id": "TDfvqxdlWnBb",
        "colab_type": "code",
        "outputId": "7b5a9d24-ca3b-4a81-ebc3-de7554796b30",
        "colab": {
          "base_uri": "https://localhost:8080/",
          "height": 34
        }
      },
      "source": [
        "x = tt.vector('x')\n",
        "y = tt.vector('y')\n",
        "z = tt.ones(3)\n",
        "z[2]"
      ],
      "execution_count": 0,
      "outputs": [
        {
          "output_type": "execute_result",
          "data": {
            "text/plain": [
              "Subtensor{int64}.0"
            ]
          },
          "metadata": {
            "tags": []
          },
          "execution_count": 65
        }
      ]
    },
    {
      "cell_type": "code",
      "metadata": {
        "id": "s6TlS4KedpJ7",
        "colab_type": "code",
        "outputId": "930bde5b-9774-4f2e-db40-7b60b3fd4eec",
        "colab": {
          "base_uri": "https://localhost:8080/",
          "height": 52
        }
      },
      "source": [
        "# Ex for tt.abs_\n",
        "x = tt.matrix('x')\n",
        "y = tt.matrix('y')\n",
        "z = tt.abs_(x - 1)\n",
        "f = theano.function([x], z)\n",
        "A = np.array([[1,2,3,4],[5,6,7,-8]])\n",
        "f(A)\n",
        "# returns the absolute value, not the norm\n",
        "# notice that, in 'x - 1', '1' is the matrix filled with ones"
      ],
      "execution_count": 0,
      "outputs": [
        {
          "output_type": "execute_result",
          "data": {
            "text/plain": [
              "array([[0., 1., 2., 3.],\n",
              "       [4., 5., 6., 9.]])"
            ]
          },
          "metadata": {
            "tags": []
          },
          "execution_count": 82
        }
      ]
    },
    {
      "cell_type": "code",
      "metadata": {
        "id": "D59yclz1kGSN",
        "colab_type": "code",
        "colab": {}
      },
      "source": [
        "def make_delay_matrix(n_rows, n_columns, initial_delay=0):\n",
        "    \"\"\"\n",
        "    Has in each entry the delay between the input with size n_rows and the output\n",
        "    with size n_columns\n",
        "    \"\"\"\n",
        "    size = max(n_rows, n_columns)\n",
        "    mat = np.zeros((size, size))\n",
        "    for i in range(size):\n",
        "        diagonal = np.ones(size-i)*(initial_delay + i)\n",
        "        mat += np.diag(diagonal, i)\n",
        "    for i in range(1, size):\n",
        "        diagonal = np.ones(size-i)*(initial_delay - i)\n",
        "        mat += np.diag(diagonal, -i)\n",
        "    return mat[:n_rows, :n_columns]\n",
        "nr = 10\n",
        "nc = 15\n",
        "    ff = make_delay_matrix(n_rows, n_columns, initial_delay)\n",
        "\n"
      ],
      "execution_count": 0,
      "outputs": []
    },
    {
      "cell_type": "code",
      "metadata": {
        "id": "xdye4Un1kjLw",
        "colab_type": "code",
        "colab": {
          "base_uri": "https://localhost:8080/",
          "height": 69
        },
        "outputId": "60ffd5c2-f539-4e16-be61-e07aacb0aeae"
      },
      "source": [
        "# fix the random seed for replicability.\n",
        "np.random.seed(123456789)\n",
        "\n",
        "# Generate data\n",
        "\n",
        "# Hyperparameters\n",
        "N=50\n",
        "a=2\n",
        "b=1\n",
        "\n",
        "# Change-point: where the intensity parameter changes.\n",
        "n=int(round(uniform.rvs()*N))\n",
        "nbrut = round(uniform.rvs()*N)\n",
        "print(str(n))\n",
        "print(n)\n",
        "print(nbrut)"
      ],
      "execution_count": 122,
      "outputs": [
        {
          "output_type": "stream",
          "text": [
            "27\n",
            "27\n",
            "27.0\n"
          ],
          "name": "stdout"
        }
      ]
    },
    {
      "cell_type": "code",
      "metadata": {
        "id": "nwzzbwPekuwt",
        "colab_type": "code",
        "colab": {
          "base_uri": "https://localhost:8080/",
          "height": 69
        },
        "outputId": "07b902bf-e2c3-4320-d072-40775f5d2121"
      },
      "source": [
        "ar = uniform.rvs()*3\n",
        "br = round(a)\n",
        "cr = int(b)\n",
        "print(ar)\n",
        "print(br)\n",
        "print(cr)"
      ],
      "execution_count": 18,
      "outputs": [
        {
          "output_type": "stream",
          "text": [
            "2.140692095498285\n",
            "2.0\n",
            "2\n"
          ],
          "name": "stdout"
        }
      ]
    },
    {
      "cell_type": "code",
      "metadata": {
        "id": "Vmckfa5FkyQV",
        "colab_type": "code",
        "colab": {
          "base_uri": "https://localhost:8080/",
          "height": 34
        },
        "outputId": "0069ff8d-e93e-4b3a-c617-9757308792d0"
      },
      "source": [
        "at = gamma.rvs(3,5)\n",
        "at"
      ],
      "execution_count": 19,
      "outputs": [
        {
          "output_type": "execute_result",
          "data": {
            "text/plain": [
              "9.329661970627972"
            ]
          },
          "metadata": {
            "tags": []
          },
          "execution_count": 19
        }
      ]
    },
    {
      "cell_type": "code",
      "metadata": {
        "id": "YsbMLGQSk1pq",
        "colab_type": "code",
        "colab": {
          "base_uri": "https://localhost:8080/",
          "height": 885
        },
        "outputId": "bcdc1ef9-68c0-4563-bf06-433332e3cd01"
      },
      "source": [
        "# Intensity values\n",
        "lambda1=gamma.rvs(a,1/b) # We use 1/b instead of b because of the way Gamma distribution is parametrized in the package random.\n",
        "lambda2=gamma.rvs(a,1/b)\n",
        "\n",
        "lambdas=[lambda1]*n\n",
        "lambdas[n:N]=[lambda2]*(N-n)\n",
        "lambdas"
      ],
      "execution_count": 104,
      "outputs": [
        {
          "output_type": "execute_result",
          "data": {
            "text/plain": [
              "[6.354155421731399,\n",
              " 6.354155421731399,\n",
              " 6.354155421731399,\n",
              " 6.354155421731399,\n",
              " 6.354155421731399,\n",
              " 6.354155421731399,\n",
              " 6.354155421731399,\n",
              " 6.354155421731399,\n",
              " 6.354155421731399,\n",
              " 6.354155421731399,\n",
              " 6.354155421731399,\n",
              " 6.354155421731399,\n",
              " 6.354155421731399,\n",
              " 6.354155421731399,\n",
              " 6.354155421731399,\n",
              " 6.354155421731399,\n",
              " 6.354155421731399,\n",
              " 6.354155421731399,\n",
              " 6.354155421731399,\n",
              " 6.354155421731399,\n",
              " 6.354155421731399,\n",
              " 6.354155421731399,\n",
              " 6.354155421731399,\n",
              " 6.354155421731399,\n",
              " 6.354155421731399,\n",
              " 6.354155421731399,\n",
              " 6.354155421731399,\n",
              " 2.7753003218153207,\n",
              " 2.7753003218153207,\n",
              " 2.7753003218153207,\n",
              " 2.7753003218153207,\n",
              " 2.7753003218153207,\n",
              " 2.7753003218153207,\n",
              " 2.7753003218153207,\n",
              " 2.7753003218153207,\n",
              " 2.7753003218153207,\n",
              " 2.7753003218153207,\n",
              " 2.7753003218153207,\n",
              " 2.7753003218153207,\n",
              " 2.7753003218153207,\n",
              " 2.7753003218153207,\n",
              " 2.7753003218153207,\n",
              " 2.7753003218153207,\n",
              " 2.7753003218153207,\n",
              " 2.7753003218153207,\n",
              " 2.7753003218153207,\n",
              " 2.7753003218153207,\n",
              " 2.7753003218153207,\n",
              " 2.7753003218153207,\n",
              " 2.7753003218153207]"
            ]
          },
          "metadata": {
            "tags": []
          },
          "execution_count": 104
        }
      ]
    },
    {
      "cell_type": "code",
      "metadata": {
        "id": "pcAKCJslbRoP",
        "colab_type": "code",
        "colab": {
          "base_uri": "https://localhost:8080/",
          "height": 52
        },
        "outputId": "7930e940-ee4f-41cc-dc56-375eda5b8c5d"
      },
      "source": [
        "# Intensity values\n",
        "lambda1=gamma.rvs(a,1/b) # We use 1/b instead of b because of the way Gamma distribution is parametrized in the package random.\n",
        "lambda2=gamma.rvs(a,1/b)\n",
        "\n",
        "lambdas=[lambda1]*n\n",
        "lambdas[n:N]=[lambda2]*(N-n)\n",
        "tap = np.array([lambda1]*n)\n",
        "print(tap.shape)\n",
        "print(np.array(lambdas[n:N]).shape)"
      ],
      "execution_count": 123,
      "outputs": [
        {
          "output_type": "stream",
          "text": [
            "(27,)\n",
            "(23,)\n"
          ],
          "name": "stdout"
        }
      ]
    },
    {
      "cell_type": "code",
      "metadata": {
        "id": "Xdn0jc39k4V9",
        "colab_type": "code",
        "colab": {
          "base_uri": "https://localhost:8080/",
          "height": 69
        },
        "outputId": "3fa12bec-ea57-484e-f4ef-1c098a2e076d"
      },
      "source": [
        "aa = [8]*11\n",
        "ba = a[11:14]\n",
        "ca = np.array(b)\n",
        "print(aa)\n",
        "print(ba)\n",
        "type(ba)\n",
        "print(ca)"
      ],
      "execution_count": 15,
      "outputs": [
        {
          "output_type": "stream",
          "text": [
            "[8, 8, 8, 8, 8, 8, 8, 8, 8, 8, 8]\n",
            "[]\n",
            "[]\n"
          ],
          "name": "stdout"
        }
      ]
    },
    {
      "cell_type": "code",
      "metadata": {
        "id": "znDVtojlk6rD",
        "colab_type": "code",
        "colab": {
          "base_uri": "https://localhost:8080/",
          "height": 86
        },
        "outputId": "d66a68f4-99e3-409e-ad01-c40ef81b676d"
      },
      "source": [
        "# Observations, x_1 ... x_N\n",
        "x=poisson.rvs(lambdas)\n",
        "print(x) # for each simulation, x displays a list of N simulated values)\n",
        "x.shape"
      ],
      "execution_count": 124,
      "outputs": [
        {
          "output_type": "stream",
          "text": [
            "[ 8  2  8  7 10  6 10  4 10  3  4  5  6 10  8  5  7  6  2  7  5  9  3  6\n",
            "  6  4  5  3  2  4  2  3  1  3  2  5  3  1  4  4  1  3  2  3  4  2  0  1\n",
            "  1  1]\n"
          ],
          "name": "stdout"
        },
        {
          "output_type": "execute_result",
          "data": {
            "text/plain": [
              "(50,)"
            ]
          },
          "metadata": {
            "tags": []
          },
          "execution_count": 124
        }
      ]
    },
    {
      "cell_type": "code",
      "metadata": {
        "id": "Ew573FG0ZFVW",
        "colab_type": "code",
        "colab": {
          "base_uri": "https://localhost:8080/",
          "height": 34
        },
        "outputId": "11c713b9-347a-40d5-a4af-6db6e87ff83c"
      },
      "source": [
        "print(x[1:n])"
      ],
      "execution_count": 80,
      "outputs": [
        {
          "output_type": "stream",
          "text": [
            "[]\n"
          ],
          "name": "stdout"
        }
      ]
    },
    {
      "cell_type": "code",
      "metadata": {
        "id": "pTwGPu5R84Co",
        "colab_type": "code",
        "colab": {}
      },
      "source": [
        "# Gibbs sampler\n",
        "E=5200\n",
        "BURN_IN=200\n",
        "\n",
        "# Initialize the chain\n",
        "n = int(round(uniform.rvs()*N))\n",
        "lambda1 = gamma.rvs(a,1/b)\n",
        "lambda2 = gamma.rvs(a,1/b)\n",
        "\n",
        "# Store the samples\n",
        "chain_n = np.array([0.]*(E-BURN_IN))\n",
        "chain_lambda1 = np.array([0.]*(E-BURN_IN))\n",
        "chain_lambda2 = np.array([0.]*(E-BURN_IN))\n",
        "\n",
        "for e in range(E):\n",
        "\t#print(\"At iteration \",str(e))\n",
        "\t# sample lambda1 and lambda2 from their posterior conditionals, Equation 8 and Equation 9, respectively.\n",
        "\tlambda1=gamma.rvs(a+sum(x[0:n]), 1/(n+b))\n",
        "\tlambda2=gamma.rvs(a+sum(x[n:N]), 1/(N-n+b))\n",
        "\t\n",
        "\t# sample n, Equation 10\n",
        "\tmult_n=np.array([0]*N)\n",
        "\tfor i in range(N):\n",
        "\t\tmult_n[i]=sum(x[0:i+1])*log(lambda1)-(i+1)*lambda1+sum(x[i+1:N])*log(lambda2)-(N-i-1)*lambda2\n",
        "\tmult_n=exp(mult_n-max(mult_n))\n",
        "\tn= np.where(np.random.multinomial(1,mult_n/sum(mult_n),size=1)==1)[0][0]\n",
        "\t\n",
        "\t# store\n",
        "\tif e>=BURN_IN:\n",
        "\t\tchain_n[e-BURN_IN]=n\n",
        "\t\tchain_lambda1[e-BURN_IN]=lambda1\n",
        "\t\tchain_lambda2[e-BURN_IN]=lambda2"
      ],
      "execution_count": 0,
      "outputs": []
    },
    {
      "cell_type": "code",
      "metadata": {
        "id": "pRk_JTCj_2Ue",
        "colab_type": "code",
        "colab": {
          "base_uri": "https://localhost:8080/",
          "height": 282
        },
        "outputId": "1177d739-789d-49ef-8a44-1d8234c484da"
      },
      "source": [
        "# make one big subplots and put everything in it.\n",
        "f, (ax1,ax2,ax3,ax4,ax5)=plt.subplots(5,1)\n",
        "# Plot the data\n",
        "ax1.stem(range(N),x,linefmt='b-', markerfmt='bo',use_line_collection=True)\n",
        "ax1.plot(range(N),lambdas,'r--')\n",
        "ax1.set_ylabel('Counts')\n",
        "\n",
        "ax2.plot(chain_lambda1,'b',chain_lambda2,'g')\n",
        "ax2.set_ylabel('$\\lambda$')\n",
        "\n",
        "ax3.hist(chain_lambda1,20)\n",
        "ax3.set_xlabel('$\\lambda_1$')\n",
        "ax3.set_xlim([0,12])\n",
        "\n",
        "ax4.hist(chain_lambda2,20,color='g')\n",
        "ax4.set_xlim([0,12])\n",
        "ax4.set_xlabel('$\\lambda_2$')\n",
        "\n",
        "ax5.hist(chain_n,50)\n",
        "ax5.set_xlabel('n')\n",
        "ax5.set_xlim([1,50])\n",
        "\n",
        "plt.show()"
      ],
      "execution_count": 126,
      "outputs": [
        {
          "output_type": "display_data",
          "data": {
            "image/png": "[encoded data removed]",
            "text/plain": [
              "<Figure size 432x288 with 5 Axes>"
            ]
          },
          "metadata": {
            "tags": [],
            "needs_background": "light"
          }
        }
      ]
    },
    {
      "cell_type": "code",
      "metadata": {
        "id": "jH2XnqYPlAkz",
        "colab_type": "code",
        "colab": {
          "base_uri": "https://localhost:8080/",
          "height": 52
        },
        "outputId": "cf6cd6a0-5454-400e-b4a4-06aae1b4cce2"
      },
      "source": [
        "tt = np.random.multinomial(1,[1/5,2/5,1/10,1/10],size=1)\n",
        "\n",
        "print(tt)\n",
        "print('io', sum(tt[0]))"
      ],
      "execution_count": 53,
      "outputs": [
        {
          "output_type": "stream",
          "text": [
            "[[1 0 0 0]]\n",
            "io 1\n"
          ],
          "name": "stdout"
        }
      ]
    },
    {
      "cell_type": "code",
      "metadata": {
        "id": "XjOMAqPJXuyv",
        "colab_type": "code",
        "colab": {
          "base_uri": "https://localhost:8080/",
          "height": 173
        },
        "outputId": "848348a2-a97b-4c79-c234-6e03563c7809"
      },
      "source": [
        "arr = np.array([11, 12, 13, 14, 15, 16, 17, 14, 11, 12, 14, 14, 16, 17])\n",
        "result = np.where(arr == 15)\n",
        " \n",
        "print('Tuple of arrays returned : ', result)\n",
        "print(\"Elements with value 15 exists at following indices\", result[0], sep='\\n')\n",
        "print(result[0][0])\n",
        "print(arr[13:14])\n",
        "print(arr[0:1])\n",
        "print(arr[0:13])\n",
        "print(arr[0:14])\n",
        "arr.shape"
      ],
      "execution_count": 133,
      "outputs": [
        {
          "output_type": "stream",
          "text": [
            "Tuple of arrays returned :  (array([4]),)\n",
            "Elements with value 15 exists at following indices\n",
            "[4]\n",
            "4\n",
            "[17]\n",
            "[11]\n",
            "[11 12 13 14 15 16 17 14 11 12 14 14 16]\n",
            "[11 12 13 14 15 16 17 14 11 12 14 14 16 17]\n"
          ],
          "name": "stdout"
        },
        {
          "output_type": "execute_result",
          "data": {
            "text/plain": [
              "(14,)"
            ]
          },
          "metadata": {
            "tags": []
          },
          "execution_count": 133
        }
      ]
    },
    {
      "cell_type": "code",
      "metadata": {
        "id": "_qG0JL5ygYMY",
        "colab_type": "code",
        "colab": {
          "base_uri": "https://localhost:8080/",
          "height": 34
        },
        "outputId": "1ea8edfc-caa0-4760-acfa-4ab6ecf5f0ae"
      },
      "source": [
        "range(20)\n",
        "#ert = range(1,20+1)\n",
        "\n",
        "#print(ert)\n"
      ],
      "execution_count": 102,
      "outputs": [
        {
          "output_type": "execute_result",
          "data": {
            "text/plain": [
              "range(0, 20)"
            ]
          },
          "metadata": {
            "tags": []
          },
          "execution_count": 102
        }
      ]
    },
    {
      "cell_type": "code",
      "metadata": {
        "id": "uPXly82nbVfq",
        "colab_type": "code",
        "colab": {
          "base_uri": "https://localhost:8080/",
          "height": 295
        },
        "outputId": "4a3620bb-a610-467e-a0b9-9bf8d2c991fa"
      },
      "source": [
        "azers=[4]*12\n",
        "azers[12:20]=[5]*(20-12)\n",
        "\n",
        "print(np.array(azers[0:1]))\n",
        "print(np.array(azers[0:1]).shape)\n",
        "\n",
        "print(np.array(azers[1:12]))\n",
        "print(np.array(azers[1:12]).shape)\n",
        "\n",
        "print(np.array(azers[0:12]))\n",
        "print(np.array(azers[0:12]).shape)\n",
        "\n",
        "print(np.array(azers[0:13]))\n",
        "print(np.array(azers[0:13]).shape)\n",
        "\n",
        "print(np.array(azers[12:20]))\n",
        "print(np.array(azers[12:20]).shape)\n",
        "\n",
        "print(np.array(azers[11:20]))\n",
        "print(np.array(azers[11:20]).shape)\n",
        "\n",
        "print(np.array(azers[13:20]))\n",
        "print(np.array(azers[13:20]).shape)\n",
        "\n",
        "print(azers)\n",
        "print(np.array(azers).shape)"
      ],
      "execution_count": 120,
      "outputs": [
        {
          "output_type": "stream",
          "text": [
            "[4]\n",
            "(1,)\n",
            "[4 4 4 4 4 4 4 4 4 4 4]\n",
            "(11,)\n",
            "[4 4 4 4 4 4 4 4 4 4 4 4]\n",
            "(12,)\n",
            "[4 4 4 4 4 4 4 4 4 4 4 4 5]\n",
            "(13,)\n",
            "[5 5 5 5 5 5 5 5]\n",
            "(8,)\n",
            "[4 5 5 5 5 5 5 5 5]\n",
            "(9,)\n",
            "[5 5 5 5 5 5 5]\n",
            "(7,)\n",
            "[4, 4, 4, 4, 4, 4, 4, 4, 4, 4, 4, 4, 5, 5, 5, 5, 5, 5, 5, 5]\n",
            "(20,)\n"
          ],
          "name": "stdout"
        }
      ]
    }
  ]
}