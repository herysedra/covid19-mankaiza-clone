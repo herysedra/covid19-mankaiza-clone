{
  "nbformat": 4,
  "nbformat_minor": 0,
  "metadata": {
    "colab": {
      "name": "stat tests.ipynb",
      "provenance": [],
      "authorship_tag": "ABX9TyPAdu1X7qlqyYIdTZwS5lXA",
      "include_colab_link": true
    },
    "kernelspec": {
      "name": "python3",
      "display_name": "Python 3"
    }
  },
  "cells": [
    {
      "cell_type": "markdown",
      "metadata": {
        "id": "view-in-github",
        "colab_type": "text"
      },
      "source": [
        "<a href=\"https://colab.research.google.com/github/herysedra/covid19-mankaiza-clone/blob/andrana/stats/stat_tests.ipynb\" target=\"_parent\"><img src=\"https://colab.research.google.com/assets/colab-badge.svg\" alt=\"Open In Colab\"/></a>"
      ]
    },
    {
      "cell_type": "code",
      "metadata": {
        "id": "PXfNifBR3Ad-",
        "colab_type": "code",
        "outputId": "68208bc8-d53a-4393-d76c-4856bca3c670",
        "colab": {
          "base_uri": "https://localhost:8080/",
          "height": 124
        }
      },
      "source": [
        "from google.colab import drive\n",
        "drive.mount('/content/drive')"
      ],
      "execution_count": 1,
      "outputs": [
        {
          "output_type": "stream",
          "text": [
            "Go to this URL in a browser: https://accounts.google.com/o/oauth2/auth?client_id=947318989803-6bn6qk8qdgf4n4g3pfee6491hc0brc4i.apps.googleusercontent.com&redirect_uri=urn%3aietf%3awg%3aoauth%3a2.0%3aoob&response_type=code&scope=email%20https%3a%2f%2fwww.googleapis.com%2fauth%2fdocs.test%20https%3a%2f%2fwww.googleapis.com%2fauth%2fdrive%20https%3a%2f%2fwww.googleapis.com%2fauth%2fdrive.photos.readonly%20https%3a%2f%2fwww.googleapis.com%2fauth%2fpeopleapi.readonly\n",
            "\n",
            "Enter your authorization code:\n",
            "··········\n",
            "Mounted at /content/drive\n"
          ],
          "name": "stdout"
        }
      ]
    },
    {
      "cell_type": "code",
      "metadata": {
        "id": "TiWG3RVr4qGI",
        "colab_type": "code",
        "colab": {}
      },
      "source": [
        "!pip install pingouin"
      ],
      "execution_count": 0,
      "outputs": []
    },
    {
      "cell_type": "code",
      "metadata": {
        "id": "TJhWL2BI3Tq_",
        "colab_type": "code",
        "colab": {}
      },
      "source": [
        "import pandas as pd\n",
        "import numpy as np\n",
        "import matplotlib.pyplot as plt\n",
        "import scipy.stats\n",
        "import matplotlib\n",
        "import pickle\n",
        "\n",
        "import pymc3 as pm\n",
        "import theano.tensor as tt\n",
        "import theano\n",
        "import datetime\n",
        "import time\n",
        "import pingouin \n",
        "\n",
        "#from pingouin import corr\n",
        "import pandas.util.testing as tm\n",
        "\n",
        "cco_cases_mdg = pd.read_csv(\"/content/drive/My Drive/data/cco mdg.csv\")\n",
        "\n",
        "tilyvoa = pd.read_csv(\"/content/drive/My Drive/data/tilyvoa.csv\")\n",
        "\n",
        "cco_cases_mdg.set_index('Date', inplace=True)\n",
        "\n",
        "tilyvoa.set_index('Daty', inplace=True)\n",
        "\n",
        "\n",
        "path_to_save = '/content/drive/My Drive/sary/'\n",
        "path_data = '/content/drive/My Drive/data/'"
      ],
      "execution_count": 0,
      "outputs": []
    },
    {
      "cell_type": "code",
      "metadata": {
        "id": "Psh8cgNH5FR5",
        "colab_type": "code",
        "outputId": "c391896b-98f4-45a3-a15c-b665c60ff0f5",
        "colab": {
          "base_uri": "https://localhost:8080/",
          "height": 34
        }
      },
      "source": [
        "tily = tilyvoa.loc[:,'Tily']\n",
        "voa = tilyvoa.loc[:, 'Voa']\n",
        "tsyvoa = tilyvoa.loc[:, 'Tsyvoa']\n",
        "tilym = tilyvoa.loc[:,'Tilym']\n",
        "type(voa)"
      ],
      "execution_count": 5,
      "outputs": [
        {
          "output_type": "execute_result",
          "data": {
            "text/plain": [
              "pandas.core.series.Series"
            ]
          },
          "metadata": {
            "tags": []
          },
          "execution_count": 5
        }
      ]
    },
    {
      "cell_type": "code",
      "metadata": {
        "id": "rhDEDAPX81Vs",
        "colab_type": "code",
        "outputId": "d91ac900-1f2c-4788-afae-beb1d3ee2a20",
        "colab": {
          "base_uri": "https://localhost:8080/",
          "height": 81
        }
      },
      "source": [
        "corr(tily, voa, method= 'percbend')"
      ],
      "execution_count": 0,
      "outputs": [
        {
          "output_type": "execute_result",
          "data": {
            "text/html": [
              "<div>\n",
              "<style scoped>\n",
              "    .dataframe tbody tr th:only-of-type {\n",
              "        vertical-align: middle;\n",
              "    }\n",
              "\n",
              "    .dataframe tbody tr th {\n",
              "        vertical-align: top;\n",
              "    }\n",
              "\n",
              "    .dataframe thead th {\n",
              "        text-align: right;\n",
              "    }\n",
              "</style>\n",
              "<table border=\"1\" class=\"dataframe\">\n",
              "  <thead>\n",
              "    <tr style=\"text-align: right;\">\n",
              "      <th></th>\n",
              "      <th>n</th>\n",
              "      <th>r</th>\n",
              "      <th>CI95%</th>\n",
              "      <th>r2</th>\n",
              "      <th>adj_r2</th>\n",
              "      <th>p-val</th>\n",
              "      <th>power</th>\n",
              "    </tr>\n",
              "  </thead>\n",
              "  <tbody>\n",
              "    <tr>\n",
              "      <th>percbend</th>\n",
              "      <td>38</td>\n",
              "      <td>0.03</td>\n",
              "      <td>[-0.29, 0.35]</td>\n",
              "      <td>0.001</td>\n",
              "      <td>-0.056</td>\n",
              "      <td>0.858324</td>\n",
              "      <td>0.053</td>\n",
              "    </tr>\n",
              "  </tbody>\n",
              "</table>\n",
              "</div>"
            ],
            "text/plain": [
              "           n     r          CI95%     r2  adj_r2     p-val  power\n",
              "percbend  38  0.03  [-0.29, 0.35]  0.001  -0.056  0.858324  0.053"
            ]
          },
          "metadata": {
            "tags": []
          },
          "execution_count": 82
        }
      ]
    },
    {
      "cell_type": "code",
      "metadata": {
        "id": "OH_1qAXN3qsq",
        "colab_type": "code",
        "outputId": "f069f14c-86ee-40a9-8787-e2241ab9bdf7",
        "colab": {
          "base_uri": "https://localhost:8080/",
          "height": 81
        }
      },
      "source": [
        "corr(tily, tsyvoa, method= 'percbend')"
      ],
      "execution_count": 0,
      "outputs": [
        {
          "output_type": "execute_result",
          "data": {
            "text/html": [
              "<div>\n",
              "<style scoped>\n",
              "    .dataframe tbody tr th:only-of-type {\n",
              "        vertical-align: middle;\n",
              "    }\n",
              "\n",
              "    .dataframe tbody tr th {\n",
              "        vertical-align: top;\n",
              "    }\n",
              "\n",
              "    .dataframe thead th {\n",
              "        text-align: right;\n",
              "    }\n",
              "</style>\n",
              "<table border=\"1\" class=\"dataframe\">\n",
              "  <thead>\n",
              "    <tr style=\"text-align: right;\">\n",
              "      <th></th>\n",
              "      <th>n</th>\n",
              "      <th>r</th>\n",
              "      <th>CI95%</th>\n",
              "      <th>r2</th>\n",
              "      <th>adj_r2</th>\n",
              "      <th>p-val</th>\n",
              "      <th>power</th>\n",
              "    </tr>\n",
              "  </thead>\n",
              "  <tbody>\n",
              "    <tr>\n",
              "      <th>percbend</th>\n",
              "      <td>38</td>\n",
              "      <td>0.986</td>\n",
              "      <td>[0.97, 0.99]</td>\n",
              "      <td>0.973</td>\n",
              "      <td>0.971</td>\n",
              "      <td>1.075574e-29</td>\n",
              "      <td>1.0</td>\n",
              "    </tr>\n",
              "  </tbody>\n",
              "</table>\n",
              "</div>"
            ],
            "text/plain": [
              "           n      r         CI95%     r2  adj_r2         p-val  power\n",
              "percbend  38  0.986  [0.97, 0.99]  0.973   0.971  1.075574e-29    1.0"
            ]
          },
          "metadata": {
            "tags": []
          },
          "execution_count": 83
        }
      ]
    },
    {
      "cell_type": "code",
      "metadata": {
        "id": "d9lCdD7-9uQs",
        "colab_type": "code",
        "outputId": "33234d93-004a-4bb3-9ceb-a1319a44c0d7",
        "colab": {
          "base_uri": "https://localhost:8080/",
          "height": 81
        }
      },
      "source": [
        "corr(tily, voa, method= 'skipped')"
      ],
      "execution_count": 0,
      "outputs": [
        {
          "output_type": "execute_result",
          "data": {
            "text/html": [
              "<div>\n",
              "<style scoped>\n",
              "    .dataframe tbody tr th:only-of-type {\n",
              "        vertical-align: middle;\n",
              "    }\n",
              "\n",
              "    .dataframe tbody tr th {\n",
              "        vertical-align: top;\n",
              "    }\n",
              "\n",
              "    .dataframe thead th {\n",
              "        text-align: right;\n",
              "    }\n",
              "</style>\n",
              "<table border=\"1\" class=\"dataframe\">\n",
              "  <thead>\n",
              "    <tr style=\"text-align: right;\">\n",
              "      <th></th>\n",
              "      <th>n</th>\n",
              "      <th>outliers</th>\n",
              "      <th>r</th>\n",
              "      <th>CI95%</th>\n",
              "      <th>r2</th>\n",
              "      <th>adj_r2</th>\n",
              "      <th>p-val</th>\n",
              "      <th>power</th>\n",
              "    </tr>\n",
              "  </thead>\n",
              "  <tbody>\n",
              "    <tr>\n",
              "      <th>skipped</th>\n",
              "      <td>38</td>\n",
              "      <td>1</td>\n",
              "      <td>0.074</td>\n",
              "      <td>[-0.25, 0.38]</td>\n",
              "      <td>0.005</td>\n",
              "      <td>-0.051</td>\n",
              "      <td>0.665215</td>\n",
              "      <td>0.072</td>\n",
              "    </tr>\n",
              "  </tbody>\n",
              "</table>\n",
              "</div>"
            ],
            "text/plain": [
              "          n  outliers      r          CI95%     r2  adj_r2     p-val  power\n",
              "skipped  38         1  0.074  [-0.25, 0.38]  0.005  -0.051  0.665215  0.072"
            ]
          },
          "metadata": {
            "tags": []
          },
          "execution_count": 84
        }
      ]
    },
    {
      "cell_type": "code",
      "metadata": {
        "id": "DrSStD2Y39az",
        "colab_type": "code",
        "outputId": "822381db-d355-418b-c2f6-a340ecc80b30",
        "colab": {
          "base_uri": "https://localhost:8080/",
          "height": 81
        }
      },
      "source": [
        "corr(tily, tsyvoa, method= 'skipped')"
      ],
      "execution_count": 0,
      "outputs": [
        {
          "output_type": "execute_result",
          "data": {
            "text/html": [
              "<div>\n",
              "<style scoped>\n",
              "    .dataframe tbody tr th:only-of-type {\n",
              "        vertical-align: middle;\n",
              "    }\n",
              "\n",
              "    .dataframe tbody tr th {\n",
              "        vertical-align: top;\n",
              "    }\n",
              "\n",
              "    .dataframe thead th {\n",
              "        text-align: right;\n",
              "    }\n",
              "</style>\n",
              "<table border=\"1\" class=\"dataframe\">\n",
              "  <thead>\n",
              "    <tr style=\"text-align: right;\">\n",
              "      <th></th>\n",
              "      <th>n</th>\n",
              "      <th>outliers</th>\n",
              "      <th>r</th>\n",
              "      <th>CI95%</th>\n",
              "      <th>r2</th>\n",
              "      <th>adj_r2</th>\n",
              "      <th>p-val</th>\n",
              "      <th>power</th>\n",
              "    </tr>\n",
              "  </thead>\n",
              "  <tbody>\n",
              "    <tr>\n",
              "      <th>skipped</th>\n",
              "      <td>38</td>\n",
              "      <td>1</td>\n",
              "      <td>0.985</td>\n",
              "      <td>[0.97, 0.99]</td>\n",
              "      <td>0.971</td>\n",
              "      <td>0.969</td>\n",
              "      <td>1.889566e-28</td>\n",
              "      <td>1.0</td>\n",
              "    </tr>\n",
              "  </tbody>\n",
              "</table>\n",
              "</div>"
            ],
            "text/plain": [
              "          n  outliers      r         CI95%     r2  adj_r2         p-val  power\n",
              "skipped  38         1  0.985  [0.97, 0.99]  0.971   0.969  1.889566e-28    1.0"
            ]
          },
          "metadata": {
            "tags": []
          },
          "execution_count": 85
        }
      ]
    },
    {
      "cell_type": "code",
      "metadata": {
        "id": "xNoAsijg92o0",
        "colab_type": "code",
        "outputId": "a6744f68-ec6b-4185-8173-bb81e331e85e",
        "colab": {
          "base_uri": "https://localhost:8080/",
          "height": 81
        }
      },
      "source": [
        "corr(tily, voa, method= 'shepherd')"
      ],
      "execution_count": 0,
      "outputs": [
        {
          "output_type": "execute_result",
          "data": {
            "text/html": [
              "<div>\n",
              "<style scoped>\n",
              "    .dataframe tbody tr th:only-of-type {\n",
              "        vertical-align: middle;\n",
              "    }\n",
              "\n",
              "    .dataframe tbody tr th {\n",
              "        vertical-align: top;\n",
              "    }\n",
              "\n",
              "    .dataframe thead th {\n",
              "        text-align: right;\n",
              "    }\n",
              "</style>\n",
              "<table border=\"1\" class=\"dataframe\">\n",
              "  <thead>\n",
              "    <tr style=\"text-align: right;\">\n",
              "      <th></th>\n",
              "      <th>n</th>\n",
              "      <th>outliers</th>\n",
              "      <th>r</th>\n",
              "      <th>CI95%</th>\n",
              "      <th>r2</th>\n",
              "      <th>adj_r2</th>\n",
              "      <th>p-val</th>\n",
              "      <th>power</th>\n",
              "    </tr>\n",
              "  </thead>\n",
              "  <tbody>\n",
              "    <tr>\n",
              "      <th>shepherd</th>\n",
              "      <td>38</td>\n",
              "      <td>2</td>\n",
              "      <td>0.072</td>\n",
              "      <td>[-0.25, 0.38]</td>\n",
              "      <td>0.005</td>\n",
              "      <td>-0.052</td>\n",
              "      <td>0.677592</td>\n",
              "      <td>0.071</td>\n",
              "    </tr>\n",
              "  </tbody>\n",
              "</table>\n",
              "</div>"
            ],
            "text/plain": [
              "           n  outliers      r          CI95%     r2  adj_r2     p-val  power\n",
              "shepherd  38         2  0.072  [-0.25, 0.38]  0.005  -0.052  0.677592  0.071"
            ]
          },
          "metadata": {
            "tags": []
          },
          "execution_count": 86
        }
      ]
    },
    {
      "cell_type": "code",
      "metadata": {
        "id": "e8s5XhkJ4Gv2",
        "colab_type": "code",
        "outputId": "7cf90ada-3793-4943-dfab-347214f66b9c",
        "colab": {
          "base_uri": "https://localhost:8080/",
          "height": 81
        }
      },
      "source": [
        "corr(tily, tsyvoa, method= 'shepherd')"
      ],
      "execution_count": 0,
      "outputs": [
        {
          "output_type": "execute_result",
          "data": {
            "text/html": [
              "<div>\n",
              "<style scoped>\n",
              "    .dataframe tbody tr th:only-of-type {\n",
              "        vertical-align: middle;\n",
              "    }\n",
              "\n",
              "    .dataframe tbody tr th {\n",
              "        vertical-align: top;\n",
              "    }\n",
              "\n",
              "    .dataframe thead th {\n",
              "        text-align: right;\n",
              "    }\n",
              "</style>\n",
              "<table border=\"1\" class=\"dataframe\">\n",
              "  <thead>\n",
              "    <tr style=\"text-align: right;\">\n",
              "      <th></th>\n",
              "      <th>n</th>\n",
              "      <th>outliers</th>\n",
              "      <th>r</th>\n",
              "      <th>CI95%</th>\n",
              "      <th>r2</th>\n",
              "      <th>adj_r2</th>\n",
              "      <th>p-val</th>\n",
              "      <th>power</th>\n",
              "    </tr>\n",
              "  </thead>\n",
              "  <tbody>\n",
              "    <tr>\n",
              "      <th>shepherd</th>\n",
              "      <td>38</td>\n",
              "      <td>2</td>\n",
              "      <td>0.988</td>\n",
              "      <td>[0.98, 0.99]</td>\n",
              "      <td>0.976</td>\n",
              "      <td>0.975</td>\n",
              "      <td>4.178122e-29</td>\n",
              "      <td>1.0</td>\n",
              "    </tr>\n",
              "  </tbody>\n",
              "</table>\n",
              "</div>"
            ],
            "text/plain": [
              "           n  outliers      r         CI95%     r2  adj_r2         p-val  power\n",
              "shepherd  38         2  0.988  [0.98, 0.99]  0.976   0.975  4.178122e-29    1.0"
            ]
          },
          "metadata": {
            "tags": []
          },
          "execution_count": 87
        }
      ]
    },
    {
      "cell_type": "code",
      "metadata": {
        "id": "s4w7hCd7uwC9",
        "colab_type": "code",
        "outputId": "fc5ae506-e835-4c33-9e90-70be5d396ece",
        "colab": {
          "base_uri": "https://localhost:8080/",
          "height": 285
        }
      },
      "source": [
        "plt.figure()\n",
        "plt.plot(tily, voa, marker =\"+\",ls = 'None', color='black')\n",
        "plt.xlabel(\"Isan'ireo voatily isan'andro\")\n",
        "plt.ylabel(\"Isan'ireo voa vaovao isan'andro\")\n",
        "#plt.legend(loc= 'best')\n",
        "#plt.suptitle(\"Fivoarana raha R0 omen'ny antontan'isa CCO\")\n",
        "plt.savefig(path_to_save+'tilvoa.eps')\n",
        "plt.savefig(path_to_save+'tilvoa.png')"
      ],
      "execution_count": 0,
      "outputs": [
        {
          "output_type": "display_data",
          "data": {
            "image/png": "[encoded data removed]",
            "text/plain": [
              "<Figure size 432x288 with 1 Axes>"
            ]
          },
          "metadata": {
            "tags": []
          }
        }
      ]
    },
    {
      "cell_type": "code",
      "metadata": {
        "id": "8xE0c4jR1Q1p",
        "colab_type": "code",
        "outputId": "ec42da09-ccf1-4fd6-d969-aab337c23fca",
        "colab": {
          "base_uri": "https://localhost:8080/",
          "height": 285
        }
      },
      "source": [
        "plt.figure()\n",
        "plt.plot(tily, voa, marker =\"+\",ls = 'None', color='black')\n",
        "plt.xlabel(\"Number of daily tested\")\n",
        "plt.ylabel(\"Number of daily new infected\")\n",
        "#plt.legend(loc= 'best')\n",
        "#plt.suptitle(\"Fivoarana raha R0 omen'ny antontan'isa CCO\")\n",
        "plt.savefig(path_to_save+'tilvoa_eng.png')"
      ],
      "execution_count": 0,
      "outputs": [
        {
          "output_type": "display_data",
          "data": {
            "image/png": "[encoded data removed]",
            "text/plain": [
              "<Figure size 432x288 with 1 Axes>"
            ]
          },
          "metadata": {
            "tags": []
          }
        }
      ]
    },
    {
      "cell_type": "code",
      "metadata": {
        "id": "ZdpBi-KP4VXe",
        "colab_type": "code",
        "outputId": "37fa5d35-a267-4b77-ef93-0b6407f0243f",
        "colab": {
          "base_uri": "https://localhost:8080/",
          "height": 288
        }
      },
      "source": [
        "plt.figure()\n",
        "plt.plot(tily, tsyvoa, marker =\"x\",ls = 'None', color='black')\n",
        "plt.xlabel(\"Isan'ireo voatily isan'andro\")\n",
        "plt.ylabel(\"Isan'ireo tsy voa voatily isan'andro\")\n",
        "#plt.legend(loc= 'best')\n",
        "#plt.suptitle(\"Fivoarana raha R0 omen'ny antontan'isa CCO\")\n",
        "plt.savefig(path_to_save+'tiltsvoa.eps')\n",
        "plt.savefig(path_to_save+'tiltsvoa.png')"
      ],
      "execution_count": 0,
      "outputs": [
        {
          "output_type": "display_data",
          "data": {
            "image/png": "[encoded data removed]",
            "text/plain": [
              "<Figure size 432x288 with 1 Axes>"
            ]
          },
          "metadata": {
            "tags": []
          }
        }
      ]
    },
    {
      "cell_type": "code",
      "metadata": {
        "id": "wk3zjk9TQnKI",
        "colab_type": "code",
        "outputId": "6dce36f2-c5c6-41a9-b4d9-9fadcf8b7a52",
        "colab": {
          "base_uri": "https://localhost:8080/",
          "height": 288
        }
      },
      "source": [
        "plt.figure()\n",
        "plt.plot(tily, tsyvoa, marker =\"x\",ls = 'None', color='black')\n",
        "plt.xlabel(\"Number of daily tested\")\n",
        "plt.ylabel(\"Number of daily tested negative\")\n",
        "#plt.legend(loc= 'best')\n",
        "#plt.suptitle(\"Fivoarana raha R0 omen'ny antontan'isa CCO\")\n",
        "plt.savefig(path_to_save+'tiltsvoa_eng.eps')\n",
        "plt.savefig(path_to_save+'tiltsvoa_eng.png')"
      ],
      "execution_count": 0,
      "outputs": [
        {
          "output_type": "display_data",
          "data": {
            "image/png": "[encoded data removed]",
            "text/plain": [
              "<Figure size 432x288 with 1 Axes>"
            ]
          },
          "metadata": {
            "tags": []
          }
        }
      ]
    },
    {
      "cell_type": "code",
      "metadata": {
        "id": "bw-WXm6UqUWD",
        "colab_type": "code",
        "colab": {}
      },
      "source": [
        "# Construction of contingency table\n",
        "bt = pd.IntervalIndex.from_tuples([(13, 47), (47, 81), (81, 210)])\n",
        "btt = pd.IntervalIndex.from_tuples([(10, 47), (47, 81), (81, 210)])\n",
        "bv = pd.IntervalIndex.from_tuples([(-0.1, 1), (1,17)])\n",
        "\n",
        "tilyvoa['Tily_heba'] = pd.cut(tilyvoa['Tily'], bins=bt, include_lowest=True)\n",
        "tilyvoa['Voa_heba'] = pd.cut(tilyvoa['Voa'], bins=bv, include_lowest=True)\n",
        "tilyvoa['Tilym_heba'] = pd.cut(tilyvoa['Tilym'], bins=bt, include_lowest=True)\n",
        "tilyvoa['Tsyvoa_heba'] = pd.cut(tilyvoa['Tsyvoa'], bins=btt, include_lowest=True)\n",
        "\n",
        "ddt = tilyvoa.loc[ : , ['Tily', 'Tily_heba'] ]\n",
        "ddv = tilyvoa.loc[ : , ['Voa', 'Voa_heba'] ]\n",
        "ddtv = tilyvoa.loc[ : , ['Tsyvoa', 'Tsyvoa_heba'] ]\n",
        "ddtm = tilyvoa.loc[ : , ['Tilym', 'Tilym_heba'] ]\n",
        "\n",
        "\n",
        "#print(ddt)\n",
        "#print(ddv)"
      ],
      "execution_count": 0,
      "outputs": []
    },
    {
      "cell_type": "code",
      "metadata": {
        "id": "uH2GxdIHxcs1",
        "colab_type": "code",
        "outputId": "f34a3cf4-18e3-4bd2-a00d-66385b217ec4",
        "colab": {
          "base_uri": "https://localhost:8080/",
          "height": 1000
        }
      },
      "source": [
        "tomb_tv, hita_tv, stats_tv = pingouin.chi2_independence(tilyvoa, x='Tily_heba', y='Voa_heba')\n",
        "tomb_tmv, hita_tmv, stats_tmv = pingouin.chi2_independence(tilyvoa, x='Tilym_heba', y='Voa_heba')\n",
        "tomb_ttv, hita_ttv, stats_ttv = pingouin.chi2_independence(tilyvoa, x='Tily_heba', y='Tsyvoa_heba')\n",
        "\n",
        "tombm_ttv, hitam_ttv, statsm_ttv = pingouin.chi2_independence(tilyvoa, x='Tily', y='Tsyvoa')\n",
        "\n",
        "print(tomb_tv)\n",
        "print(tomb_tmv)\n",
        "print(tomb_ttv)\n",
        "print(hita_ttv)\n",
        "print(hitam_ttv)"
      ],
      "execution_count": 0,
      "outputs": [
        {
          "output_type": "stream",
          "text": [
            "Voa_heba   (-0.1, 1.0]  (1.0, 17.0]\n",
            "Tily_heba                          \n",
            "(13, 47]      3.552632     5.447368\n",
            "(47, 81]      5.921053     9.078947\n",
            "(81, 210]     5.526316     8.473684\n",
            "Voa_heba    (-0.1, 1.0]  (1.0, 17.0]\n",
            "Tilym_heba                          \n",
            "(13, 47]       3.947368     6.052632\n",
            "(47, 81]       5.526316     8.473684\n",
            "(81, 210]      5.526316     8.473684\n",
            "Tsyvoa_heba  (10, 47]  (47, 81]  (81, 210]\n",
            "Tily_heba                                 \n",
            "(13, 47]     3.789474  2.368421   2.842105\n",
            "(47, 81]     6.315789  3.947368   4.736842\n",
            "(81, 210]    5.894737  3.684211   4.421053\n",
            "Tsyvoa_heba  (10, 47]  (47, 81]  (81, 210]\n",
            "Tily_heba                                 \n",
            "(13, 47]            9         0          0\n",
            "(47, 81]            7         8          0\n",
            "(81, 210]           0         2         12\n",
            "Tsyvoa  12   16   18   23   30   31   36   ...  115  120  124  125  140  161  192\n",
            "Tily                                       ...                                   \n",
            "14        1    0    0    0    0    0    0  ...    0    0    0    0    0    0    0\n",
            "17        0    1    0    0    0    0    0  ...    0    0    0    0    0    0    0\n",
            "24        0    0    1    0    0    0    0  ...    0    0    0    0    0    0    0\n",
            "26        0    0    0    1    0    0    0  ...    0    0    0    0    0    0    0\n",
            "32        0    0    0    0    1    0    0  ...    0    0    0    0    0    0    0\n",
            "33        0    0    0    0    0    1    0  ...    0    0    0    0    0    0    0\n",
            "36        0    0    0    0    0    0    1  ...    0    0    0    0    0    0    0\n",
            "42        0    0    0    0    0    0    0  ...    0    0    0    0    0    0    0\n",
            "43        0    0    0    0    0    0    0  ...    0    0    0    0    0    0    0\n",
            "48        0    0    0    0    0    0    0  ...    0    0    0    0    0    0    0\n",
            "49        0    0    0    0    0    0    0  ...    0    0    0    0    0    0    0\n",
            "50        0    0    0    0    0    0    0  ...    0    0    0    0    0    0    0\n",
            "53        0    0    0    0    0    0    0  ...    0    0    0    0    0    0    0\n",
            "54        0    0    0    0    0    0    0  ...    0    0    0    0    0    0    0\n",
            "55        0    0    0    0    0    0    0  ...    0    0    0    0    0    0    0\n",
            "56        0    0    0    0    0    0    0  ...    0    0    0    0    0    0    0\n",
            "62        0    0    0    0    0    0    0  ...    0    0    0    0    0    0    0\n",
            "65        0    0    0    0    0    0    0  ...    0    0    0    0    0    0    0\n",
            "69        0    0    0    0    0    0    0  ...    0    0    0    0    0    0    0\n",
            "71        0    0    0    0    0    0    0  ...    0    0    0    0    0    0    0\n",
            "77        0    0    0    0    0    0    0  ...    0    0    0    0    0    0    0\n",
            "78        0    0    0    0    0    0    0  ...    0    0    0    0    0    0    0\n",
            "82        0    0    0    0    0    0    0  ...    0    0    0    0    0    0    0\n",
            "97        0    0    0    0    0    0    0  ...    0    0    0    0    0    0    0\n",
            "98        0    0    0    0    0    0    0  ...    0    0    0    0    0    0    0\n",
            "102       0    0    0    0    0    0    0  ...    0    0    0    0    0    0    0\n",
            "112       0    0    0    0    0    0    0  ...    0    0    0    0    0    0    0\n",
            "120       0    0    0    0    0    0    0  ...    1    0    0    0    0    0    0\n",
            "123       0    0    0    0    0    0    0  ...    0    1    0    0    0    0    0\n",
            "125       0    0    0    0    0    0    0  ...    0    0    1    0    0    0    0\n",
            "127       0    0    0    0    0    0    0  ...    0    0    0    2    0    0    0\n",
            "143       0    0    0    0    0    0    0  ...    0    0    0    0    1    0    0\n",
            "163       0    0    0    0    0    0    0  ...    0    0    0    0    0    1    0\n",
            "201       0    0    0    0    0    0    0  ...    0    0    0    0    0    0    1\n",
            "\n",
            "[34 rows x 33 columns]\n"
          ],
          "name": "stdout"
        },
        {
          "output_type": "stream",
          "text": [
            "/usr/local/lib/python3.6/dist-packages/pingouin/contingency.py:149: UserWarning: Low count on observed frequencies.\n",
            "  warnings.warn('Low count on {} frequencies.'.format(name))\n",
            "/usr/local/lib/python3.6/dist-packages/pingouin/contingency.py:149: UserWarning: Low count on expected frequencies.\n",
            "  warnings.warn('Low count on {} frequencies.'.format(name))\n"
          ],
          "name": "stderr"
        }
      ]
    },
    {
      "cell_type": "code",
      "metadata": {
        "id": "qUXX_323x54w",
        "colab_type": "code",
        "outputId": "57901807-d5b5-431d-d1d6-dfc28de70ec1",
        "colab": {
          "base_uri": "https://localhost:8080/",
          "height": 230
        }
      },
      "source": [
        "expected, observed, stats = pingouin.chi2_independence(tilyvoa, x='Tilym_heba', y='Voa_heba')\n",
        "observed"
      ],
      "execution_count": 0,
      "outputs": [
        {
          "output_type": "stream",
          "text": [
            "/usr/local/lib/python3.6/dist-packages/pingouin/contingency.py:149: UserWarning: Low count on expected frequencies.\n",
            "  warnings.warn('Low count on {} frequencies.'.format(name))\n"
          ],
          "name": "stderr"
        },
        {
          "output_type": "execute_result",
          "data": {
            "text/html": [
              "<div>\n",
              "<style scoped>\n",
              "    .dataframe tbody tr th:only-of-type {\n",
              "        vertical-align: middle;\n",
              "    }\n",
              "\n",
              "    .dataframe tbody tr th {\n",
              "        vertical-align: top;\n",
              "    }\n",
              "\n",
              "    .dataframe thead th {\n",
              "        text-align: right;\n",
              "    }\n",
              "</style>\n",
              "<table border=\"1\" class=\"dataframe\">\n",
              "  <thead>\n",
              "    <tr style=\"text-align: right;\">\n",
              "      <th>Voa_heba</th>\n",
              "      <th>(-0.1, 1.0]</th>\n",
              "      <th>(1.0, 17.0]</th>\n",
              "    </tr>\n",
              "    <tr>\n",
              "      <th>Tilym_heba</th>\n",
              "      <th></th>\n",
              "      <th></th>\n",
              "    </tr>\n",
              "  </thead>\n",
              "  <tbody>\n",
              "    <tr>\n",
              "      <th>(13, 47]</th>\n",
              "      <td>5</td>\n",
              "      <td>5</td>\n",
              "    </tr>\n",
              "    <tr>\n",
              "      <th>(47, 81]</th>\n",
              "      <td>5</td>\n",
              "      <td>9</td>\n",
              "    </tr>\n",
              "    <tr>\n",
              "      <th>(81, 210]</th>\n",
              "      <td>5</td>\n",
              "      <td>9</td>\n",
              "    </tr>\n",
              "  </tbody>\n",
              "</table>\n",
              "</div>"
            ],
            "text/plain": [
              "Voa_heba    (-0.1, 1.0]  (1.0, 17.0]\n",
              "Tilym_heba                          \n",
              "(13, 47]              5            5\n",
              "(47, 81]              5            9\n",
              "(81, 210]             5            9"
            ]
          },
          "metadata": {
            "tags": []
          },
          "execution_count": 95
        }
      ]
    },
    {
      "cell_type": "code",
      "metadata": {
        "id": "aKXv4if0GcnQ",
        "colab_type": "code",
        "outputId": "df28e5dd-4363-492b-b5ae-b3da811e8280",
        "colab": {
          "base_uri": "https://localhost:8080/",
          "height": 292
        }
      },
      "source": [
        "expected, observed, stats = pingouin.chi2_independence(tilyvoa, x='Tilym_heba', y='Voa_heba')\n",
        "stats.round(5)"
      ],
      "execution_count": 0,
      "outputs": [
        {
          "output_type": "stream",
          "text": [
            "/usr/local/lib/python3.6/dist-packages/pingouin/contingency.py:149: UserWarning: Low count on expected frequencies.\n",
            "  warnings.warn('Low count on {} frequencies.'.format(name))\n"
          ],
          "name": "stderr"
        },
        {
          "output_type": "execute_result",
          "data": {
            "text/html": [
              "<div>\n",
              "<style scoped>\n",
              "    .dataframe tbody tr th:only-of-type {\n",
              "        vertical-align: middle;\n",
              "    }\n",
              "\n",
              "    .dataframe tbody tr th {\n",
              "        vertical-align: top;\n",
              "    }\n",
              "\n",
              "    .dataframe thead th {\n",
              "        text-align: right;\n",
              "    }\n",
              "</style>\n",
              "<table border=\"1\" class=\"dataframe\">\n",
              "  <thead>\n",
              "    <tr style=\"text-align: right;\">\n",
              "      <th></th>\n",
              "      <th>test</th>\n",
              "      <th>lambda</th>\n",
              "      <th>chi2</th>\n",
              "      <th>dof</th>\n",
              "      <th>p</th>\n",
              "      <th>cramer</th>\n",
              "      <th>power</th>\n",
              "    </tr>\n",
              "  </thead>\n",
              "  <tbody>\n",
              "    <tr>\n",
              "      <th>0</th>\n",
              "      <td>pearson</td>\n",
              "      <td>1.000</td>\n",
              "      <td>0.629</td>\n",
              "      <td>2.0</td>\n",
              "      <td>0.73001</td>\n",
              "      <td>0.12870</td>\n",
              "      <td>0.10045</td>\n",
              "    </tr>\n",
              "    <tr>\n",
              "      <th>1</th>\n",
              "      <td>cressie-read</td>\n",
              "      <td>0.667</td>\n",
              "      <td>0.626</td>\n",
              "      <td>2.0</td>\n",
              "      <td>0.73119</td>\n",
              "      <td>0.12837</td>\n",
              "      <td>0.10017</td>\n",
              "    </tr>\n",
              "    <tr>\n",
              "      <th>2</th>\n",
              "      <td>log-likelihood</td>\n",
              "      <td>0.000</td>\n",
              "      <td>0.621</td>\n",
              "      <td>2.0</td>\n",
              "      <td>0.73308</td>\n",
              "      <td>0.12784</td>\n",
              "      <td>0.09974</td>\n",
              "    </tr>\n",
              "    <tr>\n",
              "      <th>3</th>\n",
              "      <td>freeman-tukey</td>\n",
              "      <td>-0.500</td>\n",
              "      <td>0.618</td>\n",
              "      <td>2.0</td>\n",
              "      <td>0.73409</td>\n",
              "      <td>0.12755</td>\n",
              "      <td>0.09951</td>\n",
              "    </tr>\n",
              "    <tr>\n",
              "      <th>4</th>\n",
              "      <td>mod-log-likelihood</td>\n",
              "      <td>-1.000</td>\n",
              "      <td>0.616</td>\n",
              "      <td>2.0</td>\n",
              "      <td>0.73475</td>\n",
              "      <td>0.12737</td>\n",
              "      <td>0.09935</td>\n",
              "    </tr>\n",
              "    <tr>\n",
              "      <th>5</th>\n",
              "      <td>neyman</td>\n",
              "      <td>-2.000</td>\n",
              "      <td>0.616</td>\n",
              "      <td>2.0</td>\n",
              "      <td>0.73507</td>\n",
              "      <td>0.12728</td>\n",
              "      <td>0.09928</td>\n",
              "    </tr>\n",
              "  </tbody>\n",
              "</table>\n",
              "</div>"
            ],
            "text/plain": [
              "                 test  lambda   chi2  dof        p   cramer    power\n",
              "0             pearson   1.000  0.629  2.0  0.73001  0.12870  0.10045\n",
              "1        cressie-read   0.667  0.626  2.0  0.73119  0.12837  0.10017\n",
              "2      log-likelihood   0.000  0.621  2.0  0.73308  0.12784  0.09974\n",
              "3       freeman-tukey  -0.500  0.618  2.0  0.73409  0.12755  0.09951\n",
              "4  mod-log-likelihood  -1.000  0.616  2.0  0.73475  0.12737  0.09935\n",
              "5              neyman  -2.000  0.616  2.0  0.73507  0.12728  0.09928"
            ]
          },
          "metadata": {
            "tags": []
          },
          "execution_count": 97
        }
      ]
    }
  ]
}