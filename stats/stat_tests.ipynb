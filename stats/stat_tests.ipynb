{
  "nbformat": 4,
  "nbformat_minor": 0,
  "metadata": {
    "colab": {
      "name": "stat tests.ipynb",
      "provenance": [],
      "authorship_tag": "ABX9TyNw48iTrc4cYfr4UresgHmH",
      "include_colab_link": true
    },
    "kernelspec": {
      "name": "python3",
      "display_name": "Python 3"
    }
  },
  "cells": [
    {
      "cell_type": "markdown",
      "metadata": {
        "id": "view-in-github",
        "colab_type": "text"
      },
      "source": [
        "<a href=\"https://colab.research.google.com/github/herysedra/covid19-mankaiza-clone/blob/andrana/stats/stat_tests.ipynb\" target=\"_parent\"><img src=\"https://colab.research.google.com/assets/colab-badge.svg\" alt=\"Open In Colab\"/></a>"
      ]
    },
    {
      "cell_type": "code",
      "metadata": {
        "id": "PXfNifBR3Ad-",
        "colab_type": "code",
        "outputId": "da2290d4-ec58-4c96-bd90-82581f620515",
        "colab": {
          "base_uri": "https://localhost:8080/",
          "height": 124
        }
      },
      "source": [
        "from google.colab import drive\n",
        "drive.mount('/content/drive')"
      ],
      "execution_count": 1,
      "outputs": [
        {
          "output_type": "stream",
          "text": [
            "Go to this URL in a browser: https://accounts.google.com/o/oauth2/auth?client_id=947318989803-6bn6qk8qdgf4n4g3pfee6491hc0brc4i.apps.googleusercontent.com&redirect_uri=urn%3aietf%3awg%3aoauth%3a2.0%3aoob&response_type=code&scope=email%20https%3a%2f%2fwww.googleapis.com%2fauth%2fdocs.test%20https%3a%2f%2fwww.googleapis.com%2fauth%2fdrive%20https%3a%2f%2fwww.googleapis.com%2fauth%2fdrive.photos.readonly%20https%3a%2f%2fwww.googleapis.com%2fauth%2fpeopleapi.readonly\n",
            "\n",
            "Enter your authorization code:\n",
            "··········\n",
            "Mounted at /content/drive\n"
          ],
          "name": "stdout"
        }
      ]
    },
    {
      "cell_type": "code",
      "metadata": {
        "id": "TiWG3RVr4qGI",
        "colab_type": "code",
        "colab": {}
      },
      "source": [
        "!pip install pingouin"
      ],
      "execution_count": 0,
      "outputs": []
    },
    {
      "cell_type": "code",
      "metadata": {
        "id": "TJhWL2BI3Tq_",
        "colab_type": "code",
        "colab": {}
      },
      "source": [
        "import pandas as pd\n",
        "import numpy as np\n",
        "import matplotlib.pyplot as plt\n",
        "import scipy.stats\n",
        "import matplotlib\n",
        "import pickle\n",
        "\n",
        "\n",
        "import matplotlib.dates as mdates\n",
        "from matplotlib.dates import DateFormatter\n",
        "import seaborn as sns\n",
        "\n",
        "import pymc3 as pm\n",
        "import theano.tensor as tt\n",
        "import theano\n",
        "import datetime\n",
        "import time\n",
        "import pingouin \n",
        "\n",
        "from pingouin import corr\n",
        "import pandas.util.testing as tm\n",
        "\n",
        "cco_cases_mdg = pd.read_csv(\"/content/drive/My Drive/data/cco mdg.csv\")\n",
        "\n",
        "tilyvoa = pd.read_csv(\"/content/drive/My Drive/data/tilyvoa.csv\")\n",
        "\n",
        "ke_datafar = pd.read_csv(\"/content/drive/My Drive/data/Kenyans data.csv\")\n",
        "\n",
        "cco_cases_mdg.set_index('Date', inplace=True)\n",
        "\n",
        "tilyvoa.set_index('Daty', inplace=True)\n",
        "\n",
        "\n",
        "path_to_save = '/content/drive/My Drive/sary/'\n",
        "path_data = '/content/drive/My Drive/data/'"
      ],
      "execution_count": 0,
      "outputs": []
    },
    {
      "cell_type": "code",
      "metadata": {
        "id": "qnObtoNG7vi2",
        "colab_type": "code",
        "outputId": "0b9168ad-00c4-4889-a6db-52531ebc822c",
        "colab": {
          "base_uri": "https://localhost:8080/",
          "height": 451
        }
      },
      "source": [
        "tilyvoa.info()"
      ],
      "execution_count": 39,
      "outputs": [
        {
          "output_type": "stream",
          "text": [
            "<class 'pandas.core.frame.DataFrame'>\n",
            "Index: 58 entries, 2020-3-18 to 2020-5-14\n",
            "Data columns (total 18 columns):\n",
            " #   Column            Non-Null Count  Dtype  \n",
            "---  ------            --------------  -----  \n",
            " 0   Loharano          51 non-null     object \n",
            " 1   Faritra           0 non-null      float64\n",
            " 2   Tily ara-potoana  2 non-null      float64\n",
            " 3   Tilytot tvm       11 non-null     float64\n",
            " 4   Tilyvoaamb        51 non-null     float64\n",
            " 5   Tily              39 non-null     float64\n",
            " 6   Voa               38 non-null     float64\n",
            " 7   Voatomb           51 non-null     float64\n",
            " 8   Voavao tvm        45 non-null     float64\n",
            " 9   Tsyvoa            38 non-null     float64\n",
            " 10  Tsyvoatomb        51 non-null     float64\n",
            " 11  Tilym             38 non-null     float64\n",
            " 12  Voareh ilain      38 non-null     float64\n",
            " 13  Voareh tvm        45 non-null     float64\n",
            " 14  Sitranreh ilain   38 non-null     float64\n",
            " 15  Sitranreh tvm     33 non-null     float64\n",
            " 16  Sitranvao tvm     32 non-null     float64\n",
            " 17  Tahatv            51 non-null     float64\n",
            "dtypes: float64(17), object(1)\n",
            "memory usage: 8.6+ KB\n"
          ],
          "name": "stdout"
        }
      ]
    },
    {
      "cell_type": "code",
      "metadata": {
        "id": "Psh8cgNH5FR5",
        "colab_type": "code",
        "outputId": "60e66e90-89bf-492b-b729-a55570c4d000",
        "colab": {
          "base_uri": "https://localhost:8080/",
          "height": 34
        }
      },
      "source": [
        "tily = tilyvoa.loc[:,'Tily']\n",
        "voa = tilyvoa.loc[:, 'Voa']\n",
        "tsyvoa = tilyvoa.loc[:, 'Tsyvoa']\n",
        "tilym = tilyvoa.loc[:,'Tilym']\n",
        "type(voa)"
      ],
      "execution_count": 31,
      "outputs": [
        {
          "output_type": "execute_result",
          "data": {
            "text/plain": [
              "pandas.core.series.Series"
            ]
          },
          "metadata": {
            "tags": []
          },
          "execution_count": 31
        }
      ]
    },
    {
      "cell_type": "code",
      "metadata": {
        "id": "rhDEDAPX81Vs",
        "colab_type": "code",
        "outputId": "97389e1b-83d4-491d-f9f5-69b95a287637",
        "colab": {
          "base_uri": "https://localhost:8080/",
          "height": 81
        }
      },
      "source": [
        "corr(tily, voa, method= 'percbend')"
      ],
      "execution_count": 0,
      "outputs": [
        {
          "output_type": "execute_result",
          "data": {
            "text/html": [
              "<div>\n",
              "<style scoped>\n",
              "    .dataframe tbody tr th:only-of-type {\n",
              "        vertical-align: middle;\n",
              "    }\n",
              "\n",
              "    .dataframe tbody tr th {\n",
              "        vertical-align: top;\n",
              "    }\n",
              "\n",
              "    .dataframe thead th {\n",
              "        text-align: right;\n",
              "    }\n",
              "</style>\n",
              "<table border=\"1\" class=\"dataframe\">\n",
              "  <thead>\n",
              "    <tr style=\"text-align: right;\">\n",
              "      <th></th>\n",
              "      <th>n</th>\n",
              "      <th>r</th>\n",
              "      <th>CI95%</th>\n",
              "      <th>r2</th>\n",
              "      <th>adj_r2</th>\n",
              "      <th>p-val</th>\n",
              "      <th>power</th>\n",
              "    </tr>\n",
              "  </thead>\n",
              "  <tbody>\n",
              "    <tr>\n",
              "      <th>percbend</th>\n",
              "      <td>38</td>\n",
              "      <td>0.029952</td>\n",
              "      <td>[-0.29, 0.35]</td>\n",
              "      <td>0.000897</td>\n",
              "      <td>-0.056194</td>\n",
              "      <td>0.858324</td>\n",
              "      <td>0.053277</td>\n",
              "    </tr>\n",
              "  </tbody>\n",
              "</table>\n",
              "</div>"
            ],
            "text/plain": [
              "           n         r          CI95%        r2    adj_r2     p-val     power\n",
              "percbend  38  0.029952  [-0.29, 0.35]  0.000897 -0.056194  0.858324  0.053277"
            ]
          },
          "metadata": {
            "tags": []
          },
          "execution_count": 228
        }
      ]
    },
    {
      "cell_type": "code",
      "metadata": {
        "id": "OH_1qAXN3qsq",
        "colab_type": "code",
        "outputId": "20ac6160-0468-4b0a-b4b8-7cd53711e391",
        "colab": {
          "base_uri": "https://localhost:8080/",
          "height": 81
        }
      },
      "source": [
        "corr(tily, tsyvoa, method= 'percbend')"
      ],
      "execution_count": 0,
      "outputs": [
        {
          "output_type": "execute_result",
          "data": {
            "text/html": [
              "<div>\n",
              "<style scoped>\n",
              "    .dataframe tbody tr th:only-of-type {\n",
              "        vertical-align: middle;\n",
              "    }\n",
              "\n",
              "    .dataframe tbody tr th {\n",
              "        vertical-align: top;\n",
              "    }\n",
              "\n",
              "    .dataframe thead th {\n",
              "        text-align: right;\n",
              "    }\n",
              "</style>\n",
              "<table border=\"1\" class=\"dataframe\">\n",
              "  <thead>\n",
              "    <tr style=\"text-align: right;\">\n",
              "      <th></th>\n",
              "      <th>n</th>\n",
              "      <th>r</th>\n",
              "      <th>CI95%</th>\n",
              "      <th>r2</th>\n",
              "      <th>adj_r2</th>\n",
              "      <th>p-val</th>\n",
              "      <th>power</th>\n",
              "    </tr>\n",
              "  </thead>\n",
              "  <tbody>\n",
              "    <tr>\n",
              "      <th>percbend</th>\n",
              "      <td>38</td>\n",
              "      <td>0.986159</td>\n",
              "      <td>[0.97, 0.99]</td>\n",
              "      <td>0.97251</td>\n",
              "      <td>0.970939</td>\n",
              "      <td>1.075574e-29</td>\n",
              "      <td>1.0</td>\n",
              "    </tr>\n",
              "  </tbody>\n",
              "</table>\n",
              "</div>"
            ],
            "text/plain": [
              "           n         r         CI95%       r2    adj_r2         p-val  power\n",
              "percbend  38  0.986159  [0.97, 0.99]  0.97251  0.970939  1.075574e-29    1.0"
            ]
          },
          "metadata": {
            "tags": []
          },
          "execution_count": 229
        }
      ]
    },
    {
      "cell_type": "code",
      "metadata": {
        "id": "d9lCdD7-9uQs",
        "colab_type": "code",
        "outputId": "daf6e5ca-3d62-4f0d-d704-70998aad68ac",
        "colab": {
          "base_uri": "https://localhost:8080/",
          "height": 81
        }
      },
      "source": [
        "corr(tily, voa, method= 'skipped')"
      ],
      "execution_count": 0,
      "outputs": [
        {
          "output_type": "execute_result",
          "data": {
            "text/html": [
              "<div>\n",
              "<style scoped>\n",
              "    .dataframe tbody tr th:only-of-type {\n",
              "        vertical-align: middle;\n",
              "    }\n",
              "\n",
              "    .dataframe tbody tr th {\n",
              "        vertical-align: top;\n",
              "    }\n",
              "\n",
              "    .dataframe thead th {\n",
              "        text-align: right;\n",
              "    }\n",
              "</style>\n",
              "<table border=\"1\" class=\"dataframe\">\n",
              "  <thead>\n",
              "    <tr style=\"text-align: right;\">\n",
              "      <th></th>\n",
              "      <th>n</th>\n",
              "      <th>outliers</th>\n",
              "      <th>r</th>\n",
              "      <th>CI95%</th>\n",
              "      <th>r2</th>\n",
              "      <th>adj_r2</th>\n",
              "      <th>p-val</th>\n",
              "      <th>power</th>\n",
              "    </tr>\n",
              "  </thead>\n",
              "  <tbody>\n",
              "    <tr>\n",
              "      <th>skipped</th>\n",
              "      <td>38</td>\n",
              "      <td>1</td>\n",
              "      <td>0.073568</td>\n",
              "      <td>[-0.25, 0.38]</td>\n",
              "      <td>0.005412</td>\n",
              "      <td>-0.051421</td>\n",
              "      <td>0.665215</td>\n",
              "      <td>0.072135</td>\n",
              "    </tr>\n",
              "  </tbody>\n",
              "</table>\n",
              "</div>"
            ],
            "text/plain": [
              "          n  outliers         r  ...    adj_r2     p-val     power\n",
              "skipped  38         1  0.073568  ... -0.051421  0.665215  0.072135\n",
              "\n",
              "[1 rows x 8 columns]"
            ]
          },
          "metadata": {
            "tags": []
          },
          "execution_count": 230
        }
      ]
    },
    {
      "cell_type": "code",
      "metadata": {
        "id": "DrSStD2Y39az",
        "colab_type": "code",
        "outputId": "790f7cbc-16f7-480d-f42f-ae4cd82d35de",
        "colab": {
          "base_uri": "https://localhost:8080/",
          "height": 81
        }
      },
      "source": [
        "corr(tily, tsyvoa, method= 'skipped')"
      ],
      "execution_count": 0,
      "outputs": [
        {
          "output_type": "execute_result",
          "data": {
            "text/html": [
              "<div>\n",
              "<style scoped>\n",
              "    .dataframe tbody tr th:only-of-type {\n",
              "        vertical-align: middle;\n",
              "    }\n",
              "\n",
              "    .dataframe tbody tr th {\n",
              "        vertical-align: top;\n",
              "    }\n",
              "\n",
              "    .dataframe thead th {\n",
              "        text-align: right;\n",
              "    }\n",
              "</style>\n",
              "<table border=\"1\" class=\"dataframe\">\n",
              "  <thead>\n",
              "    <tr style=\"text-align: right;\">\n",
              "      <th></th>\n",
              "      <th>n</th>\n",
              "      <th>outliers</th>\n",
              "      <th>r</th>\n",
              "      <th>CI95%</th>\n",
              "      <th>r2</th>\n",
              "      <th>adj_r2</th>\n",
              "      <th>p-val</th>\n",
              "      <th>power</th>\n",
              "    </tr>\n",
              "  </thead>\n",
              "  <tbody>\n",
              "    <tr>\n",
              "      <th>skipped</th>\n",
              "      <td>38</td>\n",
              "      <td>1</td>\n",
              "      <td>0.985293</td>\n",
              "      <td>[0.97, 0.99]</td>\n",
              "      <td>0.970803</td>\n",
              "      <td>0.969134</td>\n",
              "      <td>1.889566e-28</td>\n",
              "      <td>1.0</td>\n",
              "    </tr>\n",
              "  </tbody>\n",
              "</table>\n",
              "</div>"
            ],
            "text/plain": [
              "          n  outliers         r  ...    adj_r2         p-val  power\n",
              "skipped  38         1  0.985293  ...  0.969134  1.889566e-28    1.0\n",
              "\n",
              "[1 rows x 8 columns]"
            ]
          },
          "metadata": {
            "tags": []
          },
          "execution_count": 231
        }
      ]
    },
    {
      "cell_type": "code",
      "metadata": {
        "id": "xNoAsijg92o0",
        "colab_type": "code",
        "outputId": "5ac7c7b8-097e-49e5-abf3-e16d8adc1362",
        "colab": {
          "base_uri": "https://localhost:8080/",
          "height": 81
        }
      },
      "source": [
        "corr(tily, voa, method= 'shepherd')"
      ],
      "execution_count": 0,
      "outputs": [
        {
          "output_type": "execute_result",
          "data": {
            "text/html": [
              "<div>\n",
              "<style scoped>\n",
              "    .dataframe tbody tr th:only-of-type {\n",
              "        vertical-align: middle;\n",
              "    }\n",
              "\n",
              "    .dataframe tbody tr th {\n",
              "        vertical-align: top;\n",
              "    }\n",
              "\n",
              "    .dataframe thead th {\n",
              "        text-align: right;\n",
              "    }\n",
              "</style>\n",
              "<table border=\"1\" class=\"dataframe\">\n",
              "  <thead>\n",
              "    <tr style=\"text-align: right;\">\n",
              "      <th></th>\n",
              "      <th>n</th>\n",
              "      <th>outliers</th>\n",
              "      <th>r</th>\n",
              "      <th>CI95%</th>\n",
              "      <th>r2</th>\n",
              "      <th>adj_r2</th>\n",
              "      <th>p-val</th>\n",
              "      <th>power</th>\n",
              "    </tr>\n",
              "  </thead>\n",
              "  <tbody>\n",
              "    <tr>\n",
              "      <th>shepherd</th>\n",
              "      <td>38</td>\n",
              "      <td>2</td>\n",
              "      <td>0.071734</td>\n",
              "      <td>[-0.25, 0.38]</td>\n",
              "      <td>0.005146</td>\n",
              "      <td>-0.051703</td>\n",
              "      <td>0.677592</td>\n",
              "      <td>0.071009</td>\n",
              "    </tr>\n",
              "  </tbody>\n",
              "</table>\n",
              "</div>"
            ],
            "text/plain": [
              "           n  outliers         r  ...    adj_r2     p-val     power\n",
              "shepherd  38         2  0.071734  ... -0.051703  0.677592  0.071009\n",
              "\n",
              "[1 rows x 8 columns]"
            ]
          },
          "metadata": {
            "tags": []
          },
          "execution_count": 232
        }
      ]
    },
    {
      "cell_type": "code",
      "metadata": {
        "id": "e8s5XhkJ4Gv2",
        "colab_type": "code",
        "outputId": "d52c0baa-7208-4558-d002-d0fb8c56843f",
        "colab": {
          "base_uri": "https://localhost:8080/",
          "height": 81
        }
      },
      "source": [
        "corr(tily, tsyvoa, method= 'shepherd')"
      ],
      "execution_count": 0,
      "outputs": [
        {
          "output_type": "execute_result",
          "data": {
            "text/html": [
              "<div>\n",
              "<style scoped>\n",
              "    .dataframe tbody tr th:only-of-type {\n",
              "        vertical-align: middle;\n",
              "    }\n",
              "\n",
              "    .dataframe tbody tr th {\n",
              "        vertical-align: top;\n",
              "    }\n",
              "\n",
              "    .dataframe thead th {\n",
              "        text-align: right;\n",
              "    }\n",
              "</style>\n",
              "<table border=\"1\" class=\"dataframe\">\n",
              "  <thead>\n",
              "    <tr style=\"text-align: right;\">\n",
              "      <th></th>\n",
              "      <th>n</th>\n",
              "      <th>outliers</th>\n",
              "      <th>r</th>\n",
              "      <th>CI95%</th>\n",
              "      <th>r2</th>\n",
              "      <th>adj_r2</th>\n",
              "      <th>p-val</th>\n",
              "      <th>power</th>\n",
              "    </tr>\n",
              "  </thead>\n",
              "  <tbody>\n",
              "    <tr>\n",
              "      <th>shepherd</th>\n",
              "      <td>38</td>\n",
              "      <td>2</td>\n",
              "      <td>0.987895</td>\n",
              "      <td>[0.98, 0.99]</td>\n",
              "      <td>0.975937</td>\n",
              "      <td>0.974562</td>\n",
              "      <td>4.178122e-29</td>\n",
              "      <td>1.0</td>\n",
              "    </tr>\n",
              "  </tbody>\n",
              "</table>\n",
              "</div>"
            ],
            "text/plain": [
              "           n  outliers         r  ...    adj_r2         p-val  power\n",
              "shepherd  38         2  0.987895  ...  0.974562  4.178122e-29    1.0\n",
              "\n",
              "[1 rows x 8 columns]"
            ]
          },
          "metadata": {
            "tags": []
          },
          "execution_count": 233
        }
      ]
    },
    {
      "cell_type": "code",
      "metadata": {
        "id": "s4w7hCd7uwC9",
        "colab_type": "code",
        "outputId": "0d81fde6-4f00-4254-9e1c-ee7a8594fbed",
        "colab": {
          "base_uri": "https://localhost:8080/",
          "height": 714
        }
      },
      "source": [
        "plt.figure(figsize=(12, 12))\n",
        "plt.plot(tily, voa, marker =\"+\",ls = 'None', color='black')\n",
        "plt.xlabel(\"Isan'ireo voatily isan'andro\")\n",
        "plt.ylabel(\"Isan'ireo voa vaovao isan'andro\")\n",
        "#plt.legend(loc= 'best')\n",
        "#plt.suptitle(\"Fivoarana raha R0 omen'ny antontan'isa CCO\")\n",
        "plt.savefig(path_to_save+'tilvoa.eps')\n",
        "plt.savefig(path_to_save+'tilvoa.png')"
      ],
      "execution_count": 7,
      "outputs": [
        {
          "output_type": "display_data",
          "data": {
            "image/png": "[encoded data removed]",
            "text/plain": [
              "<Figure size 864x864 with 1 Axes>"
            ]
          },
          "metadata": {
            "tags": [],
            "needs_background": "light"
          }
        }
      ]
    },
    {
      "cell_type": "code",
      "metadata": {
        "id": "8xE0c4jR1Q1p",
        "colab_type": "code",
        "outputId": "bf2fa28e-d79e-4cea-953f-54dacf286d8d",
        "colab": {
          "base_uri": "https://localhost:8080/",
          "height": 279
        }
      },
      "source": [
        "plt.figure()\n",
        "plt.plot(tily, voa, marker =\"+\",ls = 'None', color='black')\n",
        "plt.xlabel(\"Number of daily tested\")\n",
        "plt.ylabel(\"Number of daily new infected\")\n",
        "#plt.legend(loc= 'best')\n",
        "#plt.suptitle(\"Fivoarana raha R0 omen'ny antontan'isa CCO\")\n",
        "plt.savefig(path_to_save+'tilvoa_eng.png')"
      ],
      "execution_count": 0,
      "outputs": [
        {
          "output_type": "display_data",
          "data": {
            "image/png": "[encoded data removed]",
            "text/plain": [
              "<Figure size 432x288 with 1 Axes>"
            ]
          },
          "metadata": {
            "tags": [],
            "needs_background": "light"
          }
        }
      ]
    },
    {
      "cell_type": "code",
      "metadata": {
        "id": "ZdpBi-KP4VXe",
        "colab_type": "code",
        "outputId": "87d0e55b-7479-4dab-a2de-ad8d8dc563bb",
        "colab": {
          "base_uri": "https://localhost:8080/",
          "height": 715
        }
      },
      "source": [
        "plt.figure(figsize=(12, 12))\n",
        "plt.plot(tily, tsyvoa, marker =\"x\",ls = 'None', color='black')\n",
        "plt.xlabel(\"Isan'ireo voatily isan'andro\")\n",
        "plt.ylabel(\"Isan'ireo tsy voa voatily isan'andro\")\n",
        "#plt.legend(loc= 'best')\n",
        "#plt.suptitle(\"Fivoarana raha R0 omen'ny antontan'isa CCO\")\n",
        "plt.savefig(path_to_save+'tiltsvoa.eps')\n",
        "plt.savefig(path_to_save+'tiltsvoa.png')"
      ],
      "execution_count": 8,
      "outputs": [
        {
          "output_type": "display_data",
          "data": {
            "image/png": "[encoded data removed]",
            "text/plain": [
              "<Figure size 864x864 with 1 Axes>"
            ]
          },
          "metadata": {
            "tags": [],
            "needs_background": "light"
          }
        }
      ]
    },
    {
      "cell_type": "code",
      "metadata": {
        "id": "wk3zjk9TQnKI",
        "colab_type": "code",
        "outputId": "83221147-5e66-48b7-a512-331569068a51",
        "colab": {
          "base_uri": "https://localhost:8080/",
          "height": 282
        }
      },
      "source": [
        "plt.figure()\n",
        "plt.plot(tily, tsyvoa, marker =\"x\",ls = 'None', color='black')\n",
        "plt.xlabel(\"Number of daily tested\")\n",
        "plt.ylabel(\"Number of daily tested negative\")\n",
        "#plt.legend(loc= 'best')\n",
        "#plt.suptitle(\"Fivoarana raha R0 omen'ny antontan'isa CCO\")\n",
        "plt.savefig(path_to_save+'tiltsvoa_eng.eps')\n",
        "plt.savefig(path_to_save+'tiltsvoa_eng.png')"
      ],
      "execution_count": 0,
      "outputs": [
        {
          "output_type": "display_data",
          "data": {
            "image/png": "[encoded data removed]",
            "text/plain": [
              "<Figure size 432x288 with 1 Axes>"
            ]
          },
          "metadata": {
            "tags": [],
            "needs_background": "light"
          }
        }
      ]
    },
    {
      "cell_type": "code",
      "metadata": {
        "id": "bw-WXm6UqUWD",
        "colab_type": "code",
        "colab": {}
      },
      "source": [
        "# Construction of contingency table\n",
        "bt = pd.IntervalIndex.from_tuples([(13, 47), (47, 81), (81, 210)])\n",
        "btt = pd.IntervalIndex.from_tuples([(10, 47), (47, 81), (81, 210)])\n",
        "bv = pd.IntervalIndex.from_tuples([(-0.1, 1), (1,17)])\n",
        "\n",
        "tilyvoa['Tily_heba'] = pd.cut(tilyvoa['Tily'], bins=bt, include_lowest=True)\n",
        "tilyvoa['Voa_heba'] = pd.cut(tilyvoa['Voa'], bins=bv, include_lowest=True)\n",
        "tilyvoa['Tilym_heba'] = pd.cut(tilyvoa['Tilym'], bins=bt, include_lowest=True)\n",
        "tilyvoa['Tsyvoa_heba'] = pd.cut(tilyvoa['Tsyvoa'], bins=btt, include_lowest=True)\n",
        "\n",
        "ddt = tilyvoa.loc[ : , ['Tily', 'Tily_heba'] ]\n",
        "ddv = tilyvoa.loc[ : , ['Voa', 'Voa_heba'] ]\n",
        "ddtv = tilyvoa.loc[ : , ['Tsyvoa', 'Tsyvoa_heba'] ]\n",
        "ddtm = tilyvoa.loc[ : , ['Tilym', 'Tilym_heba'] ]\n",
        "\n",
        "\n",
        "#print(ddt)\n",
        "#print(ddv)"
      ],
      "execution_count": 0,
      "outputs": []
    },
    {
      "cell_type": "code",
      "metadata": {
        "id": "uH2GxdIHxcs1",
        "colab_type": "code",
        "colab": {}
      },
      "source": [
        "tomb_tv, hita_tv, stats_tv = pingouin.chi2_independence(tilyvoa, x='Tily_heba', y='Voa_heba')\n",
        "tomb_tmv, hita_tmv, stats_tmv = pingouin.chi2_independence(tilyvoa, x='Tilym_heba', y='Voa_heba')\n",
        "tomb_ttv, hita_ttv, stats_ttv = pingouin.chi2_independence(tilyvoa, x='Tily_heba', y='Tsyvoa_heba')\n",
        "\n",
        "tombm_ttv, hitam_ttv, statsm_ttv = pingouin.chi2_independence(tilyvoa, x='Tily', y='Tsyvoa')\n",
        "\n",
        "print(tomb_tv)\n",
        "print(tomb_tmv)\n",
        "print(tomb_ttv)\n",
        "print(hita_ttv)\n",
        "print(hitam_ttv)"
      ],
      "execution_count": 0,
      "outputs": []
    },
    {
      "cell_type": "code",
      "metadata": {
        "id": "qUXX_323x54w",
        "colab_type": "code",
        "outputId": "557eae37-02fd-4970-c32d-2c210a5ac6fb",
        "colab": {
          "base_uri": "https://localhost:8080/",
          "height": 230
        }
      },
      "source": [
        "expected, observed, stats = pingouin.chi2_independence(tilyvoa, x='Tilym_heba', y='Voa_heba')\n",
        "observed"
      ],
      "execution_count": 0,
      "outputs": [
        {
          "output_type": "stream",
          "text": [
            "/usr/local/lib/python3.6/dist-packages/pingouin/contingency.py:149: UserWarning: Low count on expected frequencies.\n",
            "  warnings.warn('Low count on {} frequencies.'.format(name))\n"
          ],
          "name": "stderr"
        },
        {
          "output_type": "execute_result",
          "data": {
            "text/html": [
              "<div>\n",
              "<style scoped>\n",
              "    .dataframe tbody tr th:only-of-type {\n",
              "        vertical-align: middle;\n",
              "    }\n",
              "\n",
              "    .dataframe tbody tr th {\n",
              "        vertical-align: top;\n",
              "    }\n",
              "\n",
              "    .dataframe thead th {\n",
              "        text-align: right;\n",
              "    }\n",
              "</style>\n",
              "<table border=\"1\" class=\"dataframe\">\n",
              "  <thead>\n",
              "    <tr style=\"text-align: right;\">\n",
              "      <th>Voa_heba</th>\n",
              "      <th>(-0.1, 1.0]</th>\n",
              "      <th>(1.0, 17.0]</th>\n",
              "    </tr>\n",
              "    <tr>\n",
              "      <th>Tilym_heba</th>\n",
              "      <th></th>\n",
              "      <th></th>\n",
              "    </tr>\n",
              "  </thead>\n",
              "  <tbody>\n",
              "    <tr>\n",
              "      <th>(13, 47]</th>\n",
              "      <td>5</td>\n",
              "      <td>5</td>\n",
              "    </tr>\n",
              "    <tr>\n",
              "      <th>(47, 81]</th>\n",
              "      <td>5</td>\n",
              "      <td>9</td>\n",
              "    </tr>\n",
              "    <tr>\n",
              "      <th>(81, 210]</th>\n",
              "      <td>5</td>\n",
              "      <td>9</td>\n",
              "    </tr>\n",
              "  </tbody>\n",
              "</table>\n",
              "</div>"
            ],
            "text/plain": [
              "Voa_heba    (-0.1, 1.0]  (1.0, 17.0]\n",
              "Tilym_heba                          \n",
              "(13, 47]              5            5\n",
              "(47, 81]              5            9\n",
              "(81, 210]             5            9"
            ]
          },
          "metadata": {
            "tags": []
          },
          "execution_count": 240
        }
      ]
    },
    {
      "cell_type": "code",
      "metadata": {
        "id": "aKXv4if0GcnQ",
        "colab_type": "code",
        "outputId": "68c50a3b-b7de-4239-dbfd-75805a42e32e",
        "colab": {
          "base_uri": "https://localhost:8080/",
          "height": 292
        }
      },
      "source": [
        "expected, observed, stats = pingouin.chi2_independence(tilyvoa, x='Tilym_heba', y='Voa_heba')\n",
        "stats.round(5)"
      ],
      "execution_count": 0,
      "outputs": [
        {
          "output_type": "stream",
          "text": [
            "/usr/local/lib/python3.6/dist-packages/pingouin/contingency.py:149: UserWarning: Low count on expected frequencies.\n",
            "  warnings.warn('Low count on {} frequencies.'.format(name))\n"
          ],
          "name": "stderr"
        },
        {
          "output_type": "execute_result",
          "data": {
            "text/html": [
              "<div>\n",
              "<style scoped>\n",
              "    .dataframe tbody tr th:only-of-type {\n",
              "        vertical-align: middle;\n",
              "    }\n",
              "\n",
              "    .dataframe tbody tr th {\n",
              "        vertical-align: top;\n",
              "    }\n",
              "\n",
              "    .dataframe thead th {\n",
              "        text-align: right;\n",
              "    }\n",
              "</style>\n",
              "<table border=\"1\" class=\"dataframe\">\n",
              "  <thead>\n",
              "    <tr style=\"text-align: right;\">\n",
              "      <th></th>\n",
              "      <th>test</th>\n",
              "      <th>lambda</th>\n",
              "      <th>chi2</th>\n",
              "      <th>dof</th>\n",
              "      <th>p</th>\n",
              "      <th>cramer</th>\n",
              "      <th>power</th>\n",
              "    </tr>\n",
              "  </thead>\n",
              "  <tbody>\n",
              "    <tr>\n",
              "      <th>0</th>\n",
              "      <td>pearson</td>\n",
              "      <td>1.00000</td>\n",
              "      <td>0.62940</td>\n",
              "      <td>2.0</td>\n",
              "      <td>0.73001</td>\n",
              "      <td>0.10417</td>\n",
              "      <td>0.10045</td>\n",
              "    </tr>\n",
              "    <tr>\n",
              "      <th>1</th>\n",
              "      <td>cressie-read</td>\n",
              "      <td>0.66667</td>\n",
              "      <td>0.62616</td>\n",
              "      <td>2.0</td>\n",
              "      <td>0.73119</td>\n",
              "      <td>0.10390</td>\n",
              "      <td>0.10017</td>\n",
              "    </tr>\n",
              "    <tr>\n",
              "      <th>2</th>\n",
              "      <td>log-likelihood</td>\n",
              "      <td>0.00000</td>\n",
              "      <td>0.62100</td>\n",
              "      <td>2.0</td>\n",
              "      <td>0.73308</td>\n",
              "      <td>0.10347</td>\n",
              "      <td>0.09974</td>\n",
              "    </tr>\n",
              "    <tr>\n",
              "      <th>3</th>\n",
              "      <td>freeman-tukey</td>\n",
              "      <td>-0.50000</td>\n",
              "      <td>0.61825</td>\n",
              "      <td>2.0</td>\n",
              "      <td>0.73409</td>\n",
              "      <td>0.10325</td>\n",
              "      <td>0.09951</td>\n",
              "    </tr>\n",
              "    <tr>\n",
              "      <th>4</th>\n",
              "      <td>mod-log-likelihood</td>\n",
              "      <td>-1.00000</td>\n",
              "      <td>0.61645</td>\n",
              "      <td>2.0</td>\n",
              "      <td>0.73475</td>\n",
              "      <td>0.10309</td>\n",
              "      <td>0.09935</td>\n",
              "    </tr>\n",
              "    <tr>\n",
              "      <th>5</th>\n",
              "      <td>neyman</td>\n",
              "      <td>-2.00000</td>\n",
              "      <td>0.61557</td>\n",
              "      <td>2.0</td>\n",
              "      <td>0.73507</td>\n",
              "      <td>0.10302</td>\n",
              "      <td>0.09928</td>\n",
              "    </tr>\n",
              "  </tbody>\n",
              "</table>\n",
              "</div>"
            ],
            "text/plain": [
              "                 test   lambda     chi2  dof        p   cramer    power\n",
              "0             pearson  1.00000  0.62940  2.0  0.73001  0.10417  0.10045\n",
              "1        cressie-read  0.66667  0.62616  2.0  0.73119  0.10390  0.10017\n",
              "2      log-likelihood  0.00000  0.62100  2.0  0.73308  0.10347  0.09974\n",
              "3       freeman-tukey -0.50000  0.61825  2.0  0.73409  0.10325  0.09951\n",
              "4  mod-log-likelihood -1.00000  0.61645  2.0  0.73475  0.10309  0.09935\n",
              "5              neyman -2.00000  0.61557  2.0  0.73507  0.10302  0.09928"
            ]
          },
          "metadata": {
            "tags": []
          },
          "execution_count": 241
        }
      ]
    }
  ]
}