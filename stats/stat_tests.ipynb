{
  "nbformat": 4,
  "nbformat_minor": 0,
  "metadata": {
    "colab": {
      "name": "stat tests.ipynb",
      "provenance": [],
      "authorship_tag": "ABX9TyPxqPCnV6xZr4rngkZOlWnl",
      "include_colab_link": true
    },
    "kernelspec": {
      "name": "python3",
      "display_name": "Python 3"
    }
  },
  "cells": [
    {
      "cell_type": "markdown",
      "metadata": {
        "id": "view-in-github",
        "colab_type": "text"
      },
      "source": [
        "<a href=\"https://colab.research.google.com/github/herysedra/covid19-mankaiza-clone/blob/andrana/stats/stat_tests.ipynb\" target=\"_parent\"><img src=\"https://colab.research.google.com/assets/colab-badge.svg\" alt=\"Open In Colab\"/></a>"
      ]
    },
    {
      "cell_type": "code",
      "metadata": {
        "id": "PXfNifBR3Ad-",
        "colab_type": "code",
        "outputId": "441ff5cd-73a9-4d97-e3c8-55ac463fd884",
        "colab": {
          "base_uri": "https://localhost:8080/",
          "height": 124
        }
      },
      "source": [
        "from google.colab import drive\n",
        "drive.mount('/content/drive')"
      ],
      "execution_count": 1,
      "outputs": [
        {
          "output_type": "stream",
          "text": [
            "Go to this URL in a browser: https://accounts.google.com/o/oauth2/auth?client_id=947318989803-6bn6qk8qdgf4n4g3pfee6491hc0brc4i.apps.googleusercontent.com&redirect_uri=urn%3aietf%3awg%3aoauth%3a2.0%3aoob&response_type=code&scope=email%20https%3a%2f%2fwww.googleapis.com%2fauth%2fdocs.test%20https%3a%2f%2fwww.googleapis.com%2fauth%2fdrive%20https%3a%2f%2fwww.googleapis.com%2fauth%2fdrive.photos.readonly%20https%3a%2f%2fwww.googleapis.com%2fauth%2fpeopleapi.readonly\n",
            "\n",
            "Enter your authorization code:\n",
            "··········\n",
            "Mounted at /content/drive\n"
          ],
          "name": "stdout"
        }
      ]
    },
    {
      "cell_type": "code",
      "metadata": {
        "id": "TiWG3RVr4qGI",
        "colab_type": "code",
        "colab": {}
      },
      "source": [
        "!pip install pingouin"
      ],
      "execution_count": 0,
      "outputs": []
    },
    {
      "cell_type": "code",
      "metadata": {
        "id": "TJhWL2BI3Tq_",
        "colab_type": "code",
        "colab": {}
      },
      "source": [
        "import pandas as pd\n",
        "import numpy as np\n",
        "import matplotlib.pyplot as plt\n",
        "import scipy.stats\n",
        "import matplotlib\n",
        "import pickle\n",
        "\n",
        "\n",
        "import matplotlib.dates as mdates\n",
        "from matplotlib.dates import DateFormatter\n",
        "import seaborn as sns\n",
        "\n",
        "import pymc3 as pm\n",
        "import theano.tensor as tt\n",
        "import theano\n",
        "import datetime\n",
        "import time\n",
        "import pingouin \n",
        "\n",
        "#from pingouin import corr\n",
        "import pandas.util.testing as tm\n",
        "\n",
        "cco_cases_mdg = pd.read_csv(\"/content/drive/My Drive/data/cco mdg.csv\")\n",
        "\n",
        "tilyvoa = pd.read_csv(\"/content/drive/My Drive/data/tilyvoa.csv\")\n",
        "\n",
        "ke_datafar = pd.read_csv(\"/content/drive/My Drive/data/Kenyans data.csv\")\n",
        "\n",
        "cco_cases_mdg.set_index('Date', inplace=True)\n",
        "\n",
        "tilyvoa.set_index('Daty', inplace=True)\n",
        "\n",
        "\n",
        "path_to_save = '/content/drive/My Drive/sary/'\n",
        "path_data = '/content/drive/My Drive/data/'"
      ],
      "execution_count": 0,
      "outputs": []
    },
    {
      "cell_type": "code",
      "metadata": {
        "id": "qnObtoNG7vi2",
        "colab_type": "code",
        "colab": {
          "base_uri": "https://localhost:8080/",
          "height": 399
        },
        "outputId": "747caad5-c0fa-4a6b-ddec-f8cb5ff69021"
      },
      "source": [
        "tilyvoa.info()"
      ],
      "execution_count": 154,
      "outputs": [
        {
          "output_type": "stream",
          "text": [
            "<class 'pandas.core.frame.DataFrame'>\n",
            "Index: 58 entries, 2020-3-18 to 2020-5-14\n",
            "Data columns (total 15 columns):\n",
            " #   Column            Non-Null Count  Dtype  \n",
            "---  ------            --------------  -----  \n",
            " 0   Loharano          51 non-null     object \n",
            " 1   Faritra           0 non-null      float64\n",
            " 2   Tily ara-potoana  2 non-null      float64\n",
            " 3   Tilytot tvm       11 non-null     float64\n",
            " 4   Tilyvaoamb        49 non-null     float64\n",
            " 5   Tily              39 non-null     float64\n",
            " 6   Voa               38 non-null     float64\n",
            " 7   Voavao tvm        45 non-null     float64\n",
            " 8   Tsyvoa            38 non-null     float64\n",
            " 9   Tilym             38 non-null     float64\n",
            " 10  Voareh ilain      38 non-null     float64\n",
            " 11  Voareh tvm        45 non-null     float64\n",
            " 12  Sitranreh ilain   38 non-null     float64\n",
            " 13  Sitranreh tvm     33 non-null     float64\n",
            " 14  Sitranvao tvm     32 non-null     float64\n",
            "dtypes: float64(14), object(1)\n",
            "memory usage: 7.2+ KB\n"
          ],
          "name": "stdout"
        }
      ]
    },
    {
      "cell_type": "code",
      "metadata": {
        "id": "Psh8cgNH5FR5",
        "colab_type": "code",
        "outputId": "4dfd6dda-25c0-4a24-eb93-01484ee5a981",
        "colab": {
          "base_uri": "https://localhost:8080/",
          "height": 34
        }
      },
      "source": [
        "tily = tilyvoa.loc[:,'Tily']\n",
        "voa = tilyvoa.loc[:, 'Voa']\n",
        "tsyvoa = tilyvoa.loc[:, 'Tsyvoa']\n",
        "tilym = tilyvoa.loc[:,'Tilym']\n",
        "type(voa)"
      ],
      "execution_count": 135,
      "outputs": [
        {
          "output_type": "execute_result",
          "data": {
            "text/plain": [
              "pandas.core.series.Series"
            ]
          },
          "metadata": {
            "tags": []
          },
          "execution_count": 135
        }
      ]
    },
    {
      "cell_type": "code",
      "metadata": {
        "id": "rhDEDAPX81Vs",
        "colab_type": "code",
        "outputId": "d91ac900-1f2c-4788-afae-beb1d3ee2a20",
        "colab": {
          "base_uri": "https://localhost:8080/",
          "height": 81
        }
      },
      "source": [
        "corr(tily, voa, method= 'percbend')"
      ],
      "execution_count": 0,
      "outputs": [
        {
          "output_type": "execute_result",
          "data": {
            "text/html": [
              "<div>\n",
              "<style scoped>\n",
              "    .dataframe tbody tr th:only-of-type {\n",
              "        vertical-align: middle;\n",
              "    }\n",
              "\n",
              "    .dataframe tbody tr th {\n",
              "        vertical-align: top;\n",
              "    }\n",
              "\n",
              "    .dataframe thead th {\n",
              "        text-align: right;\n",
              "    }\n",
              "</style>\n",
              "<table border=\"1\" class=\"dataframe\">\n",
              "  <thead>\n",
              "    <tr style=\"text-align: right;\">\n",
              "      <th></th>\n",
              "      <th>n</th>\n",
              "      <th>r</th>\n",
              "      <th>CI95%</th>\n",
              "      <th>r2</th>\n",
              "      <th>adj_r2</th>\n",
              "      <th>p-val</th>\n",
              "      <th>power</th>\n",
              "    </tr>\n",
              "  </thead>\n",
              "  <tbody>\n",
              "    <tr>\n",
              "      <th>percbend</th>\n",
              "      <td>38</td>\n",
              "      <td>0.03</td>\n",
              "      <td>[-0.29, 0.35]</td>\n",
              "      <td>0.001</td>\n",
              "      <td>-0.056</td>\n",
              "      <td>0.858324</td>\n",
              "      <td>0.053</td>\n",
              "    </tr>\n",
              "  </tbody>\n",
              "</table>\n",
              "</div>"
            ],
            "text/plain": [
              "           n     r          CI95%     r2  adj_r2     p-val  power\n",
              "percbend  38  0.03  [-0.29, 0.35]  0.001  -0.056  0.858324  0.053"
            ]
          },
          "metadata": {
            "tags": []
          },
          "execution_count": 82
        }
      ]
    },
    {
      "cell_type": "code",
      "metadata": {
        "id": "OH_1qAXN3qsq",
        "colab_type": "code",
        "outputId": "f069f14c-86ee-40a9-8787-e2241ab9bdf7",
        "colab": {
          "base_uri": "https://localhost:8080/",
          "height": 81
        }
      },
      "source": [
        "corr(tily, tsyvoa, method= 'percbend')"
      ],
      "execution_count": 0,
      "outputs": [
        {
          "output_type": "execute_result",
          "data": {
            "text/html": [
              "<div>\n",
              "<style scoped>\n",
              "    .dataframe tbody tr th:only-of-type {\n",
              "        vertical-align: middle;\n",
              "    }\n",
              "\n",
              "    .dataframe tbody tr th {\n",
              "        vertical-align: top;\n",
              "    }\n",
              "\n",
              "    .dataframe thead th {\n",
              "        text-align: right;\n",
              "    }\n",
              "</style>\n",
              "<table border=\"1\" class=\"dataframe\">\n",
              "  <thead>\n",
              "    <tr style=\"text-align: right;\">\n",
              "      <th></th>\n",
              "      <th>n</th>\n",
              "      <th>r</th>\n",
              "      <th>CI95%</th>\n",
              "      <th>r2</th>\n",
              "      <th>adj_r2</th>\n",
              "      <th>p-val</th>\n",
              "      <th>power</th>\n",
              "    </tr>\n",
              "  </thead>\n",
              "  <tbody>\n",
              "    <tr>\n",
              "      <th>percbend</th>\n",
              "      <td>38</td>\n",
              "      <td>0.986</td>\n",
              "      <td>[0.97, 0.99]</td>\n",
              "      <td>0.973</td>\n",
              "      <td>0.971</td>\n",
              "      <td>1.075574e-29</td>\n",
              "      <td>1.0</td>\n",
              "    </tr>\n",
              "  </tbody>\n",
              "</table>\n",
              "</div>"
            ],
            "text/plain": [
              "           n      r         CI95%     r2  adj_r2         p-val  power\n",
              "percbend  38  0.986  [0.97, 0.99]  0.973   0.971  1.075574e-29    1.0"
            ]
          },
          "metadata": {
            "tags": []
          },
          "execution_count": 83
        }
      ]
    },
    {
      "cell_type": "code",
      "metadata": {
        "id": "d9lCdD7-9uQs",
        "colab_type": "code",
        "outputId": "33234d93-004a-4bb3-9ceb-a1319a44c0d7",
        "colab": {
          "base_uri": "https://localhost:8080/",
          "height": 81
        }
      },
      "source": [
        "corr(tily, voa, method= 'skipped')"
      ],
      "execution_count": 0,
      "outputs": [
        {
          "output_type": "execute_result",
          "data": {
            "text/html": [
              "<div>\n",
              "<style scoped>\n",
              "    .dataframe tbody tr th:only-of-type {\n",
              "        vertical-align: middle;\n",
              "    }\n",
              "\n",
              "    .dataframe tbody tr th {\n",
              "        vertical-align: top;\n",
              "    }\n",
              "\n",
              "    .dataframe thead th {\n",
              "        text-align: right;\n",
              "    }\n",
              "</style>\n",
              "<table border=\"1\" class=\"dataframe\">\n",
              "  <thead>\n",
              "    <tr style=\"text-align: right;\">\n",
              "      <th></th>\n",
              "      <th>n</th>\n",
              "      <th>outliers</th>\n",
              "      <th>r</th>\n",
              "      <th>CI95%</th>\n",
              "      <th>r2</th>\n",
              "      <th>adj_r2</th>\n",
              "      <th>p-val</th>\n",
              "      <th>power</th>\n",
              "    </tr>\n",
              "  </thead>\n",
              "  <tbody>\n",
              "    <tr>\n",
              "      <th>skipped</th>\n",
              "      <td>38</td>\n",
              "      <td>1</td>\n",
              "      <td>0.074</td>\n",
              "      <td>[-0.25, 0.38]</td>\n",
              "      <td>0.005</td>\n",
              "      <td>-0.051</td>\n",
              "      <td>0.665215</td>\n",
              "      <td>0.072</td>\n",
              "    </tr>\n",
              "  </tbody>\n",
              "</table>\n",
              "</div>"
            ],
            "text/plain": [
              "          n  outliers      r          CI95%     r2  adj_r2     p-val  power\n",
              "skipped  38         1  0.074  [-0.25, 0.38]  0.005  -0.051  0.665215  0.072"
            ]
          },
          "metadata": {
            "tags": []
          },
          "execution_count": 84
        }
      ]
    },
    {
      "cell_type": "code",
      "metadata": {
        "id": "DrSStD2Y39az",
        "colab_type": "code",
        "outputId": "822381db-d355-418b-c2f6-a340ecc80b30",
        "colab": {
          "base_uri": "https://localhost:8080/",
          "height": 81
        }
      },
      "source": [
        "corr(tily, tsyvoa, method= 'skipped')"
      ],
      "execution_count": 0,
      "outputs": [
        {
          "output_type": "execute_result",
          "data": {
            "text/html": [
              "<div>\n",
              "<style scoped>\n",
              "    .dataframe tbody tr th:only-of-type {\n",
              "        vertical-align: middle;\n",
              "    }\n",
              "\n",
              "    .dataframe tbody tr th {\n",
              "        vertical-align: top;\n",
              "    }\n",
              "\n",
              "    .dataframe thead th {\n",
              "        text-align: right;\n",
              "    }\n",
              "</style>\n",
              "<table border=\"1\" class=\"dataframe\">\n",
              "  <thead>\n",
              "    <tr style=\"text-align: right;\">\n",
              "      <th></th>\n",
              "      <th>n</th>\n",
              "      <th>outliers</th>\n",
              "      <th>r</th>\n",
              "      <th>CI95%</th>\n",
              "      <th>r2</th>\n",
              "      <th>adj_r2</th>\n",
              "      <th>p-val</th>\n",
              "      <th>power</th>\n",
              "    </tr>\n",
              "  </thead>\n",
              "  <tbody>\n",
              "    <tr>\n",
              "      <th>skipped</th>\n",
              "      <td>38</td>\n",
              "      <td>1</td>\n",
              "      <td>0.985</td>\n",
              "      <td>[0.97, 0.99]</td>\n",
              "      <td>0.971</td>\n",
              "      <td>0.969</td>\n",
              "      <td>1.889566e-28</td>\n",
              "      <td>1.0</td>\n",
              "    </tr>\n",
              "  </tbody>\n",
              "</table>\n",
              "</div>"
            ],
            "text/plain": [
              "          n  outliers      r         CI95%     r2  adj_r2         p-val  power\n",
              "skipped  38         1  0.985  [0.97, 0.99]  0.971   0.969  1.889566e-28    1.0"
            ]
          },
          "metadata": {
            "tags": []
          },
          "execution_count": 85
        }
      ]
    },
    {
      "cell_type": "code",
      "metadata": {
        "id": "xNoAsijg92o0",
        "colab_type": "code",
        "outputId": "a6744f68-ec6b-4185-8173-bb81e331e85e",
        "colab": {
          "base_uri": "https://localhost:8080/",
          "height": 81
        }
      },
      "source": [
        "corr(tily, voa, method= 'shepherd')"
      ],
      "execution_count": 0,
      "outputs": [
        {
          "output_type": "execute_result",
          "data": {
            "text/html": [
              "<div>\n",
              "<style scoped>\n",
              "    .dataframe tbody tr th:only-of-type {\n",
              "        vertical-align: middle;\n",
              "    }\n",
              "\n",
              "    .dataframe tbody tr th {\n",
              "        vertical-align: top;\n",
              "    }\n",
              "\n",
              "    .dataframe thead th {\n",
              "        text-align: right;\n",
              "    }\n",
              "</style>\n",
              "<table border=\"1\" class=\"dataframe\">\n",
              "  <thead>\n",
              "    <tr style=\"text-align: right;\">\n",
              "      <th></th>\n",
              "      <th>n</th>\n",
              "      <th>outliers</th>\n",
              "      <th>r</th>\n",
              "      <th>CI95%</th>\n",
              "      <th>r2</th>\n",
              "      <th>adj_r2</th>\n",
              "      <th>p-val</th>\n",
              "      <th>power</th>\n",
              "    </tr>\n",
              "  </thead>\n",
              "  <tbody>\n",
              "    <tr>\n",
              "      <th>shepherd</th>\n",
              "      <td>38</td>\n",
              "      <td>2</td>\n",
              "      <td>0.072</td>\n",
              "      <td>[-0.25, 0.38]</td>\n",
              "      <td>0.005</td>\n",
              "      <td>-0.052</td>\n",
              "      <td>0.677592</td>\n",
              "      <td>0.071</td>\n",
              "    </tr>\n",
              "  </tbody>\n",
              "</table>\n",
              "</div>"
            ],
            "text/plain": [
              "           n  outliers      r          CI95%     r2  adj_r2     p-val  power\n",
              "shepherd  38         2  0.072  [-0.25, 0.38]  0.005  -0.052  0.677592  0.071"
            ]
          },
          "metadata": {
            "tags": []
          },
          "execution_count": 86
        }
      ]
    },
    {
      "cell_type": "code",
      "metadata": {
        "id": "e8s5XhkJ4Gv2",
        "colab_type": "code",
        "outputId": "7cf90ada-3793-4943-dfab-347214f66b9c",
        "colab": {
          "base_uri": "https://localhost:8080/",
          "height": 81
        }
      },
      "source": [
        "corr(tily, tsyvoa, method= 'shepherd')"
      ],
      "execution_count": 0,
      "outputs": [
        {
          "output_type": "execute_result",
          "data": {
            "text/html": [
              "<div>\n",
              "<style scoped>\n",
              "    .dataframe tbody tr th:only-of-type {\n",
              "        vertical-align: middle;\n",
              "    }\n",
              "\n",
              "    .dataframe tbody tr th {\n",
              "        vertical-align: top;\n",
              "    }\n",
              "\n",
              "    .dataframe thead th {\n",
              "        text-align: right;\n",
              "    }\n",
              "</style>\n",
              "<table border=\"1\" class=\"dataframe\">\n",
              "  <thead>\n",
              "    <tr style=\"text-align: right;\">\n",
              "      <th></th>\n",
              "      <th>n</th>\n",
              "      <th>outliers</th>\n",
              "      <th>r</th>\n",
              "      <th>CI95%</th>\n",
              "      <th>r2</th>\n",
              "      <th>adj_r2</th>\n",
              "      <th>p-val</th>\n",
              "      <th>power</th>\n",
              "    </tr>\n",
              "  </thead>\n",
              "  <tbody>\n",
              "    <tr>\n",
              "      <th>shepherd</th>\n",
              "      <td>38</td>\n",
              "      <td>2</td>\n",
              "      <td>0.988</td>\n",
              "      <td>[0.98, 0.99]</td>\n",
              "      <td>0.976</td>\n",
              "      <td>0.975</td>\n",
              "      <td>4.178122e-29</td>\n",
              "      <td>1.0</td>\n",
              "    </tr>\n",
              "  </tbody>\n",
              "</table>\n",
              "</div>"
            ],
            "text/plain": [
              "           n  outliers      r         CI95%     r2  adj_r2         p-val  power\n",
              "shepherd  38         2  0.988  [0.98, 0.99]  0.976   0.975  4.178122e-29    1.0"
            ]
          },
          "metadata": {
            "tags": []
          },
          "execution_count": 87
        }
      ]
    },
    {
      "cell_type": "code",
      "metadata": {
        "id": "s4w7hCd7uwC9",
        "colab_type": "code",
        "outputId": "ab0882ed-2c78-495b-c0e3-6024f7b34d15",
        "colab": {
          "base_uri": "https://localhost:8080/",
          "height": 714
        }
      },
      "source": [
        "plt.figure(figsize=(12, 12))\n",
        "plt.plot(tily, voa, marker =\"+\",ls = 'None', color='black')\n",
        "plt.xlabel(\"Isan'ireo voatily isan'andro\")\n",
        "plt.ylabel(\"Isan'ireo voa vaovao isan'andro\")\n",
        "#plt.legend(loc= 'best')\n",
        "#plt.suptitle(\"Fivoarana raha R0 omen'ny antontan'isa CCO\")\n",
        "plt.savefig(path_to_save+'tilvoa.eps')\n",
        "plt.savefig(path_to_save+'tilvoa.png')"
      ],
      "execution_count": 155,
      "outputs": [
        {
          "output_type": "display_data",
          "data": {
            "image/png": "[encoded data removed]",
            "text/plain": [
              "<Figure size 864x864 with 1 Axes>"
            ]
          },
          "metadata": {
            "tags": [],
            "needs_background": "light"
          }
        }
      ]
    },
    {
      "cell_type": "code",
      "metadata": {
        "id": "8xE0c4jR1Q1p",
        "colab_type": "code",
        "outputId": "c28410d7-4518-41c4-8129-fe57d0d29282",
        "colab": {
          "base_uri": "https://localhost:8080/",
          "height": 714
        }
      },
      "source": [
        "plt.figure(figsize=(12, 12))\n",
        "plt.plot(tily, voa, marker =\"+\",ls = 'None', color='black')\n",
        "plt.xlabel(\"Number of daily tested\")\n",
        "plt.ylabel(\"Number of daily new infected\")\n",
        "#plt.legend(loc= 'best')\n",
        "#plt.suptitle(\"Fivoarana raha R0 omen'ny antontan'isa CCO\")\n",
        "plt.savefig(path_to_save+'tilvoa_eng.png')"
      ],
      "execution_count": 156,
      "outputs": [
        {
          "output_type": "display_data",
          "data": {
            "image/png": "[encoded data removed]",
            "text/plain": [
              "<Figure size 864x864 with 1 Axes>"
            ]
          },
          "metadata": {
            "tags": [],
            "needs_background": "light"
          }
        }
      ]
    },
    {
      "cell_type": "code",
      "metadata": {
        "id": "ZdpBi-KP4VXe",
        "colab_type": "code",
        "outputId": "dd1b4a20-d366-4a7c-8dd9-f1958a6396c5",
        "colab": {
          "base_uri": "https://localhost:8080/",
          "height": 715
        }
      },
      "source": [
        "plt.figure(figsize=(12, 12))\n",
        "plt.plot(tily, tsyvoa, marker =\"x\",ls = 'None', color='black')\n",
        "plt.xlabel(\"Isan'ireo voatily isan'andro\")\n",
        "plt.ylabel(\"Isan'ireo tsy voa voatily isan'andro\")\n",
        "#plt.legend(loc= 'best')\n",
        "#plt.suptitle(\"Fivoarana raha R0 omen'ny antontan'isa CCO\")\n",
        "plt.savefig(path_to_save+'tiltsvoa.eps')\n",
        "plt.savefig(path_to_save+'tiltsvoa.png')"
      ],
      "execution_count": 108,
      "outputs": [
        {
          "output_type": "display_data",
          "data": {
            "image/png": "[encoded data removed]",
            "text/plain": [
              "<Figure size 864x864 with 1 Axes>"
            ]
          },
          "metadata": {
            "tags": [],
            "needs_background": "light"
          }
        }
      ]
    },
    {
      "cell_type": "code",
      "metadata": {
        "id": "wk3zjk9TQnKI",
        "colab_type": "code",
        "outputId": "6dce36f2-c5c6-41a9-b4d9-9fadcf8b7a52",
        "colab": {
          "base_uri": "https://localhost:8080/",
          "height": 288
        }
      },
      "source": [
        "plt.figure()\n",
        "plt.plot(tily, tsyvoa, marker =\"x\",ls = 'None', color='black')\n",
        "plt.xlabel(\"Number of daily tested\")\n",
        "plt.ylabel(\"Number of daily tested negative\")\n",
        "#plt.legend(loc= 'best')\n",
        "#plt.suptitle(\"Fivoarana raha R0 omen'ny antontan'isa CCO\")\n",
        "plt.savefig(path_to_save+'tiltsvoa_eng.eps')\n",
        "plt.savefig(path_to_save+'tiltsvoa_eng.png')"
      ],
      "execution_count": 0,
      "outputs": [
        {
          "output_type": "display_data",
          "data": {
            "image/png": "[encoded data removed]",
            "text/plain": [
              "<Figure size 432x288 with 1 Axes>"
            ]
          },
          "metadata": {
            "tags": []
          }
        }
      ]
    },
    {
      "cell_type": "code",
      "metadata": {
        "id": "bw-WXm6UqUWD",
        "colab_type": "code",
        "colab": {}
      },
      "source": [
        "# Construction of contingency table\n",
        "bt = pd.IntervalIndex.from_tuples([(13, 47), (47, 81), (81, 210)])\n",
        "btt = pd.IntervalIndex.from_tuples([(10, 47), (47, 81), (81, 210)])\n",
        "bv = pd.IntervalIndex.from_tuples([(-0.1, 1), (1,17)])\n",
        "\n",
        "tilyvoa['Tily_heba'] = pd.cut(tilyvoa['Tily'], bins=bt, include_lowest=True)\n",
        "tilyvoa['Voa_heba'] = pd.cut(tilyvoa['Voa'], bins=bv, include_lowest=True)\n",
        "tilyvoa['Tilym_heba'] = pd.cut(tilyvoa['Tilym'], bins=bt, include_lowest=True)\n",
        "tilyvoa['Tsyvoa_heba'] = pd.cut(tilyvoa['Tsyvoa'], bins=btt, include_lowest=True)\n",
        "\n",
        "ddt = tilyvoa.loc[ : , ['Tily', 'Tily_heba'] ]\n",
        "ddv = tilyvoa.loc[ : , ['Voa', 'Voa_heba'] ]\n",
        "ddtv = tilyvoa.loc[ : , ['Tsyvoa', 'Tsyvoa_heba'] ]\n",
        "ddtm = tilyvoa.loc[ : , ['Tilym', 'Tilym_heba'] ]\n",
        "\n",
        "\n",
        "#print(ddt)\n",
        "#print(ddv)"
      ],
      "execution_count": 0,
      "outputs": []
    },
    {
      "cell_type": "code",
      "metadata": {
        "id": "uH2GxdIHxcs1",
        "colab_type": "code",
        "outputId": "f34a3cf4-18e3-4bd2-a00d-66385b217ec4",
        "colab": {
          "base_uri": "https://localhost:8080/",
          "height": 1000
        }
      },
      "source": [
        "tomb_tv, hita_tv, stats_tv = pingouin.chi2_independence(tilyvoa, x='Tily_heba', y='Voa_heba')\n",
        "tomb_tmv, hita_tmv, stats_tmv = pingouin.chi2_independence(tilyvoa, x='Tilym_heba', y='Voa_heba')\n",
        "tomb_ttv, hita_ttv, stats_ttv = pingouin.chi2_independence(tilyvoa, x='Tily_heba', y='Tsyvoa_heba')\n",
        "\n",
        "tombm_ttv, hitam_ttv, statsm_ttv = pingouin.chi2_independence(tilyvoa, x='Tily', y='Tsyvoa')\n",
        "\n",
        "print(tomb_tv)\n",
        "print(tomb_tmv)\n",
        "print(tomb_ttv)\n",
        "print(hita_ttv)\n",
        "print(hitam_ttv)"
      ],
      "execution_count": 0,
      "outputs": [
        {
          "output_type": "stream",
          "text": [
            "Voa_heba   (-0.1, 1.0]  (1.0, 17.0]\n",
            "Tily_heba                          \n",
            "(13, 47]      3.552632     5.447368\n",
            "(47, 81]      5.921053     9.078947\n",
            "(81, 210]     5.526316     8.473684\n",
            "Voa_heba    (-0.1, 1.0]  (1.0, 17.0]\n",
            "Tilym_heba                          \n",
            "(13, 47]       3.947368     6.052632\n",
            "(47, 81]       5.526316     8.473684\n",
            "(81, 210]      5.526316     8.473684\n",
            "Tsyvoa_heba  (10, 47]  (47, 81]  (81, 210]\n",
            "Tily_heba                                 \n",
            "(13, 47]     3.789474  2.368421   2.842105\n",
            "(47, 81]     6.315789  3.947368   4.736842\n",
            "(81, 210]    5.894737  3.684211   4.421053\n",
            "Tsyvoa_heba  (10, 47]  (47, 81]  (81, 210]\n",
            "Tily_heba                                 \n",
            "(13, 47]            9         0          0\n",
            "(47, 81]            7         8          0\n",
            "(81, 210]           0         2         12\n",
            "Tsyvoa  12   16   18   23   30   31   36   ...  115  120  124  125  140  161  192\n",
            "Tily                                       ...                                   \n",
            "14        1    0    0    0    0    0    0  ...    0    0    0    0    0    0    0\n",
            "17        0    1    0    0    0    0    0  ...    0    0    0    0    0    0    0\n",
            "24        0    0    1    0    0    0    0  ...    0    0    0    0    0    0    0\n",
            "26        0    0    0    1    0    0    0  ...    0    0    0    0    0    0    0\n",
            "32        0    0    0    0    1    0    0  ...    0    0    0    0    0    0    0\n",
            "33        0    0    0    0    0    1    0  ...    0    0    0    0    0    0    0\n",
            "36        0    0    0    0    0    0    1  ...    0    0    0    0    0    0    0\n",
            "42        0    0    0    0    0    0    0  ...    0    0    0    0    0    0    0\n",
            "43        0    0    0    0    0    0    0  ...    0    0    0    0    0    0    0\n",
            "48        0    0    0    0    0    0    0  ...    0    0    0    0    0    0    0\n",
            "49        0    0    0    0    0    0    0  ...    0    0    0    0    0    0    0\n",
            "50        0    0    0    0    0    0    0  ...    0    0    0    0    0    0    0\n",
            "53        0    0    0    0    0    0    0  ...    0    0    0    0    0    0    0\n",
            "54        0    0    0    0    0    0    0  ...    0    0    0    0    0    0    0\n",
            "55        0    0    0    0    0    0    0  ...    0    0    0    0    0    0    0\n",
            "56        0    0    0    0    0    0    0  ...    0    0    0    0    0    0    0\n",
            "62        0    0    0    0    0    0    0  ...    0    0    0    0    0    0    0\n",
            "65        0    0    0    0    0    0    0  ...    0    0    0    0    0    0    0\n",
            "69        0    0    0    0    0    0    0  ...    0    0    0    0    0    0    0\n",
            "71        0    0    0    0    0    0    0  ...    0    0    0    0    0    0    0\n",
            "77        0    0    0    0    0    0    0  ...    0    0    0    0    0    0    0\n",
            "78        0    0    0    0    0    0    0  ...    0    0    0    0    0    0    0\n",
            "82        0    0    0    0    0    0    0  ...    0    0    0    0    0    0    0\n",
            "97        0    0    0    0    0    0    0  ...    0    0    0    0    0    0    0\n",
            "98        0    0    0    0    0    0    0  ...    0    0    0    0    0    0    0\n",
            "102       0    0    0    0    0    0    0  ...    0    0    0    0    0    0    0\n",
            "112       0    0    0    0    0    0    0  ...    0    0    0    0    0    0    0\n",
            "120       0    0    0    0    0    0    0  ...    1    0    0    0    0    0    0\n",
            "123       0    0    0    0    0    0    0  ...    0    1    0    0    0    0    0\n",
            "125       0    0    0    0    0    0    0  ...    0    0    1    0    0    0    0\n",
            "127       0    0    0    0    0    0    0  ...    0    0    0    2    0    0    0\n",
            "143       0    0    0    0    0    0    0  ...    0    0    0    0    1    0    0\n",
            "163       0    0    0    0    0    0    0  ...    0    0    0    0    0    1    0\n",
            "201       0    0    0    0    0    0    0  ...    0    0    0    0    0    0    1\n",
            "\n",
            "[34 rows x 33 columns]\n"
          ],
          "name": "stdout"
        },
        {
          "output_type": "stream",
          "text": [
            "/usr/local/lib/python3.6/dist-packages/pingouin/contingency.py:149: UserWarning: Low count on observed frequencies.\n",
            "  warnings.warn('Low count on {} frequencies.'.format(name))\n",
            "/usr/local/lib/python3.6/dist-packages/pingouin/contingency.py:149: UserWarning: Low count on expected frequencies.\n",
            "  warnings.warn('Low count on {} frequencies.'.format(name))\n"
          ],
          "name": "stderr"
        }
      ]
    },
    {
      "cell_type": "code",
      "metadata": {
        "id": "qUXX_323x54w",
        "colab_type": "code",
        "outputId": "57901807-d5b5-431d-d1d6-dfc28de70ec1",
        "colab": {
          "base_uri": "https://localhost:8080/",
          "height": 230
        }
      },
      "source": [
        "expected, observed, stats = pingouin.chi2_independence(tilyvoa, x='Tilym_heba', y='Voa_heba')\n",
        "observed"
      ],
      "execution_count": 0,
      "outputs": [
        {
          "output_type": "stream",
          "text": [
            "/usr/local/lib/python3.6/dist-packages/pingouin/contingency.py:149: UserWarning: Low count on expected frequencies.\n",
            "  warnings.warn('Low count on {} frequencies.'.format(name))\n"
          ],
          "name": "stderr"
        },
        {
          "output_type": "execute_result",
          "data": {
            "text/html": [
              "<div>\n",
              "<style scoped>\n",
              "    .dataframe tbody tr th:only-of-type {\n",
              "        vertical-align: middle;\n",
              "    }\n",
              "\n",
              "    .dataframe tbody tr th {\n",
              "        vertical-align: top;\n",
              "    }\n",
              "\n",
              "    .dataframe thead th {\n",
              "        text-align: right;\n",
              "    }\n",
              "</style>\n",
              "<table border=\"1\" class=\"dataframe\">\n",
              "  <thead>\n",
              "    <tr style=\"text-align: right;\">\n",
              "      <th>Voa_heba</th>\n",
              "      <th>(-0.1, 1.0]</th>\n",
              "      <th>(1.0, 17.0]</th>\n",
              "    </tr>\n",
              "    <tr>\n",
              "      <th>Tilym_heba</th>\n",
              "      <th></th>\n",
              "      <th></th>\n",
              "    </tr>\n",
              "  </thead>\n",
              "  <tbody>\n",
              "    <tr>\n",
              "      <th>(13, 47]</th>\n",
              "      <td>5</td>\n",
              "      <td>5</td>\n",
              "    </tr>\n",
              "    <tr>\n",
              "      <th>(47, 81]</th>\n",
              "      <td>5</td>\n",
              "      <td>9</td>\n",
              "    </tr>\n",
              "    <tr>\n",
              "      <th>(81, 210]</th>\n",
              "      <td>5</td>\n",
              "      <td>9</td>\n",
              "    </tr>\n",
              "  </tbody>\n",
              "</table>\n",
              "</div>"
            ],
            "text/plain": [
              "Voa_heba    (-0.1, 1.0]  (1.0, 17.0]\n",
              "Tilym_heba                          \n",
              "(13, 47]              5            5\n",
              "(47, 81]              5            9\n",
              "(81, 210]             5            9"
            ]
          },
          "metadata": {
            "tags": []
          },
          "execution_count": 95
        }
      ]
    },
    {
      "cell_type": "code",
      "metadata": {
        "id": "aKXv4if0GcnQ",
        "colab_type": "code",
        "outputId": "df28e5dd-4363-492b-b5ae-b3da811e8280",
        "colab": {
          "base_uri": "https://localhost:8080/",
          "height": 292
        }
      },
      "source": [
        "expected, observed, stats = pingouin.chi2_independence(tilyvoa, x='Tilym_heba', y='Voa_heba')\n",
        "stats.round(5)"
      ],
      "execution_count": 0,
      "outputs": [
        {
          "output_type": "stream",
          "text": [
            "/usr/local/lib/python3.6/dist-packages/pingouin/contingency.py:149: UserWarning: Low count on expected frequencies.\n",
            "  warnings.warn('Low count on {} frequencies.'.format(name))\n"
          ],
          "name": "stderr"
        },
        {
          "output_type": "execute_result",
          "data": {
            "text/html": [
              "<div>\n",
              "<style scoped>\n",
              "    .dataframe tbody tr th:only-of-type {\n",
              "        vertical-align: middle;\n",
              "    }\n",
              "\n",
              "    .dataframe tbody tr th {\n",
              "        vertical-align: top;\n",
              "    }\n",
              "\n",
              "    .dataframe thead th {\n",
              "        text-align: right;\n",
              "    }\n",
              "</style>\n",
              "<table border=\"1\" class=\"dataframe\">\n",
              "  <thead>\n",
              "    <tr style=\"text-align: right;\">\n",
              "      <th></th>\n",
              "      <th>test</th>\n",
              "      <th>lambda</th>\n",
              "      <th>chi2</th>\n",
              "      <th>dof</th>\n",
              "      <th>p</th>\n",
              "      <th>cramer</th>\n",
              "      <th>power</th>\n",
              "    </tr>\n",
              "  </thead>\n",
              "  <tbody>\n",
              "    <tr>\n",
              "      <th>0</th>\n",
              "      <td>pearson</td>\n",
              "      <td>1.000</td>\n",
              "      <td>0.629</td>\n",
              "      <td>2.0</td>\n",
              "      <td>0.73001</td>\n",
              "      <td>0.12870</td>\n",
              "      <td>0.10045</td>\n",
              "    </tr>\n",
              "    <tr>\n",
              "      <th>1</th>\n",
              "      <td>cressie-read</td>\n",
              "      <td>0.667</td>\n",
              "      <td>0.626</td>\n",
              "      <td>2.0</td>\n",
              "      <td>0.73119</td>\n",
              "      <td>0.12837</td>\n",
              "      <td>0.10017</td>\n",
              "    </tr>\n",
              "    <tr>\n",
              "      <th>2</th>\n",
              "      <td>log-likelihood</td>\n",
              "      <td>0.000</td>\n",
              "      <td>0.621</td>\n",
              "      <td>2.0</td>\n",
              "      <td>0.73308</td>\n",
              "      <td>0.12784</td>\n",
              "      <td>0.09974</td>\n",
              "    </tr>\n",
              "    <tr>\n",
              "      <th>3</th>\n",
              "      <td>freeman-tukey</td>\n",
              "      <td>-0.500</td>\n",
              "      <td>0.618</td>\n",
              "      <td>2.0</td>\n",
              "      <td>0.73409</td>\n",
              "      <td>0.12755</td>\n",
              "      <td>0.09951</td>\n",
              "    </tr>\n",
              "    <tr>\n",
              "      <th>4</th>\n",
              "      <td>mod-log-likelihood</td>\n",
              "      <td>-1.000</td>\n",
              "      <td>0.616</td>\n",
              "      <td>2.0</td>\n",
              "      <td>0.73475</td>\n",
              "      <td>0.12737</td>\n",
              "      <td>0.09935</td>\n",
              "    </tr>\n",
              "    <tr>\n",
              "      <th>5</th>\n",
              "      <td>neyman</td>\n",
              "      <td>-2.000</td>\n",
              "      <td>0.616</td>\n",
              "      <td>2.0</td>\n",
              "      <td>0.73507</td>\n",
              "      <td>0.12728</td>\n",
              "      <td>0.09928</td>\n",
              "    </tr>\n",
              "  </tbody>\n",
              "</table>\n",
              "</div>"
            ],
            "text/plain": [
              "                 test  lambda   chi2  dof        p   cramer    power\n",
              "0             pearson   1.000  0.629  2.0  0.73001  0.12870  0.10045\n",
              "1        cressie-read   0.667  0.626  2.0  0.73119  0.12837  0.10017\n",
              "2      log-likelihood   0.000  0.621  2.0  0.73308  0.12784  0.09974\n",
              "3       freeman-tukey  -0.500  0.618  2.0  0.73409  0.12755  0.09951\n",
              "4  mod-log-likelihood  -1.000  0.616  2.0  0.73475  0.12737  0.09935\n",
              "5              neyman  -2.000  0.616  2.0  0.73507  0.12728  0.09928"
            ]
          },
          "metadata": {
            "tags": []
          },
          "execution_count": 97
        }
      ]
    },
    {
      "cell_type": "code",
      "metadata": {
        "id": "2piL_Bm89b0c",
        "colab_type": "code",
        "colab": {
          "base_uri": "https://localhost:8080/",
          "height": 769
        },
        "outputId": "717384cb-5ed2-41fb-bb15-86317e62d1e7"
      },
      "source": [
        "tilyvoa.index = pd.to_datetime(tilyvoa.index)\n",
        "\n",
        "#df = pd.DataFrame(index=tilyvoa.index, data={'Voatily tsy voa': tilyvoa['Tsyvoa'], 'Voatily voa':tilyvoa['Voa']})\n",
        "#df.index = pd.to_datetime(df.index)\n",
        "\n",
        "fig, ax = plt.subplots(figsize=(12, 12))\n",
        "\n",
        "ax.bar(tilyvoa.index, tilyvoa['Tsyvoa'], width= 0.2, label = 'Voatily tsy voa')\n",
        "ax.bar(tilyvoa.index, tilyvoa['Voa'], width= 0.2, bottom = tilyvoa['Tsyvoa'], label = 'Voatily voa')\n",
        "\n",
        "ax.set(xlabel ='Andro')\n",
        "\n",
        "date_form = DateFormatter(\"%m-%d\")\n",
        "ax.xaxis.set_major_formatter(date_form)\n",
        "\n",
        "ax.xaxis.set_major_locator(mdates.DayLocator(interval=3))\n",
        "ax.legend(loc= 'best')\n",
        "\n",
        "plt.savefig(path_to_save+'mdgtahatv.eps')\n",
        "\n",
        "plt.show()"
      ],
      "execution_count": 163,
      "outputs": [
        {
          "output_type": "stream",
          "text": [
            "The PostScript backend does not support transparency; partially transparent artists will be rendered opaque.\n",
            "The PostScript backend does not support transparency; partially transparent artists will be rendered opaque.\n"
          ],
          "name": "stderr"
        },
        {
          "output_type": "display_data",
          "data": {
            "image/png": "[encoded data removed]",
            "text/plain": [
              "<Figure size 864x864 with 1 Axes>"
            ]
          },
          "metadata": {
            "tags": [],
            "needs_background": "light"
          }
        }
      ]
    },
    {
      "cell_type": "code",
      "metadata": {
        "id": "mKF3LyZJVPPf",
        "colab_type": "code",
        "colab": {
          "base_uri": "https://localhost:8080/",
          "height": 245
        },
        "outputId": "7a6f73ce-da66-422f-ffd8-b96db7447261"
      },
      "source": [
        "datacounty = ke_datafar.groupby('Faritra')\n",
        "\n",
        "ketilyvoa = datacounty.get_group('Kenya')\n",
        "\n",
        "ketilyvoa.set_index('Daty', inplace=True)\n",
        "\n",
        "ketilyvoa['Tsyvoa'] = ketilyvoa['Tilyvao'] - ketilyvoa['Ivao']\n",
        "\n",
        "ketilyvoa['Tsyvoatomb'] = ketilyvoa['Tilyvaotomb'] - ketilyvoa['Ivao']\n",
        "\n",
        "ketilyvoa.index = pd.to_datetime(ketilyvoa.index)\n"
      ],
      "execution_count": 158,
      "outputs": [
        {
          "output_type": "stream",
          "text": [
            "/usr/local/lib/python3.6/dist-packages/ipykernel_launcher.py:7: SettingWithCopyWarning: \n",
            "A value is trying to be set on a copy of a slice from a DataFrame.\n",
            "Try using .loc[row_indexer,col_indexer] = value instead\n",
            "\n",
            "See the caveats in the documentation: https://pandas.pydata.org/pandas-docs/stable/user_guide/indexing.html#returning-a-view-versus-a-copy\n",
            "  import sys\n",
            "/usr/local/lib/python3.6/dist-packages/ipykernel_launcher.py:9: SettingWithCopyWarning: \n",
            "A value is trying to be set on a copy of a slice from a DataFrame.\n",
            "Try using .loc[row_indexer,col_indexer] = value instead\n",
            "\n",
            "See the caveats in the documentation: https://pandas.pydata.org/pandas-docs/stable/user_guide/indexing.html#returning-a-view-versus-a-copy\n",
            "  if __name__ == '__main__':\n"
          ],
          "name": "stderr"
        }
      ]
    },
    {
      "cell_type": "code",
      "metadata": {
        "id": "bjRkH0GGSTu5",
        "colab_type": "code",
        "colab": {
          "base_uri": "https://localhost:8080/",
          "height": 807
        },
        "outputId": "de0c7bde-6bc0-4230-9028-7cfb56ad0e9a"
      },
      "source": [
        "fig, ax = plt.subplots(figsize=(12, 12))\n",
        "\n",
        "frt = np.ones(len(ketilyvoa.index))*datetime.timedelta(hours=2)\n",
        "\n",
        "ax.bar(ketilyvoa.index + frt, ketilyvoa['Tsyvoatomb'], width= 0.2, color = 'black', label = 'Tombana voatily tsy voa (KE)')\n",
        "ax.bar(ketilyvoa.index + frt, ketilyvoa['Ivao'], width= 0.2, color ='cyan', bottom = ketilyvoa['Tsyvoatomb'], label = 'Voatily voa (KE)')\n",
        "ax.bar(ketilyvoa.index - frt, ketilyvoa['Tsyvoa'], width= 0.2, color = 'red', label = 'Voatily tsy voa')\n",
        "\n",
        "ax.set(xlabel ='Andro')\n",
        "\n",
        "date_form = DateFormatter(\"%m-%d\")\n",
        "ax.xaxis.set_major_formatter(date_form)\n",
        "\n",
        "ax.xaxis.set_major_locator(mdates.DayLocator(interval=3))\n",
        "ax.legend(loc= 'upper left')\n",
        "\n",
        "plt.ylim(0,1200)\n",
        "plt.savefig(path_to_save+'ketahatv.eps')\n",
        "\n",
        "plt.show()"
      ],
      "execution_count": 169,
      "outputs": [
        {
          "output_type": "stream",
          "text": [
            "/usr/local/lib/python3.6/dist-packages/pandas/core/arrays/datetimelike.py:1268: PerformanceWarning: Adding/subtracting array of DateOffsets to DatetimeArray not vectorized\n",
            "  PerformanceWarning,\n",
            "The PostScript backend does not support transparency; partially transparent artists will be rendered opaque.\n",
            "The PostScript backend does not support transparency; partially transparent artists will be rendered opaque.\n"
          ],
          "name": "stderr"
        },
        {
          "output_type": "display_data",
          "data": {
            "image/png": "[encoded data removed]",
            "text/plain": [
              "<Figure size 864x864 with 1 Axes>"
            ]
          },
          "metadata": {
            "tags": [],
            "needs_background": "light"
          }
        }
      ]
    },
    {
      "cell_type": "code",
      "metadata": {
        "id": "oZtaX_vopQ-B",
        "colab_type": "code",
        "colab": {
          "base_uri": "https://localhost:8080/",
          "height": 807
        },
        "outputId": "830268c8-155d-493f-91b5-9b08a10aa49e"
      },
      "source": [
        "ketilyvoam = ketilyvoa.loc['2020-03-18':'2020-05-08']\n",
        "tilyvoam = tilyvoa.loc['2020-03-18':'2020-05-08']\n",
        "\n",
        "fig, ax = plt.subplots(figsize=(12, 12))\n",
        "\n",
        "frtm = np.ones(len(tilyvoam.index))*datetime.timedelta(hours=2)\n",
        "\n",
        "ax.bar(tilyvoam.index - frtm, tilyvoam['Tsyvoa'], width = 0.2, color= 'green', label = 'Voatily tsy voa (MDG)')\n",
        "ax.bar(tilyvoam.index - frtm, tilyvoam['Voa'], width = 0.2, color= 'red', bottom = tilyvoam['Tsyvoa'], label = 'Voatily voa (MDG)')\n",
        "\n",
        "ax.bar(ketilyvoam.index + frtm, ketilyvoam['Tsyvoatomb'], width= 0.2, color = 'black', label = 'Tombana voatily tsy voa')\n",
        "ax.bar(ketilyvoam.index + frtm, ketilyvoam['Ivao'], width= 0.2, color ='cyan', bottom = ketilyvoam['Tsyvoatomb'], label = 'Voatily voa')\n",
        "\n",
        "ax.set(xlabel ='Andro')\n",
        "\n",
        "date_form = DateFormatter(\"%m-%d\")\n",
        "ax.xaxis.set_major_formatter(date_form)\n",
        "\n",
        "ax.xaxis.set_major_locator(mdates.DayLocator(interval=3))\n",
        "ax.legend(loc= 'best')\n",
        "\n",
        "plt.ylim(0,1200)\n",
        "plt.savefig(path_to_save+'mdgketahatv.eps')\n",
        "\n",
        "plt.show()"
      ],
      "execution_count": 170,
      "outputs": [
        {
          "output_type": "stream",
          "text": [
            "/usr/local/lib/python3.6/dist-packages/pandas/core/arrays/datetimelike.py:1268: PerformanceWarning: Adding/subtracting array of DateOffsets to DatetimeArray not vectorized\n",
            "  PerformanceWarning,\n",
            "The PostScript backend does not support transparency; partially transparent artists will be rendered opaque.\n",
            "The PostScript backend does not support transparency; partially transparent artists will be rendered opaque.\n"
          ],
          "name": "stderr"
        },
        {
          "output_type": "display_data",
          "data": {
            "image/png": "[encoded data removed]",
            "text/plain": [
              "<Figure size 864x864 with 1 Axes>"
            ]
          },
          "metadata": {
            "tags": [],
            "needs_background": "light"
          }
        }
      ]
    },
    {
      "cell_type": "code",
      "metadata": {
        "id": "kiylmA8Mxjkr",
        "colab_type": "code",
        "colab": {}
      },
      "source": [
        ""
      ],
      "execution_count": 0,
      "outputs": []
    }
  ]
}