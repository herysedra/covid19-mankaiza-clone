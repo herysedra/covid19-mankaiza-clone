{
  "nbformat": 4,
  "nbformat_minor": 0,
  "metadata": {
    "colab": {
      "name": "Fampita_mdg_ke.ipynb",
      "provenance": [],
      "authorship_tag": "ABX9TyMUVKESCs/9d4KRd4z0esfG",
      "include_colab_link": true
    },
    "kernelspec": {
      "name": "python3",
      "display_name": "Python 3"
    }
  },
  "cells": [
    {
      "cell_type": "markdown",
      "metadata": {
        "id": "view-in-github",
        "colab_type": "text"
      },
      "source": [
        "<a href=\"https://colab.research.google.com/github/herysedra/covid19-mankaiza-clone/blob/andrana/stats/Fampita_mdg_ke.ipynb\" target=\"_parent\"><img src=\"https://colab.research.google.com/assets/colab-badge.svg\" alt=\"Open In Colab\"/></a>"
      ]
    },
    {
      "cell_type": "code",
      "metadata": {
        "id": "QMzvahFYv0eW",
        "colab_type": "code",
        "outputId": "6401b996-1b04-41ea-9239-a649b93b36d9",
        "colab": {
          "base_uri": "https://localhost:8080/",
          "height": 54
        }
      },
      "source": [
        "from google.colab import drive\n",
        "drive.mount('/content/drive')"
      ],
      "execution_count": 17,
      "outputs": [
        {
          "output_type": "stream",
          "text": [
            "Drive already mounted at /content/drive; to attempt to forcibly remount, call drive.mount(\"/content/drive\", force_remount=True).\n"
          ],
          "name": "stdout"
        }
      ]
    },
    {
      "cell_type": "code",
      "metadata": {
        "id": "kCidWUiYwH_n",
        "colab_type": "code",
        "colab": {}
      },
      "source": [
        "!pip install pingouin"
      ],
      "execution_count": 0,
      "outputs": []
    },
    {
      "cell_type": "code",
      "metadata": {
        "id": "eChNAa5ewMY4",
        "colab_type": "code",
        "colab": {}
      },
      "source": [
        "import pandas as pd\n",
        "import numpy as np\n",
        "import matplotlib.pyplot as plt\n",
        "import scipy.stats\n",
        "import matplotlib\n",
        "import pickle\n",
        "\n",
        "import pymc3 as pm\n",
        "import theano.tensor as tt\n",
        "import theano\n",
        "import datetime\n",
        "import time\n",
        "import pingouin \n",
        "\n",
        "#from pingouin import corr\n",
        "import pandas.util.testing as tm\n",
        "\n",
        "cco_cases_mdg = pd.read_csv(\"/content/drive/My Drive/data/cco mdg.csv\")\n",
        "\n",
        "tilyvoa = pd.read_csv(\"/content/drive/My Drive/data/tilyvoa.csv\")\n",
        "\n",
        "Kenyans_data = pd.read_csv(\"/content/drive/My Drive/data/Kenyans data.csv\")\n",
        "\n",
        "mdg_databe = pd.read_csv(\"/content/drive/My Drive/data/databe mdg.csv\")\n",
        "\n",
        "\n",
        "cco_cases_mdg.set_index('Date', inplace=True)\n",
        "\n",
        "tilyvoa.set_index('Daty', inplace=True)\n",
        "\n",
        "\n",
        "\n",
        "path_to_save = '/content/drive/My Drive/sary/'\n",
        "path_data = '/content/drive/My Drive/data/'"
      ],
      "execution_count": 0,
      "outputs": []
    },
    {
      "cell_type": "code",
      "metadata": {
        "id": "UfYRGU0lHo3N",
        "colab_type": "code",
        "colab": {
          "base_uri": "https://localhost:8080/",
          "height": 841
        },
        "outputId": "e010cd81-c856-48cd-bf2a-db4eca14a07d"
      },
      "source": [
        "mdg_databe.info()\n",
        "mdg_databe "
      ],
      "execution_count": 19,
      "outputs": [
        {
          "output_type": "stream",
          "text": [
            "<class 'pandas.core.frame.DataFrame'>\n",
            "RangeIndex: 171 entries, 0 to 170\n",
            "Data columns (total 11 columns):\n",
            " #   Column       Non-Null Count  Dtype  \n",
            "---  ------       --------------  -----  \n",
            " 0   Unnamed: 0   0 non-null      float64\n",
            " 1   Unnamed: 1   171 non-null    object \n",
            " 2   Unnamed: 2   119 non-null    object \n",
            " 3   Unnamed: 3   116 non-null    object \n",
            " 4   Unnamed: 4   171 non-null    object \n",
            " 5   Unnamed: 5   48 non-null     object \n",
            " 6   Unnamed: 6   74 non-null     object \n",
            " 7   Unnamed: 7   111 non-null    object \n",
            " 8   Unnamed: 8   45 non-null     object \n",
            " 9   Unnamed: 9   38 non-null     object \n",
            " 10  Unnamed: 10  171 non-null    object \n",
            "dtypes: float64(1), object(10)\n",
            "memory usage: 14.8+ KB\n"
          ],
          "name": "stdout"
        },
        {
          "output_type": "execute_result",
          "data": {
            "text/html": [
              "<div>\n",
              "<style scoped>\n",
              "    .dataframe tbody tr th:only-of-type {\n",
              "        vertical-align: middle;\n",
              "    }\n",
              "\n",
              "    .dataframe tbody tr th {\n",
              "        vertical-align: top;\n",
              "    }\n",
              "\n",
              "    .dataframe thead th {\n",
              "        text-align: right;\n",
              "    }\n",
              "</style>\n",
              "<table border=\"1\" class=\"dataframe\">\n",
              "  <thead>\n",
              "    <tr style=\"text-align: right;\">\n",
              "      <th></th>\n",
              "      <th>Unnamed: 0</th>\n",
              "      <th>Unnamed: 1</th>\n",
              "      <th>Unnamed: 2</th>\n",
              "      <th>Unnamed: 3</th>\n",
              "      <th>Unnamed: 4</th>\n",
              "      <th>Unnamed: 5</th>\n",
              "      <th>Unnamed: 6</th>\n",
              "      <th>Unnamed: 7</th>\n",
              "      <th>Unnamed: 8</th>\n",
              "      <th>Unnamed: 9</th>\n",
              "      <th>Unnamed: 10</th>\n",
              "    </tr>\n",
              "  </thead>\n",
              "  <tbody>\n",
              "    <tr>\n",
              "      <th>0</th>\n",
              "      <td>NaN</td>\n",
              "      <td>Loharano</td>\n",
              "      <td>Lnav</td>\n",
              "      <td>Taona</td>\n",
              "      <td>Daty</td>\n",
              "      <td>Toerana</td>\n",
              "      <td>Distrika</td>\n",
              "      <td>Faritra</td>\n",
              "      <td>Avaiza</td>\n",
              "      <td>Fiaviana</td>\n",
              "      <td>Voa sa tsia</td>\n",
              "    </tr>\n",
              "    <tr>\n",
              "      <th>1</th>\n",
              "      <td>NaN</td>\n",
              "      <td>FB-TVM</td>\n",
              "      <td>lahy</td>\n",
              "      <td>26</td>\n",
              "      <td>7/5</td>\n",
              "      <td>Tanamborozano</td>\n",
              "      <td>Toamasina t</td>\n",
              "      <td>Toamasina</td>\n",
              "      <td>NaN</td>\n",
              "      <td>NaN</td>\n",
              "      <td>1</td>\n",
              "    </tr>\n",
              "    <tr>\n",
              "      <th>2</th>\n",
              "      <td>NaN</td>\n",
              "      <td>FB-TVM</td>\n",
              "      <td>lahy</td>\n",
              "      <td>42</td>\n",
              "      <td>7/5</td>\n",
              "      <td>Ambohijafy Avaratra</td>\n",
              "      <td>Toamasina t</td>\n",
              "      <td>Toamasina</td>\n",
              "      <td>NaN</td>\n",
              "      <td>NaN</td>\n",
              "      <td>1</td>\n",
              "    </tr>\n",
              "    <tr>\n",
              "      <th>3</th>\n",
              "      <td>NaN</td>\n",
              "      <td>FB-TVM</td>\n",
              "      <td>vavy</td>\n",
              "      <td>26</td>\n",
              "      <td>7/5</td>\n",
              "      <td>Morarano</td>\n",
              "      <td>Toamasina t</td>\n",
              "      <td>Toamasina</td>\n",
              "      <td>NaN</td>\n",
              "      <td>NaN</td>\n",
              "      <td>1</td>\n",
              "    </tr>\n",
              "    <tr>\n",
              "      <th>4</th>\n",
              "      <td>NaN</td>\n",
              "      <td>FB-TVM</td>\n",
              "      <td>vavy</td>\n",
              "      <td>27</td>\n",
              "      <td>7/5</td>\n",
              "      <td>Morarano</td>\n",
              "      <td>Toamasina t</td>\n",
              "      <td>Toamasina</td>\n",
              "      <td>NaN</td>\n",
              "      <td>NaN</td>\n",
              "      <td>1</td>\n",
              "    </tr>\n",
              "    <tr>\n",
              "      <th>...</th>\n",
              "      <td>...</td>\n",
              "      <td>...</td>\n",
              "      <td>...</td>\n",
              "      <td>...</td>\n",
              "      <td>...</td>\n",
              "      <td>...</td>\n",
              "      <td>...</td>\n",
              "      <td>...</td>\n",
              "      <td>...</td>\n",
              "      <td>...</td>\n",
              "      <td>...</td>\n",
              "    </tr>\n",
              "    <tr>\n",
              "      <th>166</th>\n",
              "      <td>NaN</td>\n",
              "      <td>FB-TVM</td>\n",
              "      <td>lahy</td>\n",
              "      <td>25</td>\n",
              "      <td>26/3</td>\n",
              "      <td>NaN</td>\n",
              "      <td>NaN</td>\n",
              "      <td>NaN</td>\n",
              "      <td>sidina</td>\n",
              "      <td>malagasy</td>\n",
              "      <td>1</td>\n",
              "    </tr>\n",
              "    <tr>\n",
              "      <th>167</th>\n",
              "      <td>NaN</td>\n",
              "      <td>FB-TVM</td>\n",
              "      <td>lahy</td>\n",
              "      <td>72</td>\n",
              "      <td>26/3</td>\n",
              "      <td>NaN</td>\n",
              "      <td>NaN</td>\n",
              "      <td>NaN</td>\n",
              "      <td>sidina</td>\n",
              "      <td>vahiny</td>\n",
              "      <td>1</td>\n",
              "    </tr>\n",
              "    <tr>\n",
              "      <th>168</th>\n",
              "      <td>NaN</td>\n",
              "      <td>FB-TVM</td>\n",
              "      <td>lahy</td>\n",
              "      <td>31</td>\n",
              "      <td>26/3</td>\n",
              "      <td>NaN</td>\n",
              "      <td>NaN</td>\n",
              "      <td>NaN</td>\n",
              "      <td>sidina</td>\n",
              "      <td>malagasy</td>\n",
              "      <td>1</td>\n",
              "    </tr>\n",
              "    <tr>\n",
              "      <th>169</th>\n",
              "      <td>NaN</td>\n",
              "      <td>FB-TVM</td>\n",
              "      <td>vavy</td>\n",
              "      <td>63</td>\n",
              "      <td>26/3</td>\n",
              "      <td>NaN</td>\n",
              "      <td>NaN</td>\n",
              "      <td>NaN</td>\n",
              "      <td>sidina</td>\n",
              "      <td>malagasy</td>\n",
              "      <td>1</td>\n",
              "    </tr>\n",
              "    <tr>\n",
              "      <th>170</th>\n",
              "      <td>NaN</td>\n",
              "      <td>FB-TVM</td>\n",
              "      <td>NaN</td>\n",
              "      <td>NaN</td>\n",
              "      <td>25/3</td>\n",
              "      <td>NaN</td>\n",
              "      <td>NaN</td>\n",
              "      <td>NaN</td>\n",
              "      <td>NaN</td>\n",
              "      <td>NaN</td>\n",
              "      <td>0</td>\n",
              "    </tr>\n",
              "  </tbody>\n",
              "</table>\n",
              "<p>171 rows × 11 columns</p>\n",
              "</div>"
            ],
            "text/plain": [
              "     Unnamed: 0 Unnamed: 1 Unnamed: 2  ... Unnamed: 8 Unnamed: 9  Unnamed: 10\n",
              "0           NaN   Loharano       Lnav  ...     Avaiza   Fiaviana  Voa sa tsia\n",
              "1           NaN     FB-TVM       lahy  ...        NaN        NaN            1\n",
              "2           NaN     FB-TVM       lahy  ...        NaN        NaN            1\n",
              "3           NaN     FB-TVM       vavy  ...        NaN        NaN            1\n",
              "4           NaN     FB-TVM       vavy  ...        NaN        NaN            1\n",
              "..          ...        ...        ...  ...        ...        ...          ...\n",
              "166         NaN     FB-TVM       lahy  ...     sidina   malagasy            1\n",
              "167         NaN     FB-TVM       lahy  ...     sidina     vahiny            1\n",
              "168         NaN     FB-TVM       lahy  ...     sidina   malagasy            1\n",
              "169         NaN     FB-TVM       vavy  ...     sidina   malagasy            1\n",
              "170         NaN     FB-TVM        NaN  ...        NaN        NaN            0\n",
              "\n",
              "[171 rows x 11 columns]"
            ]
          },
          "metadata": {
            "tags": []
          },
          "execution_count": 19
        }
      ]
    },
    {
      "cell_type": "code",
      "metadata": {
        "id": "EeTapKEWHvFE",
        "colab_type": "code",
        "colab": {}
      },
      "source": [
        "Kenyans_data.info()\n",
        "Kenyans_data"
      ],
      "execution_count": 0,
      "outputs": []
    },
    {
      "cell_type": "code",
      "metadata": {
        "id": "_08xiFCC0HcJ",
        "colab_type": "code",
        "outputId": "1bfc99e1-9133-41ce-c55e-22c45fb400bf",
        "colab": {
          "base_uri": "https://localhost:8080/",
          "height": 206
        }
      },
      "source": [
        " df = pd.DataFrame([('bird', 'Falconiformes', 389.0),\n",
        "                      ('bird', 'Psittaciformes', 24.0),\n",
        "                       ('mammal', 'Carnivora', 80.2),\n",
        "                       ('mammal', 'Primates', np.nan),\n",
        "                       ('mammal', 'Carnivora', 58)],\n",
        "                       index=['falcon', 'parrot', 'lion', 'monkey', 'leopard'],\n",
        "                      columns=('class', 'order', 'max_speed'))\n",
        "df "
      ],
      "execution_count": 0,
      "outputs": [
        {
          "output_type": "execute_result",
          "data": {
            "text/html": [
              "<div>\n",
              "<style scoped>\n",
              "    .dataframe tbody tr th:only-of-type {\n",
              "        vertical-align: middle;\n",
              "    }\n",
              "\n",
              "    .dataframe tbody tr th {\n",
              "        vertical-align: top;\n",
              "    }\n",
              "\n",
              "    .dataframe thead th {\n",
              "        text-align: right;\n",
              "    }\n",
              "</style>\n",
              "<table border=\"1\" class=\"dataframe\">\n",
              "  <thead>\n",
              "    <tr style=\"text-align: right;\">\n",
              "      <th></th>\n",
              "      <th>class</th>\n",
              "      <th>order</th>\n",
              "      <th>max_speed</th>\n",
              "    </tr>\n",
              "  </thead>\n",
              "  <tbody>\n",
              "    <tr>\n",
              "      <th>falcon</th>\n",
              "      <td>bird</td>\n",
              "      <td>Falconiformes</td>\n",
              "      <td>389.0</td>\n",
              "    </tr>\n",
              "    <tr>\n",
              "      <th>parrot</th>\n",
              "      <td>bird</td>\n",
              "      <td>Psittaciformes</td>\n",
              "      <td>24.0</td>\n",
              "    </tr>\n",
              "    <tr>\n",
              "      <th>lion</th>\n",
              "      <td>mammal</td>\n",
              "      <td>Carnivora</td>\n",
              "      <td>80.2</td>\n",
              "    </tr>\n",
              "    <tr>\n",
              "      <th>monkey</th>\n",
              "      <td>mammal</td>\n",
              "      <td>Primates</td>\n",
              "      <td>NaN</td>\n",
              "    </tr>\n",
              "    <tr>\n",
              "      <th>leopard</th>\n",
              "      <td>mammal</td>\n",
              "      <td>Carnivora</td>\n",
              "      <td>58.0</td>\n",
              "    </tr>\n",
              "  </tbody>\n",
              "</table>\n",
              "</div>"
            ],
            "text/plain": [
              "          class           order  max_speed\n",
              "falcon     bird   Falconiformes      389.0\n",
              "parrot     bird  Psittaciformes       24.0\n",
              "lion     mammal       Carnivora       80.2\n",
              "monkey   mammal        Primates        NaN\n",
              "leopard  mammal       Carnivora       58.0"
            ]
          },
          "metadata": {
            "tags": []
          },
          "execution_count": 11
        }
      ]
    },
    {
      "cell_type": "code",
      "metadata": {
        "id": "VLhYrYrO2FAx",
        "colab_type": "code",
        "outputId": "492a2616-e0f9-4de2-d0d0-2529da7cd11f",
        "colab": {
          "base_uri": "https://localhost:8080/",
          "height": 34
        }
      },
      "source": [
        "grouped = df.groupby('class')\n",
        "print(grouped)"
      ],
      "execution_count": 0,
      "outputs": [
        {
          "output_type": "stream",
          "text": [
            "<pandas.core.groupby.generic.DataFrameGroupBy object at 0x7f2cb21aa668>\n"
          ],
          "name": "stdout"
        }
      ]
    },
    {
      "cell_type": "code",
      "metadata": {
        "id": "0jyVKq1W2SFp",
        "colab_type": "code",
        "colab": {}
      },
      "source": [
        "grouped = df.groupby('order', axis='columns')\n",
        "grouped"
      ],
      "execution_count": 0,
      "outputs": []
    },
    {
      "cell_type": "code",
      "metadata": {
        "id": "rw2n7Udz2UDh",
        "colab_type": "code",
        "colab": {}
      },
      "source": [
        "grouped = df.groupby(['class', 'order'])\n",
        "grouped"
      ],
      "execution_count": 0,
      "outputs": []
    }
  ]
}